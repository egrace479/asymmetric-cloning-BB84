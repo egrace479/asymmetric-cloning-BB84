{
 "cells": [
  {
   "cell_type": "markdown",
   "id": "58c79f7e-e023-4538-b927-1151c9738eea",
   "metadata": {},
   "source": [
    "**Summary.** Native gate experiment in the $Y$ basis with bit value 1."
   ]
  },
  {
   "cell_type": "code",
   "execution_count": 1,
   "id": "03f42566-8727-418e-9c7c-6f744870c499",
   "metadata": {},
   "outputs": [],
   "source": [
    "import numpy as np\n",
    "import matplotlib.pyplot as plt\n",
    "import csv\n",
    "import pandas as pd\n",
    "\n",
    "# from qiskit import *\n",
    "# Importing standard Qiskit libraries\n",
    "from qiskit import QuantumCircuit, QuantumRegister, ClassicalRegister\n",
    "from qiskit import IBMQ, Aer, execute, assemble, transpile\n",
    "from qiskit.visualization import plot_histogram, plot_bloch_vector\n",
    "from qiskit.visualization import plot_state_qsphere, plot_state_city, plot_bloch_multivector\n",
    "from qiskit.visualization import array_to_latex\n",
    "import qiskit.quantum_info as qi\n",
    "# from qiskit_ibm_runtime import QiskitRuntimeService\n",
    "\n",
    "from qiskit_ionq import IonQProvider\n",
    "# import gates\n",
    "from qiskit_ionq import GPIGate, GPI2Gate, MSGate\n",
    "from qiskit import Aer, execute, assemble\n",
    "from qiskit.providers.jobstatus import JobStatus\n",
    "import time\n",
    "\n",
    "from pipeline.qiskit_circuit_constructor import qiskit_alice_prepares, qiskit_measurement_prep, qiskit_clone, construct_qiskit_circuit\n",
    "from pipeline.ionq_circuit_constructor import ionq_alice_prepares\n",
    "from pipeline.ionq_circuit_constructor import ionq_measurement_prep\n",
    "from pipeline.ionq_circuit_constructor import ionq_clone\n",
    "from pipeline.ionq_circuit_constructor import construct_ionq_circuit\n",
    "#from pipeline.run_experiments import fidelities\n",
    "#from pipeline.run_experiments import get_circuit\n",
    "#from pipeline.run_experiments import run_experiment_ionq\n",
    "#from pipeline.run_experiments import run_simulation\n",
    "\n",
    "provider = IonQProvider(\"2BCQ6XP8m8wN0BPl3KawTCsAwYEBn73F\")\n",
    "#native_simulator = provider.get_backend(\"ionq_simulator\", gateset=\"native\")\n",
    "native_qpu = provider.get_backend(\"ionq_qpu\", gateset=\"native\")\n",
    "\n",
    "#ionq_sim = provider.get_backend(\"ionq_simulator\")\n",
    "#ionq_qpu = provider.get_backend(\"ionq_qpu\")"
   ]
  },
  {
   "cell_type": "code",
   "execution_count": 3,
   "id": "94a11e66-5a4a-47a5-ad20-918c553ff5e2",
   "metadata": {},
   "outputs": [],
   "source": [
    "# Selection of Experiment Parameters\n",
    "N = 100 # number of randomly selected angles from 0 to pi/4\n",
    "shots = 100 # number of shots for each input angle\n",
    "basis = 'Y'\n",
    "bitval = 1\n",
    "filename = 'Experiment_July16_2023_Native_QPU_FullSize_Ybasis_bit1.csv'\n"
   ]
  },
  {
   "cell_type": "code",
   "execution_count": 4,
   "id": "84b9b5c8-868b-4ced-91a2-5f6d53489b14",
   "metadata": {},
   "outputs": [],
   "source": [
    "def retrieve_data(job_num, angle, bitval, shot_count):\n",
    "    ionq = provider.get_backend(\"ionq_qpu\")\n",
    "    retrieved = ionq.retrieve_job(job_num) \n",
    "    counts = retrieved.result().get_counts()\n",
    "    \n",
    "    out000 = retrieved.result().get_counts().get(\"000\")\n",
    "    out001 = retrieved.result().get_counts().get(\"001\")\n",
    "    out010 = retrieved.result().get_counts().get(\"010\")\n",
    "    out011 = retrieved.result().get_counts().get(\"011\")\n",
    "    out100 = retrieved.result().get_counts().get(\"100\")\n",
    "    out101 = retrieved.result().get_counts().get(\"101\")\n",
    "    out110 = retrieved.result().get_counts().get(\"110\")\n",
    "    out111 = retrieved.result().get_counts().get(\"111\")\n",
    "    \n",
    "    if out000 == None:\n",
    "        out000 = 0\n",
    "    if out001 == None:\n",
    "        out001 = 0\n",
    "    if out010 == None:\n",
    "        out010 = 0\n",
    "    if out011 == None:\n",
    "        out011 = 0\n",
    "        \n",
    "    if out100 == None:\n",
    "        out100 = 0\n",
    "    if out101 == None:\n",
    "        out101 = 0\n",
    "    if out110 == None:\n",
    "        out110 = 0\n",
    "    if out111 == None:\n",
    "        out111 = 0\n",
    "        \n",
    "    B,E = fidelities(out000, out001, out010, out011, out100, out101, out110, out111, bitval, shot_count)\n",
    "    \n",
    "    row_data = [job_num, angle, shot_count, out000, out001, out010, out011, out100, out101, out110, out111, B, E]\n",
    "        \n",
    "    return row_data"
   ]
  },
  {
   "cell_type": "code",
   "execution_count": 5,
   "id": "842192c3-aa44-40ca-bb42-412f36a7cce6",
   "metadata": {},
   "outputs": [],
   "source": [
    "def fidelities(out000, out001, out010, out011, out100, out101, out110, out111, bitval, shots):\n",
    "    '''\n",
    "    This function averages the fidelity of the clones and ancilla over experiment.\n",
    "\n",
    "    Parameters:\n",
    "    --------------\n",
    "    outijk -\n",
    "    bitval -\n",
    "    shots - Number of samples.\n",
    "\n",
    "    Returns:\n",
    "    --------------\n",
    "    bob_fidelity - Fidelity of copy sent to intended recipient (Bob).\n",
    "    eve_fidelity - Fidelity of copy kept by eavesdropper (Eve).\n",
    "    ancilla_fidelity - Fidelity of the ancilla.\n",
    "    \n",
    "    '''\n",
    "    \n",
    "    if bitval == 1:\n",
    "        bob_fidelity = (out001 + out011 + out101 + out111)/shots\n",
    "        eve_fidelity = (out010 + out011 + out110 + out111)/shots\n",
    "        #ancilla_fidelity = (out100 + out101 + out110 + out111)/shots\n",
    "        \n",
    "    if bitval == 0:\n",
    "        bob_fidelity = (out010 + out000 + out110 + out100)/shots\n",
    "        eve_fidelity = (out001 + out000 + out101 + out100)/shots\n",
    "        #ancilla_fidelity = (out000 + out001 + out010 + out011)/shots\n",
    "        \n",
    "    return bob_fidelity, eve_fidelity"
   ]
  },
  {
   "cell_type": "code",
   "execution_count": 6,
   "id": "bfed2b57-84af-4de7-930e-e6da7506dbb2",
   "metadata": {},
   "outputs": [],
   "source": [
    "def get_circuit(angle, bitval, basis):\n",
    "    qc = QuantumCircuit(3,3)\n",
    "    \n",
    "    qc = ionq_alice_prepares(qc, bitval, basis)\n",
    "    qc.barrier()\n",
    "    qc = ionq_clone(qc, angle)\n",
    "    qc.barrier()\n",
    "    qc = ionq_measurement_prep(qc, basis)\n",
    "    \n",
    "    qc.measure(0,0)\n",
    "    qc.measure(1,1)\n",
    "    qc.measure(2,2)\n",
    "    return qc"
   ]
  },
  {
   "cell_type": "code",
   "execution_count": 7,
   "id": "a682eda6-a4e0-436c-8b29-90ec7e48a507",
   "metadata": {},
   "outputs": [],
   "source": [
    "def experiment_qpu(angle, bitval, basis, shot_count):\n",
    "    qc = get_circuit(angle, bitval, basis)\n",
    "    \n",
    "    #ionq_qpu = provider.get_backend(\"ionq_qpu\")\n",
    "    job = native_qpu.run(qc, shots = shot_count)\n",
    "\n",
    "    job_data = [job.job_id(), angle, bitval, basis, shot_count]\n",
    "    \n",
    "    return job_data"
   ]
  },
  {
   "cell_type": "code",
   "execution_count": 8,
   "id": "1bb0b83f-831d-463b-a336-08393cb1aaa3",
   "metadata": {},
   "outputs": [],
   "source": [
    "# Random selection of angles\n",
    "def angles(N):\n",
    "    Angles = np.random.uniform(0, np.pi/4, N)\n",
    "    Angles = np.sort(Angles)\n",
    "    return Angles"
   ]
  },
  {
   "cell_type": "code",
   "execution_count": 9,
   "id": "184d1ae7-530f-442e-968d-468035b476ff",
   "metadata": {},
   "outputs": [],
   "source": [
    "def record_experiment_setup(filename, Angles, bitval, basis, shots): \n",
    "    header = ['Job Number', 'Angle', 'Bit Value', 'Basis', 'Total Shots']\n",
    "\n",
    "    with open(filename, 'w', encoding = 'UTF8') as f:\n",
    "        writer = csv.writer(f)\n",
    "        writer.writerow(header)\n",
    "    \n",
    "        for j in range(N):\n",
    "            job_data = experiment_qpu(Angles[j], bitval, basis, shots)\n",
    "            writer.writerow(job_data)\n",
    "            print(job_data)\n",
    "        \n",
    "        f.close()  \n",
    "        \n",
    "        return 'Complete'"
   ]
  },
  {
   "cell_type": "code",
   "execution_count": 10,
   "id": "09adae80-426c-4905-947c-12f0db24ce08",
   "metadata": {},
   "outputs": [],
   "source": [
    "def record_experiment_data(filename, Angles, bitval, shots):\n",
    "    Jobs_Data = pd.read_csv(filename)\n",
    "    JobNumbers = Jobs_Data.iloc[:, 0]\n",
    "    \n",
    "    header = ['Job Number', 'Angle','Total Shots', '000', '001', '010', '011', '100', '101', '110', '111', 'Bobs Fidelity', 'Eves Fidelity']\n",
    "\n",
    "    with open(filename, 'w', encoding = 'UTF8') as f:\n",
    "        writer = csv.writer(f)\n",
    "        writer.writerow(header)\n",
    "\n",
    "        for j in range(len(JobNumbers)):\n",
    "            row_data = retrieve_data(JobNumbers[j], Angles[j], bitval, shots)\n",
    "            writer.writerow(row_data)\n",
    "\n",
    "        f.close()\n",
    "    \n",
    "    return 'Complete'"
   ]
  },
  {
   "cell_type": "code",
   "execution_count": 11,
   "id": "b1acbae2-41f5-4218-b77a-fcc027396c65",
   "metadata": {},
   "outputs": [],
   "source": [
    "def get_data(filename):\n",
    "    Completed_Job_Data = pd.read_csv(filename)\n",
    "\n",
    "    JobAngles = Completed_Job_Data.iloc[:, 1]\n",
    "    BobFidelity = Completed_Job_Data.iloc[:, 11]\n",
    "    EveFidelity = Completed_Job_Data.iloc[:, 12]\n",
    "\n",
    "    JobAngles = np.array(JobAngles)\n",
    "    BobFidelity = np.array(BobFidelity)\n",
    "    EveFidelity = np.array(EveFidelity)\n",
    "    \n",
    "    return  JobAngles, BobFidelity, EveFidelity"
   ]
  },
  {
   "cell_type": "code",
   "execution_count": 12,
   "id": "aad39313-3024-451c-b4d4-6b93c2800724",
   "metadata": {},
   "outputs": [],
   "source": [
    "def fidelity_curves(JobAngles, BobFidelity, EveFidelity, degree):\n",
    "    Model_Bob = np.poly1d(np.polyfit(JobAngles, BobFidelity, degree))\n",
    "    Model_Eve = np.poly1d(np.polyfit(JobAngles, EveFidelity, degree))\n",
    "    Thetas = np.linspace(0, np.pi/4, 100)\n",
    "    Model_Bob_Curve = Model_Bob(Thetas)\n",
    "    Model_Eve_Curve = Model_Eve(Thetas)\n",
    "    return Thetas, Model_Bob_Curve, Model_Eve_Curve"
   ]
  },
  {
   "cell_type": "code",
   "execution_count": 13,
   "id": "01196928-01a4-4c61-b00f-029e5bf75166",
   "metadata": {},
   "outputs": [],
   "source": [
    "def QBER_Bob_exp(N, BobFidelity):\n",
    "    Q = np.ones(N)\n",
    "    Q = Q - BobFidelity\n",
    "    return Q"
   ]
  },
  {
   "cell_type": "code",
   "execution_count": 14,
   "id": "d9378aed-1bf2-4cba-9751-3db48740483f",
   "metadata": {},
   "outputs": [],
   "source": [
    "def binary_entropy(t):\n",
    "    if t == 0 or t == 1:\n",
    "        return 0\n",
    "    else:\n",
    "        return -t * np.log2(t) - (1-t) * np.log2(1-t)"
   ]
  },
  {
   "cell_type": "code",
   "execution_count": 15,
   "id": "5057163c-dc9a-4afe-afe4-f4daf5b1289f",
   "metadata": {},
   "outputs": [],
   "source": [
    "# Mutual information between Alice and Bob\n",
    "def Info_AB(Q):\n",
    "    return 1 - binary_entropy(Q)"
   ]
  },
  {
   "cell_type": "code",
   "execution_count": 16,
   "id": "761e04e2-9b7a-47f7-8ebf-0eeff4b3cb30",
   "metadata": {},
   "outputs": [],
   "source": [
    "# Mutual information between Alice and Eve\n",
    "def Info_AE(Q):\n",
    "    return 1 - binary_entropy(0.5 - np.sqrt(Q * (1-Q)))"
   ]
  },
  {
   "cell_type": "code",
   "execution_count": 17,
   "id": "e5ef6ca7-0b28-42fd-92c0-e217b77356bf",
   "metadata": {},
   "outputs": [],
   "source": [
    "# Calculate the observed mutual information using the fidelities for Bob and Eve\n",
    "def observed_mutual_info(N, Q):\n",
    "    IAB_exp = np.zeros(N)\n",
    "    IAE_exp = np.zeros(N)\n",
    "    for j in range(N):\n",
    "        IAB_exp[j] = Info_AB(Q[j])\n",
    "        IAE_exp[j] = Info_AE(Q[j])\n",
    "    return IAB_exp, IAE_exp"
   ]
  },
  {
   "cell_type": "code",
   "execution_count": 18,
   "id": "a1fc60e0-e03d-485e-b657-80660505a2f4",
   "metadata": {},
   "outputs": [],
   "source": [
    "# A function that calculates the threshold error rate for Alice and Bob\n",
    "# Error rate\n",
    "def error_rate_theory(theta):\n",
    "    return 0.5 - 0.5*np.sin(2 * theta)"
   ]
  },
  {
   "cell_type": "code",
   "execution_count": 19,
   "id": "3fe92995-31e3-4647-bc93-4ebe097d2bba",
   "metadata": {},
   "outputs": [],
   "source": [
    "# Fitting Curvesfor the mutual information functions and calculate critical error rate and theta2 values\n",
    "def mutual_info_curves(Angles, IAB_exp, IAE_exp, degree):\n",
    "    critical_theta = 0.0\n",
    "    critical_error = 0.0\n",
    "    \n",
    "    Model_IAB = np.poly1d(np.polyfit(Angles, IAB_exp, degree))\n",
    "    Model_IAE = np.poly1d(np.polyfit(Angles, IAE_exp, degree))\n",
    "    Thetas = np.linspace(0, np.pi/4, 100)\n",
    "    Model_IAB_curve = Model_IAB(Thetas)\n",
    "    Model_IAE_curve = Model_IAE(Thetas)\n",
    "     \n",
    "    ModelDiff = Model_IAB - Model_IAE\n",
    "    Roots = np.roots(ModelDiff)\n",
    "    RealRoots = Roots[~np.iscomplex(Roots)]\n",
    "    for j in range(len(RealRoots)):\n",
    "        if RealRoots[j] >= 0 and RealRoots[j] <= np.pi/4:\n",
    "            critical_theta = RealRoots[j]\n",
    "            critical_error = error_rate_theory(RealRoots[j])\n",
    "            #print('theta2 =', RealRoots[j])\n",
    "            #print('error rate =', error_rate_theory(RealRoots[j]))\n",
    "    \n",
    "    return Thetas, Model_IAB_curve, Model_IAE_curve, critical_theta, critical_error\n",
    "    "
   ]
  },
  {
   "cell_type": "code",
   "execution_count": 20,
   "id": "1069e87e-0f59-4d1b-b5ea-0d813a10cea1",
   "metadata": {},
   "outputs": [],
   "source": [
    "def experiment_submit(N, shots, bitval, basis, filename):\n",
    "    # generate angles\n",
    "    JobAngles = angles(N)\n",
    "    \n",
    "    # record the experiment setup\n",
    "    print('Experimental Setup')\n",
    "    record_experiment_setup(filename, JobAngles, bitval, basis, shots)\n",
    "    \n",
    "     # record the experimental data\n",
    "    #print('Recording data from the experiment')\n",
    "    #record_experiment_data(filename, JobAngles, bitval, shots)\n",
    "    \n",
    "    return 'Experiment successfully submitted.'"
   ]
  },
  {
   "cell_type": "code",
   "execution_count": 21,
   "id": "865d0330-46bf-42ee-a429-57b9f4d3be33",
   "metadata": {},
   "outputs": [],
   "source": [
    "def analyze_data(filename, degree):\n",
    "     # get the fidelities\n",
    "    Angles, BobFidelity, EveFidelity = get_data(filename)\n",
    "    \n",
    "    # calculate Bob's QBER\n",
    "    Q = QBER_Bob_exp(N, BobFidelity)\n",
    "    \n",
    "    # get the fidelity curves\n",
    "    Thetas, Model_Bob_Curve, Model_Eve_Curve = fidelity_curves(Angles, BobFidelity, EveFidelity, degree)\n",
    "    \n",
    "    # calculate the observed mutual information\n",
    "    IAB_exp, IAE_exp = observed_mutual_info(N,Q)\n",
    "    \n",
    "    # calculate the mutual information curves and the error rate/critical angle\n",
    "    Thetas, Model_IAB_Curve, Model_IAE_Curve, critical_theta, critical_error = mutual_info_curves(Angles, IAB_exp, IAE_exp, degree)\n",
    "    \n",
    "    return critical_theta, critical_error, Thetas, Model_Bob_Curve, Model_Eve_Curve, Model_IAB_Curve, Model_IAE_Curve, BobFidelity, EveFidelity, IAB_exp, IAE_exp, Angles"
   ]
  },
  {
   "cell_type": "code",
   "execution_count": 22,
   "id": "9ffead98-7598-40f2-8d48-50a4de7ef648",
   "metadata": {},
   "outputs": [
    {
     "name": "stdout",
     "output_type": "stream",
     "text": [
      "Experimental Setup\n",
      "['6c66b7cf-a855-46ff-83f4-e83a2c584c3a', 0.0008348730260766584, 1, 'Y', 100]\n",
      "['ddf2ab45-ebd1-476a-9c0e-f609031b013f', 0.007786204576243133, 1, 'Y', 100]\n",
      "['cf084d17-cf5e-4d70-a800-f52de3afd4fb', 0.029891338087677504, 1, 'Y', 100]\n",
      "['e70918b0-3fc1-4861-9457-519e64ad1a24', 0.032826181321947055, 1, 'Y', 100]\n",
      "['e9e19629-d8e7-4c7b-920b-e54a3f16c688', 0.03903576156184139, 1, 'Y', 100]\n",
      "['04b38009-85ae-4286-82eb-08564ad7d40c', 0.04578965658548622, 1, 'Y', 100]\n",
      "['69389fc5-656f-46b9-b7ed-c8e5004cb7e5', 0.05149482244238379, 1, 'Y', 100]\n",
      "['c0f9e918-e006-46ba-b7f7-0b5f954fa5c8', 0.05614923512164006, 1, 'Y', 100]\n",
      "['18a309db-cc5b-4f53-b4db-c0d232781fb5', 0.05818234035118885, 1, 'Y', 100]\n",
      "['80f0d90c-4f72-41d2-9784-ae1a9e1ece51', 0.06047435630662643, 1, 'Y', 100]\n",
      "['da89a849-708d-45e5-9465-9f812db52e6c', 0.06600384406983609, 1, 'Y', 100]\n",
      "['e929d59a-c636-4eb7-a9aa-9a021ed7b739', 0.08952971380757738, 1, 'Y', 100]\n",
      "['6a1184a5-2273-45da-877d-420be565f6d7', 0.08969969880473463, 1, 'Y', 100]\n",
      "['466e49c6-08db-42c6-a8a1-67091e79842b', 0.09403314530911837, 1, 'Y', 100]\n",
      "['1bdeb62d-6b7f-490d-891b-a1e1d42771a8', 0.09710467590997582, 1, 'Y', 100]\n",
      "['3956d2c9-8044-4175-98cc-6c427368d4d3', 0.09940535099154475, 1, 'Y', 100]\n",
      "['de943bd5-e9fa-4552-97be-dfbc4d84a00a', 0.10170600519416512, 1, 'Y', 100]\n",
      "['35215f25-83de-406c-b78a-b9635d2af7b0', 0.10420310535826037, 1, 'Y', 100]\n",
      "['72201464-7f83-4260-8454-480a4ad43a59', 0.11294556875559565, 1, 'Y', 100]\n",
      "['bbf12cfe-2854-44f0-84c6-cbcf438cb30a', 0.14540047467723688, 1, 'Y', 100]\n",
      "['ac2be215-6401-444d-8d76-8251bfd7a596', 0.14548773312330732, 1, 'Y', 100]\n",
      "['413ddaab-3b0e-42fd-86ec-ae8bd89adaca', 0.1501682488423107, 1, 'Y', 100]\n",
      "['2ebaf8a8-b4e7-466a-995e-b2f9beafdcb8', 0.15309082609948135, 1, 'Y', 100]\n",
      "['1e8e47da-eb77-4f6d-9700-cb3a7aae3a31', 0.15985966822888256, 1, 'Y', 100]\n",
      "['12a7c6e5-d4eb-41eb-a42f-571f22500901', 0.16331061139311234, 1, 'Y', 100]\n",
      "['561111a6-3609-43c5-a783-93338e8f8b88', 0.1982832369305758, 1, 'Y', 100]\n",
      "['a3daaae8-960c-4024-850c-a73dc7d93c1b', 0.20048808843227192, 1, 'Y', 100]\n",
      "['47032a5a-f2a1-41cd-92c6-59451fa4d8ef', 0.20314077105365053, 1, 'Y', 100]\n",
      "['36992524-2518-4fc5-b302-d2b156e60f2b', 0.21667311511250753, 1, 'Y', 100]\n",
      "['6542216d-b94e-48e2-a21d-a18e04f322df', 0.22810049028668733, 1, 'Y', 100]\n",
      "['ffade768-6d42-4447-8290-92ea2e8e0d97', 0.2289818474123693, 1, 'Y', 100]\n",
      "['e6532623-7a73-4f08-a4ad-c013482861da', 0.23027334449380304, 1, 'Y', 100]\n",
      "['f941b704-1c3f-40fa-a4f4-96f65368b1a2', 0.2496779039857781, 1, 'Y', 100]\n",
      "['47687b70-a9a8-470e-bf46-6d7f3ef108a2', 0.2600511425033937, 1, 'Y', 100]\n",
      "['71b65eee-f8d0-4ba5-8b96-8d6290b64072', 0.26211215409882527, 1, 'Y', 100]\n",
      "['20897d1a-aeea-4817-a637-3845bec01a3e', 0.26283374389910474, 1, 'Y', 100]\n",
      "['3fee10e5-75bb-4943-91da-87864aed8177', 0.2634278072319806, 1, 'Y', 100]\n",
      "['28ea26fa-5060-4b48-a9e6-e261b341fe6f', 0.27336021353032297, 1, 'Y', 100]\n",
      "['56a0470a-38b8-4112-8b20-f216dce40fb1', 0.2748396142064747, 1, 'Y', 100]\n",
      "['a6259cbb-7550-48c9-9b18-d57efe562b05', 0.28752372653182373, 1, 'Y', 100]\n",
      "['591faadf-7221-4869-ae88-1753a5a3770a', 0.29436944450302854, 1, 'Y', 100]\n",
      "['4a875df3-eb48-49ed-8209-f3f69d7c12e7', 0.31772220959354086, 1, 'Y', 100]\n",
      "['2fa9f0c5-c021-41aa-9e1f-1c4949849678', 0.3187391721099328, 1, 'Y', 100]\n",
      "['1912b7e1-f9c2-47b5-9dff-4a241bd78507', 0.31940768420527926, 1, 'Y', 100]\n",
      "['9b129d60-6966-4e76-8b80-0645731fcd54', 0.32079341522860283, 1, 'Y', 100]\n",
      "['04f47705-5b2f-4460-a31a-c003da8ff48b', 0.3285518788392837, 1, 'Y', 100]\n",
      "['9a388334-0a67-48bb-8b62-583d860f1fbc', 0.33871501440201796, 1, 'Y', 100]\n",
      "['4c0270ba-a79b-4ffa-a023-ddcd452dd805', 0.3542599849454284, 1, 'Y', 100]\n",
      "['0ee7ead5-9523-4ced-902e-02fb7b056dc3', 0.36364333800346216, 1, 'Y', 100]\n",
      "['b3e8c45e-c30a-4447-a468-05136b7b711f', 0.36960696501334206, 1, 'Y', 100]\n",
      "['55ba4bd1-c9de-49d2-b555-a0187f3e25d2', 0.3724140230423722, 1, 'Y', 100]\n",
      "['a09a784a-0f06-45b5-bc9f-c783fbc1bbf3', 0.3741448285574375, 1, 'Y', 100]\n",
      "['9708f34f-dbb5-4147-a6f5-60c2f389bdbd', 0.388916481467478, 1, 'Y', 100]\n",
      "['6eeb02cb-cec1-4c7a-8072-d23235f0e7db', 0.40464014875496696, 1, 'Y', 100]\n",
      "['e29a1d52-2670-4512-984f-3ad2c4bb0a3d', 0.4128515570865292, 1, 'Y', 100]\n",
      "['c6db8865-0918-45cf-8b9b-fa6e9d90dab9', 0.4133353021025059, 1, 'Y', 100]\n",
      "['0a524922-2053-45ca-a9ac-d37f64d6d069', 0.4265508795656142, 1, 'Y', 100]\n",
      "['cc20c501-22ff-46e8-947d-4c4719c69ab9', 0.4288527442370453, 1, 'Y', 100]\n",
      "['8e1168fb-50e4-48fd-8d20-a2a79b4fbf60', 0.43627383237779876, 1, 'Y', 100]\n",
      "['d63e1e1b-2712-4e60-8c05-3b167b692635', 0.43649673243627773, 1, 'Y', 100]\n",
      "['708564ea-93b3-4dc5-b54a-f9a3310ae8e6', 0.45207680643462905, 1, 'Y', 100]\n",
      "['015c2e2c-8889-42c7-9eb4-b8099e680b45', 0.4521717013156712, 1, 'Y', 100]\n",
      "['1f8272f4-df04-4b86-a790-33ba81b3ae67', 0.4790472720702068, 1, 'Y', 100]\n",
      "['a27f7ba2-1bc3-4e61-81e9-53070f8c8a90', 0.4846472696229362, 1, 'Y', 100]\n",
      "['2660e93a-f2fb-4889-8e5a-b5514c587dba', 0.4986654023488497, 1, 'Y', 100]\n",
      "['d9ba817f-5281-4381-b045-fef6d54156d5', 0.499263528647907, 1, 'Y', 100]\n",
      "['b4c435d7-ad45-4776-b91a-22d9b42324b4', 0.5028160326549664, 1, 'Y', 100]\n",
      "['126260c1-7fd9-4e9f-8f3e-84f3182f3f44', 0.5123789992087994, 1, 'Y', 100]\n",
      "['69ffc0fb-78f0-4696-b2c6-93443d45be69', 0.5317262246843732, 1, 'Y', 100]\n",
      "['03855e7a-98ce-4bc4-907c-a22d4991c05b', 0.5521785974181647, 1, 'Y', 100]\n",
      "['437010c6-1063-4881-86e7-760c127d378c', 0.5646522733406449, 1, 'Y', 100]\n",
      "['403ebaf6-24e9-4335-bf9b-f80aa5d7bc21', 0.5700167561660907, 1, 'Y', 100]\n",
      "['504155c0-040a-4b63-9281-06db8a36fb9d', 0.58775265832131, 1, 'Y', 100]\n",
      "['3769b610-1e9e-44bc-85a0-0f24762f8abb', 0.5879005937505949, 1, 'Y', 100]\n",
      "['622230b8-8ce2-4482-971e-bf70481390ce', 0.5925799922099781, 1, 'Y', 100]\n",
      "['96b0673f-86d7-40aa-9c7f-86bdb9a72c72', 0.5968861041344602, 1, 'Y', 100]\n",
      "['23b54871-6aeb-4eae-9f0e-db5fcfd9539a', 0.6070044604641237, 1, 'Y', 100]\n",
      "['c102d689-df01-4176-8e41-ce1d5da380ab', 0.6182328154168404, 1, 'Y', 100]\n",
      "['37305bbf-e39c-4b52-8c90-8265d06d4158', 0.6316778516262791, 1, 'Y', 100]\n",
      "['8356eb80-31db-4a30-a40c-ff557dfba9c5', 0.6370990312273577, 1, 'Y', 100]\n",
      "['883f8c34-43b3-4ee2-882c-27775e348cbe', 0.6453570972623348, 1, 'Y', 100]\n",
      "['f321deda-9076-4bd5-8a2a-a05ce56cd505', 0.6482369957089754, 1, 'Y', 100]\n",
      "['d971f6e7-ab1a-4f49-b1d9-a65c3958e487', 0.6606032667726185, 1, 'Y', 100]\n",
      "['73237557-5e25-4a20-b090-ffaab745c261', 0.6625512419698942, 1, 'Y', 100]\n",
      "['47d63c99-cd71-42f5-b76e-f08b6db2b75e', 0.7053968480352603, 1, 'Y', 100]\n",
      "['8c495d09-202a-4fb7-b60d-6a0a6d917286', 0.7089520895880675, 1, 'Y', 100]\n",
      "['df08b4d8-3ec3-4b62-94c9-84a12e1bb398', 0.7133440784463101, 1, 'Y', 100]\n",
      "['ee642ede-ed3c-4e09-b761-4efb05fea8fe', 0.7135379729298121, 1, 'Y', 100]\n",
      "['e9f09862-e8b8-4057-b689-eb2e32602fba', 0.7183946569474413, 1, 'Y', 100]\n",
      "['38fd21a5-5c7b-40b2-89ef-6f2946c51a7a', 0.7212336667083733, 1, 'Y', 100]\n",
      "['926d9476-576a-4a4c-bee4-3e7de491d69e', 0.7213409579825305, 1, 'Y', 100]\n",
      "['384c0675-09c1-4406-8dbe-57685f3a1b1a', 0.7241283942822433, 1, 'Y', 100]\n",
      "['ff5e1892-3bce-4ae0-99e8-2a60e1a6dde7', 0.7391057393551435, 1, 'Y', 100]\n",
      "['2794d0da-7b1f-4d61-8a8b-a5c841a1b1a4', 0.7514543404828454, 1, 'Y', 100]\n",
      "['8f6f5b86-fd8c-4ee5-bc1e-45fd41754144', 0.7559978058252701, 1, 'Y', 100]\n",
      "['1bc4015a-f657-4cdf-8adf-3a861a6688ac', 0.7599656999727604, 1, 'Y', 100]\n",
      "['fc1cbf35-86fc-440e-8fed-dd4f6911922a', 0.7679341050759803, 1, 'Y', 100]\n",
      "['b81c4aa4-8bdb-4434-ad4a-79cd1a2042a6', 0.7682484539396008, 1, 'Y', 100]\n",
      "['e6caf36b-1231-422a-abc2-d3f26526e7b3', 0.7829249610601063, 1, 'Y', 100]\n",
      "['36b054be-cedf-404d-b9b2-462a08386746', 0.7842690065210155, 1, 'Y', 100]\n"
     ]
    },
    {
     "data": {
      "text/plain": [
       "'Experiment successfully submitted.'"
      ]
     },
     "execution_count": 22,
     "metadata": {},
     "output_type": "execute_result"
    }
   ],
   "source": [
    "experiment_submit(N, shots, bitval, basis, filename)"
   ]
  },
  {
   "cell_type": "code",
   "execution_count": null,
   "id": "988becd3-de44-4db2-8f90-dad6ca9e6460",
   "metadata": {},
   "outputs": [],
   "source": []
  },
  {
   "cell_type": "code",
   "execution_count": 23,
   "id": "fe0f6d7f-1d08-40f5-ba38-3d8a038e3f16",
   "metadata": {},
   "outputs": [],
   "source": [
    "Jobs_Data = pd.read_csv(filename)\n",
    "JobAngles = Jobs_Data.iloc[:, 1]"
   ]
  },
  {
   "cell_type": "code",
   "execution_count": 24,
   "id": "ac1e4cdc-5cef-4463-9caf-f90f24f96c06",
   "metadata": {},
   "outputs": [
    {
     "data": {
      "text/plain": [
       "'Complete'"
      ]
     },
     "execution_count": 24,
     "metadata": {},
     "output_type": "execute_result"
    }
   ],
   "source": [
    "record_experiment_data(filename, JobAngles, bitval, shots)"
   ]
  },
  {
   "cell_type": "code",
   "execution_count": 25,
   "id": "82870b9e-e6dc-440a-b6d2-f09846c916a2",
   "metadata": {},
   "outputs": [],
   "source": [
    "critical_theta, critical_error, Thetas, Model_Bob_Curve, Model_Eve_Curve, Model_IAB_Curve, Model_IAE_Curve, BobFidelity, EveFidelity, IAB_exp, IAE_exp, Angles = analyze_data(filename,3)"
   ]
  },
  {
   "cell_type": "code",
   "execution_count": 26,
   "id": "ba3457f1-790d-4864-b91f-ede57b6a7b1c",
   "metadata": {},
   "outputs": [
    {
     "name": "stdout",
     "output_type": "stream",
     "text": [
      "Critical angle =  0.0\n",
      "pi/8 =  0.39269908169872414\n",
      "Critical error =  0.0\n",
      "Theoretical prediction =  0.1464466094067262\n"
     ]
    }
   ],
   "source": [
    "# values based on the intersection of plotted information curves\n",
    "print('Critical angle = ', critical_theta)\n",
    "print('pi/8 = ', np.pi/8)\n",
    "print('Critical error = ', critical_error)\n",
    "print('Theoretical prediction = ', 0.5 - 0.25 * np.sqrt(2))"
   ]
  },
  {
   "cell_type": "markdown",
   "id": "3ea4729c-614d-4b27-8a7f-c1d5576a4949",
   "metadata": {},
   "source": [
    "**Fidelity Calculations.** Below we calculate the critical error based on the intersection of the fidelity curves."
   ]
  },
  {
   "cell_type": "code",
   "execution_count": 27,
   "id": "3de4222b-552b-4b62-ade2-0c8b746e95fe",
   "metadata": {},
   "outputs": [],
   "source": [
    "def fidelity_curves_intersection(JobAngles, BobFidelity, EveFidelity, degree):\n",
    "    Model_Bob = np.poly1d(np.polyfit(JobAngles, BobFidelity, degree))\n",
    "    Model_Eve = np.poly1d(np.polyfit(JobAngles, EveFidelity, degree))\n",
    "    \n",
    "    Thetas = np.linspace(0, np.pi/4, 100)\n",
    "    Model_Bob_curve = Model_Bob(Thetas)\n",
    "    Model_Eve_curve = Model_Eve(Thetas)\n",
    "    \n",
    "    ModelDiff = Model_Bob - Model_Eve\n",
    "    Roots = np.roots(ModelDiff)\n",
    "    RealRoots = Roots[~np.iscomplex(Roots)]\n",
    "    for j in range(len(RealRoots)):\n",
    "        if RealRoots[j] >= 0 and RealRoots[j] <= np.pi/4:\n",
    "            critical_theta = RealRoots[j]\n",
    "            critical_error = error_rate_theory(RealRoots[j])\n",
    "            #print('theta2 =', RealRoots[j])\n",
    "            #print('error rate =', error_rate_theory(RealRoots[j]))\n",
    "    \n",
    "    \n",
    "    return critical_theta, critical_error, Thetas, Model_Bob_curve, Model_Eve_curve"
   ]
  },
  {
   "cell_type": "code",
   "execution_count": 28,
   "id": "6e051cb7-ba65-4b55-84b4-db965f191071",
   "metadata": {},
   "outputs": [],
   "source": [
    "JobAngles, BobFidelity, EveFidelity = get_data(filename)"
   ]
  },
  {
   "cell_type": "code",
   "execution_count": 41,
   "id": "0acb0df3-79d6-4162-b350-0caea4443ce3",
   "metadata": {},
   "outputs": [],
   "source": [
    "crit_theta, crit_error, Thetas, Model_Bob_curve, Model_Eve_curve = fidelity_curves_intersection(JobAngles, BobFidelity, EveFidelity, 2)"
   ]
  },
  {
   "cell_type": "code",
   "execution_count": 42,
   "id": "2e03b6ff-e8e2-44a7-adc8-1783fe3e6aa1",
   "metadata": {},
   "outputs": [
    {
     "name": "stdout",
     "output_type": "stream",
     "text": [
      "Critical angle =  0.532068709206452\n",
      "pi/8 =  0.39269908169872414\n",
      "Critical error =  0.06281466082672404\n",
      "Theoretical prediction =  0.1464466094067262\n"
     ]
    }
   ],
   "source": [
    "print('Critical angle = ', crit_theta)\n",
    "print('pi/8 = ', np.pi/8)\n",
    "print('Critical error = ', crit_error)\n",
    "print('Theoretical prediction = ', 0.5 - 0.25 * np.sqrt(2))"
   ]
  },
  {
   "cell_type": "code",
   "execution_count": 43,
   "id": "e0ea9524-5fd6-4392-aef6-e18efef27430",
   "metadata": {},
   "outputs": [
    {
     "data": {
      "image/png": "[encoded data removed]",
      "text/plain": [
       "<Figure size 1080x576 with 1 Axes>"
      ]
     },
     "metadata": {
      "needs_background": "light"
     },
     "output_type": "display_data"
    }
   ],
   "source": [
    "plt.figure(figsize=(15,8))\n",
    "plt.rcParams.update({'font.size': 12})\n",
    "plt.scatter(JobAngles, BobFidelity , label = \"Bob's Fidelity\",color='blue')\n",
    "plt.scatter(JobAngles, EveFidelity, label = \"Eve's Fidelity\",color='red')\n",
    "plt.plot(Thetas, Model_Bob_curve, color = 'blue')\n",
    "plt.plot(Thetas, Model_Eve_curve, color = 'red')\n",
    "#plt.yticks(np.arange(0,1.1, step = .1))\n",
    "#plt.xticks(np.arange(-np.pi/2, 5*np.pi/8, step = np.pi/8))\n",
    "plt.legend(title=\"Fidelity Curves\")\n",
    "plt.xlabel('theta_2')\n",
    "plt.show()"
   ]
  },
  {
   "cell_type": "code",
   "execution_count": null,
   "id": "7d0ba8ff-1769-4270-8a04-c42c06e25735",
   "metadata": {},
   "outputs": [],
   "source": []
  }
 ],
 "metadata": {
  "kernelspec": {
   "display_name": "Python 3 (ipykernel)",
   "language": "python",
   "name": "python3"
  },
  "language_info": {
   "codemirror_mode": {
    "name": "ipython",
    "version": 3
   },
   "file_extension": ".py",
   "mimetype": "text/x-python",
   "name": "python",
   "nbconvert_exporter": "python",
   "pygments_lexer": "ipython3",
   "version": "3.8.12"
  }
 },
 "nbformat": 4,
 "nbformat_minor": 5
}
