{
 "cells": [
  {
   "cell_type": "code",
   "execution_count": null,
   "id": "168eec5d-3c2d-4db5-b99f-df5e9e3e6c73",
   "metadata": {},
   "outputs": [],
   "source": []
  },
  {
   "cell_type": "code",
   "execution_count": 1,
   "id": "43316833-40f9-4bf6-8a94-f917390332a7",
   "metadata": {},
   "outputs": [],
   "source": [
    "import numpy as np\n",
    "import matplotlib.pyplot as plt\n",
    "import csv\n",
    "import pandas as pd\n",
    "\n",
    "# from qiskit import *\n",
    "# Importing standard Qiskit libraries\n",
    "from qiskit import QuantumCircuit, QuantumRegister, ClassicalRegister\n",
    "from qiskit import IBMQ, Aer, execute, assemble, transpile\n",
    "from qiskit.visualization import plot_histogram, plot_bloch_vector\n",
    "from qiskit.visualization import plot_state_qsphere, plot_state_city, plot_bloch_multivector\n",
    "from qiskit.visualization import array_to_latex\n",
    "import qiskit.quantum_info as qi\n",
    "# from qiskit_ibm_runtime import QiskitRuntimeService\n",
    "\n",
    "from qiskit_ionq import IonQProvider\n",
    "# import gates\n",
    "from qiskit_ionq import GPIGate, GPI2Gate, MSGate\n",
    "from qiskit import Aer, execute, assemble\n",
    "from qiskit.providers.jobstatus import JobStatus\n",
    "import time\n",
    "\n",
    "from pipeline.qiskit_circuit_constructor import qiskit_alice_prepares, qiskit_measurement_prep, qiskit_clone, construct_qiskit_circuit\n",
    "from pipeline.ionq_circuit_constructor import ionq_alice_prepares\n",
    "from pipeline.ionq_circuit_constructor import ionq_measurement_prep\n",
    "from pipeline.ionq_circuit_constructor import ionq_clone\n",
    "from pipeline.ionq_circuit_constructor import construct_ionq_circuit\n",
    "#from pipeline.run_experiments import fidelities\n",
    "#from pipeline.run_experiments import get_circuit\n",
    "#from pipeline.run_experiments import run_experiment_ionq\n",
    "#from pipeline.run_experiments import run_simulation\n",
    "\n",
    "provider = IonQProvider(\"2BCQ6XP8m8wN0BPl3KawTCsAwYEBn73F\")\n",
    "#native_simulator = provider.get_backend(\"ionq_simulator\", gateset=\"native\")\n",
    "native_qpu = provider.get_backend(\"ionq_qpu\", gateset=\"native\")\n",
    "\n",
    "#ionq_sim = provider.get_backend(\"ionq_simulator\")\n",
    "#ionq_qpu = provider.get_backend(\"ionq_qpu\")"
   ]
  },
  {
   "cell_type": "code",
   "execution_count": 2,
   "id": "d5bc223d-ce2d-47b9-bb56-5eaa46a61b85",
   "metadata": {},
   "outputs": [],
   "source": [
    "# Selection of Experiment Parameters\n",
    "N = 100 # number of randomly selected angles from 0 to pi/4\n",
    "shots = 100 # number of shots for each input angle\n",
    "basis = 'Y'\n",
    "bitval = 0\n",
    "filename = 'Experiment_July16_2023_Native_QPU_FullSize_Ybasis_bit0.csv'\n"
   ]
  },
  {
   "cell_type": "code",
   "execution_count": 3,
   "id": "db363c2d-8657-4818-b662-47c44ee35095",
   "metadata": {},
   "outputs": [],
   "source": [
    "def retrieve_data(job_num, angle, bitval, shot_count):\n",
    "    ionq = provider.get_backend(\"ionq_qpu\")\n",
    "    retrieved = ionq.retrieve_job(job_num) \n",
    "    counts = retrieved.result().get_counts()\n",
    "    \n",
    "    out000 = retrieved.result().get_counts().get(\"000\")\n",
    "    out001 = retrieved.result().get_counts().get(\"001\")\n",
    "    out010 = retrieved.result().get_counts().get(\"010\")\n",
    "    out011 = retrieved.result().get_counts().get(\"011\")\n",
    "    out100 = retrieved.result().get_counts().get(\"100\")\n",
    "    out101 = retrieved.result().get_counts().get(\"101\")\n",
    "    out110 = retrieved.result().get_counts().get(\"110\")\n",
    "    out111 = retrieved.result().get_counts().get(\"111\")\n",
    "    \n",
    "    if out000 == None:\n",
    "        out000 = 0\n",
    "    if out001 == None:\n",
    "        out001 = 0\n",
    "    if out010 == None:\n",
    "        out010 = 0\n",
    "    if out011 == None:\n",
    "        out011 = 0\n",
    "        \n",
    "    if out100 == None:\n",
    "        out100 = 0\n",
    "    if out101 == None:\n",
    "        out101 = 0\n",
    "    if out110 == None:\n",
    "        out110 = 0\n",
    "    if out111 == None:\n",
    "        out111 = 0\n",
    "        \n",
    "    B,E = fidelities(out000, out001, out010, out011, out100, out101, out110, out111, bitval, shot_count)\n",
    "    \n",
    "    row_data = [job_num, angle, shot_count, out000, out001, out010, out011, out100, out101, out110, out111, B, E]\n",
    "        \n",
    "    return row_data"
   ]
  },
  {
   "cell_type": "code",
   "execution_count": 4,
   "id": "e4e63f0b-6cfd-4f89-afc5-094a92fa9c34",
   "metadata": {},
   "outputs": [],
   "source": [
    "def fidelities(out000, out001, out010, out011, out100, out101, out110, out111, bitval, shots):\n",
    "    '''\n",
    "    This function averages the fidelity of the clones and ancilla over experiment.\n",
    "\n",
    "    Parameters:\n",
    "    --------------\n",
    "    outijk -\n",
    "    bitval -\n",
    "    shots - Number of samples.\n",
    "\n",
    "    Returns:\n",
    "    --------------\n",
    "    bob_fidelity - Fidelity of copy sent to intended recipient (Bob).\n",
    "    eve_fidelity - Fidelity of copy kept by eavesdropper (Eve).\n",
    "    ancilla_fidelity - Fidelity of the ancilla.\n",
    "    \n",
    "    '''\n",
    "    \n",
    "    if bitval == 1:\n",
    "        bob_fidelity = (out001 + out011 + out101 + out111)/shots\n",
    "        eve_fidelity = (out010 + out011 + out110 + out111)/shots\n",
    "        #ancilla_fidelity = (out100 + out101 + out110 + out111)/shots\n",
    "        \n",
    "    if bitval == 0:\n",
    "        bob_fidelity = (out010 + out000 + out110 + out100)/shots\n",
    "        eve_fidelity = (out001 + out000 + out101 + out100)/shots\n",
    "        #ancilla_fidelity = (out000 + out001 + out010 + out011)/shots\n",
    "        \n",
    "    return bob_fidelity, eve_fidelity"
   ]
  },
  {
   "cell_type": "code",
   "execution_count": 5,
   "id": "a77feffb-7763-4ccb-aa6e-6c68424c46b4",
   "metadata": {},
   "outputs": [],
   "source": [
    "def get_circuit(angle, bitval, basis):\n",
    "    qc = QuantumCircuit(3,3)\n",
    "    \n",
    "    qc = ionq_alice_prepares(qc, bitval, basis)\n",
    "    qc.barrier()\n",
    "    qc = ionq_clone(qc, angle)\n",
    "    qc.barrier()\n",
    "    qc = ionq_measurement_prep(qc, basis)\n",
    "    \n",
    "    qc.measure(0,0)\n",
    "    qc.measure(1,1)\n",
    "    qc.measure(2,2)\n",
    "    return qc"
   ]
  },
  {
   "cell_type": "code",
   "execution_count": 6,
   "id": "33dbc577-46cf-4e57-80bc-de4bf49fba17",
   "metadata": {},
   "outputs": [],
   "source": [
    "def experiment_qpu(angle, bitval, basis, shot_count):\n",
    "    qc = get_circuit(angle, bitval, basis)\n",
    "    \n",
    "    #ionq_qpu = provider.get_backend(\"ionq_qpu\")\n",
    "    job = native_qpu.run(qc, shots = shot_count)\n",
    "\n",
    "    job_data = [job.job_id(), angle, bitval, basis, shot_count]\n",
    "    \n",
    "    return job_data"
   ]
  },
  {
   "cell_type": "code",
   "execution_count": 7,
   "id": "099c7e74-ffb2-49f2-afcf-8f5a893f9d06",
   "metadata": {},
   "outputs": [],
   "source": [
    "# Random selection of angles\n",
    "def angles(N):\n",
    "    Angles = np.random.uniform(0, np.pi/4, N)\n",
    "    Angles = np.sort(Angles)\n",
    "    return Angles"
   ]
  },
  {
   "cell_type": "code",
   "execution_count": 8,
   "id": "4ab1210b-80f6-464a-841a-94f795431cae",
   "metadata": {},
   "outputs": [],
   "source": [
    "def record_experiment_setup(filename, Angles, bitval, basis, shots): \n",
    "    header = ['Job Number', 'Angle', 'Bit Value', 'Basis', 'Total Shots']\n",
    "\n",
    "    with open(filename, 'w', encoding = 'UTF8') as f:\n",
    "        writer = csv.writer(f)\n",
    "        writer.writerow(header)\n",
    "    \n",
    "        for j in range(N):\n",
    "            job_data = experiment_qpu(Angles[j], bitval, basis, shots)\n",
    "            writer.writerow(job_data)\n",
    "            print(job_data)\n",
    "        \n",
    "        f.close()  \n",
    "        \n",
    "        return 'Complete'"
   ]
  },
  {
   "cell_type": "code",
   "execution_count": 9,
   "id": "e7f61398-be9a-4020-a3c9-af8a381edc47",
   "metadata": {},
   "outputs": [],
   "source": [
    "def record_experiment_data(filename, Angles, bitval, shots):\n",
    "    Jobs_Data = pd.read_csv(filename)\n",
    "    JobNumbers = Jobs_Data.iloc[:, 0]\n",
    "    \n",
    "    header = ['Job Number', 'Angle','Total Shots', '000', '001', '010', '011', '100', '101', '110', '111', 'Bobs Fidelity', 'Eves Fidelity']\n",
    "\n",
    "    with open(filename, 'w', encoding = 'UTF8') as f:\n",
    "        writer = csv.writer(f)\n",
    "        writer.writerow(header)\n",
    "\n",
    "        for j in range(len(JobNumbers)):\n",
    "            row_data = retrieve_data(JobNumbers[j], Angles[j], bitval, shots)\n",
    "            writer.writerow(row_data)\n",
    "\n",
    "        f.close()\n",
    "    \n",
    "    return 'Complete'"
   ]
  },
  {
   "cell_type": "code",
   "execution_count": 10,
   "id": "0e97b658-7bce-4eb8-a813-0b0c00d5d06f",
   "metadata": {},
   "outputs": [],
   "source": [
    "def get_data(filename):\n",
    "    Completed_Job_Data = pd.read_csv(filename)\n",
    "\n",
    "    JobAngles = Completed_Job_Data.iloc[:, 1]\n",
    "    BobFidelity = Completed_Job_Data.iloc[:, 11]\n",
    "    EveFidelity = Completed_Job_Data.iloc[:, 12]\n",
    "\n",
    "    JobAngles = np.array(JobAngles)\n",
    "    BobFidelity = np.array(BobFidelity)\n",
    "    EveFidelity = np.array(EveFidelity)\n",
    "    \n",
    "    return  JobAngles, BobFidelity, EveFidelity"
   ]
  },
  {
   "cell_type": "code",
   "execution_count": 11,
   "id": "44f5d6f0-282f-4330-aa85-76b4234e01b7",
   "metadata": {},
   "outputs": [],
   "source": [
    "def fidelity_curves(JobAngles, BobFidelity, EveFidelity, degree):\n",
    "    Model_Bob = np.poly1d(np.polyfit(JobAngles, BobFidelity, degree))\n",
    "    Model_Eve = np.poly1d(np.polyfit(JobAngles, EveFidelity, degree))\n",
    "    Thetas = np.linspace(0, np.pi/4, 100)\n",
    "    Model_Bob_Curve = Model_Bob(Thetas)\n",
    "    Model_Eve_Curve = Model_Eve(Thetas)\n",
    "    return Thetas, Model_Bob_Curve, Model_Eve_Curve"
   ]
  },
  {
   "cell_type": "code",
   "execution_count": 12,
   "id": "751f41a2-4d05-42ac-985e-6efc027ae255",
   "metadata": {},
   "outputs": [],
   "source": [
    "def QBER_Bob_exp(N, BobFidelity):\n",
    "    Q = np.ones(N)\n",
    "    Q = Q - BobFidelity\n",
    "    return Q"
   ]
  },
  {
   "cell_type": "code",
   "execution_count": 13,
   "id": "5edbdbf4-86f2-4137-bb3c-6cfc9b7380fa",
   "metadata": {},
   "outputs": [],
   "source": [
    "def binary_entropy(t):\n",
    "    if t == 0 or t == 1:\n",
    "        return 0\n",
    "    else:\n",
    "        return -t * np.log2(t) - (1-t) * np.log2(1-t)"
   ]
  },
  {
   "cell_type": "code",
   "execution_count": 14,
   "id": "32e29cc2-dfc5-4402-8be3-5be486569278",
   "metadata": {},
   "outputs": [],
   "source": [
    "# Mutual information between Alice and Bob\n",
    "def Info_AB(Q):\n",
    "    return 1 - binary_entropy(Q)"
   ]
  },
  {
   "cell_type": "code",
   "execution_count": 15,
   "id": "c59cbd77-ece0-411d-9d4c-1c310026c16d",
   "metadata": {},
   "outputs": [],
   "source": [
    "# Mutual information between Alice and Eve\n",
    "def Info_AE(Q):\n",
    "    return 1 - binary_entropy(0.5 - np.sqrt(Q * (1-Q)))"
   ]
  },
  {
   "cell_type": "code",
   "execution_count": 16,
   "id": "773b6933-13e1-4436-81c1-04530cf72b2f",
   "metadata": {},
   "outputs": [],
   "source": [
    "# Calculate the observed mutual information using the fidelities for Bob and Eve\n",
    "def observed_mutual_info(N, Q):\n",
    "    IAB_exp = np.zeros(N)\n",
    "    IAE_exp = np.zeros(N)\n",
    "    for j in range(N):\n",
    "        IAB_exp[j] = Info_AB(Q[j])\n",
    "        IAE_exp[j] = Info_AE(Q[j])\n",
    "    return IAB_exp, IAE_exp"
   ]
  },
  {
   "cell_type": "code",
   "execution_count": 17,
   "id": "92626298-723f-4630-97c6-b47a720054d3",
   "metadata": {},
   "outputs": [],
   "source": [
    "# A function that calculates the threshold error rate for Alice and Bob\n",
    "# Error rate\n",
    "def error_rate_theory(theta):\n",
    "    return 0.5 - 0.5*np.sin(2 * theta)"
   ]
  },
  {
   "cell_type": "code",
   "execution_count": 18,
   "id": "b1db5018-b8b0-4e39-a8f6-589df5887746",
   "metadata": {},
   "outputs": [],
   "source": [
    "# Fitting Curvesfor the mutual information functions and calculate critical error rate and theta2 values\n",
    "def mutual_info_curves(Angles, IAB_exp, IAE_exp, degree):\n",
    "    critical_theta = 0.0\n",
    "    critical_error = 0.0\n",
    "    \n",
    "    Model_IAB = np.poly1d(np.polyfit(Angles, IAB_exp, degree))\n",
    "    Model_IAE = np.poly1d(np.polyfit(Angles, IAE_exp, degree))\n",
    "    Thetas = np.linspace(0, np.pi/4, 100)\n",
    "    Model_IAB_curve = Model_IAB(Thetas)\n",
    "    Model_IAE_curve = Model_IAE(Thetas)\n",
    "     \n",
    "    ModelDiff = Model_IAB - Model_IAE\n",
    "    Roots = np.roots(ModelDiff)\n",
    "    RealRoots = Roots[~np.iscomplex(Roots)]\n",
    "    for j in range(len(RealRoots)):\n",
    "        if RealRoots[j] >= 0 and RealRoots[j] <= np.pi/4:\n",
    "            critical_theta = RealRoots[j]\n",
    "            critical_error = error_rate_theory(RealRoots[j])\n",
    "            #print('theta2 =', RealRoots[j])\n",
    "            #print('error rate =', error_rate_theory(RealRoots[j]))\n",
    "    \n",
    "    return Thetas, Model_IAB_curve, Model_IAE_curve, critical_theta, critical_error\n",
    "    "
   ]
  },
  {
   "cell_type": "code",
   "execution_count": 19,
   "id": "8b5af9a4-af93-484e-91bc-9b7e74263818",
   "metadata": {},
   "outputs": [],
   "source": [
    "def experiment_submit(N, shots, bitval, basis, filename):\n",
    "    # generate angles\n",
    "    JobAngles = angles(N)\n",
    "    \n",
    "    # record the experiment setup\n",
    "    print('Experimental Setup')\n",
    "    record_experiment_setup(filename, JobAngles, bitval, basis, shots)\n",
    "    \n",
    "     # record the experimental data\n",
    "    #print('Recording data from the experiment')\n",
    "    #record_experiment_data(filename, JobAngles, bitval, shots)\n",
    "    \n",
    "    return 'Experiment successfully submitted.'"
   ]
  },
  {
   "cell_type": "code",
   "execution_count": 20,
   "id": "d832398c-88f5-4503-ade4-b1a3664712a7",
   "metadata": {},
   "outputs": [],
   "source": [
    "def analyze_data(filename, degree):\n",
    "     # get the fidelities\n",
    "    Angles, BobFidelity, EveFidelity = get_data(filename)\n",
    "    \n",
    "    # calculate Bob's QBER\n",
    "    Q = QBER_Bob_exp(N, BobFidelity)\n",
    "    \n",
    "    # get the fidelity curves\n",
    "    Thetas, Model_Bob_Curve, Model_Eve_Curve = fidelity_curves(Angles, BobFidelity, EveFidelity, degree)\n",
    "    \n",
    "    # calculate the observed mutual information\n",
    "    IAB_exp, IAE_exp = observed_mutual_info(N,Q)\n",
    "    \n",
    "    # calculate the mutual information curves and the error rate/critical angle\n",
    "    Thetas, Model_IAB_Curve, Model_IAE_Curve, critical_theta, critical_error = mutual_info_curves(Angles, IAB_exp, IAE_exp, degree)\n",
    "    \n",
    "    return critical_theta, critical_error, Thetas, Model_Bob_Curve, Model_Eve_Curve, Model_IAB_Curve, Model_IAE_Curve, BobFidelity, EveFidelity, IAB_exp, IAE_exp, Angles"
   ]
  },
  {
   "cell_type": "code",
   "execution_count": 21,
   "id": "7c49dead-9222-44b9-b81a-6b498729be73",
   "metadata": {},
   "outputs": [
    {
     "name": "stdout",
     "output_type": "stream",
     "text": [
      "Experimental Setup\n",
      "['9669d52d-29fa-452e-974e-d1456e65adbd', 0.017458257130996066, 0, 'Y', 100]\n",
      "['f8262246-cc71-43d3-81f1-bad55162de15', 0.029108010759911145, 0, 'Y', 100]\n",
      "['ddce9fe8-80ce-4301-9e07-c19c351d9c96', 0.03703500668332811, 0, 'Y', 100]\n",
      "['ef56b8ba-fdf9-4a74-8f0d-a64892a761a7', 0.04359079202030716, 0, 'Y', 100]\n",
      "['5d62feef-f608-4119-80d8-5ddd537d5a73', 0.0501242817367692, 0, 'Y', 100]\n",
      "['b2f49629-84f5-4a73-b63b-93144773acb8', 0.0511559752806232, 0, 'Y', 100]\n",
      "['2e245c71-c764-47d4-b821-3f3aebf52397', 0.05831770541588874, 0, 'Y', 100]\n",
      "['74e5d6b4-179b-42eb-bf3b-6e7b83eab670', 0.06149684527059062, 0, 'Y', 100]\n",
      "['26f6e554-915d-484c-be50-e43b71b20631', 0.06537951696613617, 0, 'Y', 100]\n",
      "['6f0b73c0-b55f-4ddf-a33f-9eba71eccd60', 0.06585930829595192, 0, 'Y', 100]\n",
      "['ecbfa8ca-d080-491a-b070-56cc971808a8', 0.07695482933695785, 0, 'Y', 100]\n",
      "['fac5af9b-aa3c-4661-990f-6d5c64a4b577', 0.08550160978021686, 0, 'Y', 100]\n",
      "['eb1c2038-a521-49d6-8612-007e84165aac', 0.0906036979197435, 0, 'Y', 100]\n",
      "['6d023f9c-b978-4493-a228-8211db4d35d6', 0.11222938825110573, 0, 'Y', 100]\n",
      "['6bd089ca-9bc9-46b3-aa49-7b936b8880ea', 0.11281085755478744, 0, 'Y', 100]\n",
      "['3ef38619-22e3-4775-acf0-26fd54b72a32', 0.14070551910553758, 0, 'Y', 100]\n",
      "['adde9373-b088-48ee-87b8-cb501959fb01', 0.1443733501623034, 0, 'Y', 100]\n",
      "['57d036af-b6ac-4a41-a513-0d28701237cb', 0.15321263004604496, 0, 'Y', 100]\n",
      "['0eddcc8f-d435-4ee3-a8d2-9654b5e63225', 0.16179257239146275, 0, 'Y', 100]\n",
      "['6b328da2-6f70-4a53-87f3-1c98887bdc9a', 0.1753200864231503, 0, 'Y', 100]\n",
      "['5d1d2600-a4c4-4466-b26a-fb41661c8db9', 0.1912924662921787, 0, 'Y', 100]\n",
      "['4e64fe7a-fd61-429b-a289-aebe9f2c3fa8', 0.1924143403644778, 0, 'Y', 100]\n",
      "['608eba13-7fc7-4cca-b43b-f3d21f1abbae', 0.19818677970762447, 0, 'Y', 100]\n",
      "['dda5f589-0565-4390-926d-5c6fd21602ba', 0.21434141700530968, 0, 'Y', 100]\n",
      "['44698193-b0e0-4dd6-8986-a14041f48e72', 0.21478551144213862, 0, 'Y', 100]\n",
      "['018b80d9-8636-46ce-9b51-0443fc33339d', 0.22002920764777475, 0, 'Y', 100]\n",
      "['0bc590e6-4711-4000-a447-324dd346bb6e', 0.2201021013727979, 0, 'Y', 100]\n",
      "['e433a656-6bc2-44f8-a7d6-1263a2c186ba', 0.2209472761590015, 0, 'Y', 100]\n",
      "['463c528a-b359-4c4b-9465-d5a2cd89bb24', 0.22832187842184332, 0, 'Y', 100]\n",
      "['c4eb8728-3dd4-4533-b71c-650ba08fbd1c', 0.23115342399165828, 0, 'Y', 100]\n",
      "['8245f239-aedc-4a30-9596-ad26007fa7cd', 0.2377980756010277, 0, 'Y', 100]\n",
      "['cad6bb3d-e5ef-4294-b898-67f26f5638ca', 0.24250782694461875, 0, 'Y', 100]\n",
      "['063769d9-b134-48fa-a2ba-99b6c4ef3700', 0.2467875624315059, 0, 'Y', 100]\n",
      "['6982d639-c870-4f39-868b-d803f58f2e51', 0.24898675654631885, 0, 'Y', 100]\n",
      "['ab4cf602-074c-4474-a61a-f38154a3a29e', 0.2492052088728994, 0, 'Y', 100]\n",
      "['2e9ab3a4-2df7-4a28-ad4e-4452a674cf66', 0.25034596638290424, 0, 'Y', 100]\n",
      "['ac202fff-b457-472e-bb5e-1f7ede483f05', 0.2563403149014578, 0, 'Y', 100]\n",
      "['b874f3e9-d86b-4baf-b15d-8cb23ea1de90', 0.26423085816343356, 0, 'Y', 100]\n",
      "['ed2f5e73-5e1b-4089-9604-b094e6090d9a', 0.27674106055786607, 0, 'Y', 100]\n",
      "['3a5f6ed5-8e75-427b-8e8b-0f3f9e5d9e2b', 0.27939022207089753, 0, 'Y', 100]\n",
      "['b45ad832-791c-4229-baa0-bb74b912ba33', 0.297628367366676, 0, 'Y', 100]\n",
      "['05f71606-1bbd-4676-ba89-55a896ec1ca7', 0.2990773222809302, 0, 'Y', 100]\n",
      "['431da754-cf4a-4a9a-b698-4d2f5a94e555', 0.3003975602075967, 0, 'Y', 100]\n",
      "['9dae30f9-208b-491d-a406-2b85e68eca45', 0.30233305328293153, 0, 'Y', 100]\n",
      "['f042e689-cfcd-43e5-856f-fcf3ecc82e7e', 0.3072162999939372, 0, 'Y', 100]\n",
      "['35e49edb-163b-4ada-b846-cb7be8829da8', 0.30864315114559876, 0, 'Y', 100]\n",
      "['e2666401-540a-441d-a0ed-90e61bec4ca2', 0.30981944681308216, 0, 'Y', 100]\n",
      "['8078dbca-78ef-4a42-8e7c-81970592837b', 0.3152985329531493, 0, 'Y', 100]\n",
      "['8eab5f2d-cfab-4ae7-8912-986a77bc4b43', 0.3331055101983232, 0, 'Y', 100]\n",
      "['09f3ca56-539b-40bd-9c2b-287440d93409', 0.3336554572878436, 0, 'Y', 100]\n",
      "['a6456007-3d7a-4787-b9d0-82942195e8c4', 0.33748884734557666, 0, 'Y', 100]\n",
      "['6a6d59f6-57af-4239-858f-8be1f0531c74', 0.33834723743362655, 0, 'Y', 100]\n",
      "['d7b2d81b-64a3-4566-b86d-28bf3a62197a', 0.36123734543504227, 0, 'Y', 100]\n",
      "['a00c37f1-8c25-4c65-80e8-5d315003e81c', 0.36806132815005077, 0, 'Y', 100]\n",
      "['174753bf-bb85-43ae-9b69-5526fba86d50', 0.3754871692925937, 0, 'Y', 100]\n",
      "['9705d31d-06d2-4c17-a9db-96bbf78c74b9', 0.38565050095005315, 0, 'Y', 100]\n",
      "['add67471-ac10-4cb4-b864-c2fcb1de365a', 0.38739508006697404, 0, 'Y', 100]\n",
      "['c7085d21-6a24-4209-b7cf-ff0a4c1c4e0a', 0.3889647368655854, 0, 'Y', 100]\n",
      "['3f769d44-07c0-4b5d-8d7e-73feb3c9c851', 0.3987974699691155, 0, 'Y', 100]\n",
      "['7ed363ba-e4ae-4fb4-b1f7-7f7bf771d424', 0.4003471034842301, 0, 'Y', 100]\n",
      "['143e2854-533a-4d78-9cea-01608f56cc0e', 0.4280008685147802, 0, 'Y', 100]\n",
      "['4010329c-24be-4651-9ffc-48ab7521a514', 0.4299795127443198, 0, 'Y', 100]\n",
      "['11d7d334-1a9b-4007-b19a-5b2c89d78f15', 0.4381131784502202, 0, 'Y', 100]\n",
      "['5fc16f13-7009-420f-94c4-3717da8aac11', 0.46237669472208753, 0, 'Y', 100]\n",
      "['396470dd-2aa9-48f3-8178-2b725bae7d4c', 0.4708963139630989, 0, 'Y', 100]\n",
      "['dabaf99d-9ae1-4909-b580-2ec05432a72d', 0.477189372313796, 0, 'Y', 100]\n",
      "['7bd2853f-c257-4160-885b-2ac2b7cc12a8', 0.48526182752220265, 0, 'Y', 100]\n",
      "['02e9a83b-f122-4748-9772-016d99d2a6fe', 0.49537894252190073, 0, 'Y', 100]\n",
      "['958f8b4e-9053-459c-a5f2-513359c42a40', 0.5038790649306405, 0, 'Y', 100]\n",
      "['c7eaf4b4-5c5f-4228-9d96-798a657efa62', 0.5165069925336846, 0, 'Y', 100]\n",
      "['fa6b2dc4-4e46-46e5-8443-4edcbc53bde5', 0.5187607569501539, 0, 'Y', 100]\n",
      "['31e75bfd-d34f-45ea-b311-9840712546fc', 0.5222170098534843, 0, 'Y', 100]\n",
      "['55b671c8-5c29-41bd-8b37-65c694660dfb', 0.5241838207119955, 0, 'Y', 100]\n",
      "['ff636b2f-ba0d-4bca-ad8f-91889f2f48cf', 0.5477139566025873, 0, 'Y', 100]\n",
      "['dd417af5-fa1d-4fc9-8fe3-d72fbace7701', 0.5576502296704015, 0, 'Y', 100]\n",
      "['c80a95bc-011e-43ec-a07c-d46577c9a581', 0.5783193794624395, 0, 'Y', 100]\n",
      "['7d132e60-fba8-4e39-a31d-86dcc5c94510', 0.5865669321678851, 0, 'Y', 100]\n",
      "['b38bb84e-7cfc-403b-91fa-9e8785839c95', 0.623435426302948, 0, 'Y', 100]\n",
      "['0d641525-66f0-4bdc-afe6-282b9e3d5b94', 0.6247873051309492, 0, 'Y', 100]\n",
      "['b3b5e74d-e479-48ba-bff6-ed66b8aa510e', 0.6260695479194157, 0, 'Y', 100]\n",
      "['b5f65ab4-d269-452c-a19f-8f0dac1748a2', 0.6283462525541015, 0, 'Y', 100]\n",
      "['d020154c-cc44-4483-ba1e-9220ff7b6f8d', 0.6322524477401349, 0, 'Y', 100]\n",
      "['a5884ae1-8c8c-47c4-ad7d-70094870ee7a', 0.6411755287668798, 0, 'Y', 100]\n",
      "['f7893e59-dfaa-4f64-a758-5c2ed1ed7490', 0.6424762579101037, 0, 'Y', 100]\n",
      "['2b986e22-5ed7-4d53-ae57-0e6186b86cd0', 0.6433523598179084, 0, 'Y', 100]\n",
      "['4cb06251-55a5-47fc-ae22-b1ac02e1a252', 0.6467085025678683, 0, 'Y', 100]\n",
      "['8cd604da-6ced-4b35-85b9-c7e319b906f6', 0.6574759471152065, 0, 'Y', 100]\n",
      "['28a01915-2cde-4dd5-8b73-d98194e3dd84', 0.6630156986824027, 0, 'Y', 100]\n",
      "['5d3b24e5-8640-449e-b558-81f12850fd2a', 0.6654705671843502, 0, 'Y', 100]\n",
      "['18d2505e-d1ee-416b-a692-93df2477176c', 0.6658852218726339, 0, 'Y', 100]\n",
      "['e5d9532f-e838-46a5-b1c2-0d663ee34184', 0.6785766245284847, 0, 'Y', 100]\n",
      "['4fa6b547-aaaf-4268-bc86-f3ebe8c68cdb', 0.6866013394444783, 0, 'Y', 100]\n",
      "['e23715bf-5045-4b35-a97f-30ee3197f9a2', 0.702852102274309, 0, 'Y', 100]\n",
      "['fc63beff-c1a4-4787-887d-e7eb5bf53aa8', 0.7307633949966814, 0, 'Y', 100]\n",
      "['a6b8c830-a645-4c6d-95fb-9c999f0e279f', 0.7419603596355681, 0, 'Y', 100]\n",
      "['08ad645f-1a76-4d88-a2f8-a2ce0ad61281', 0.7530102489170437, 0, 'Y', 100]\n",
      "['5bf289d6-cba5-4139-aadd-57fea2865274', 0.7620920424258761, 0, 'Y', 100]\n",
      "['e71fe98a-e1e6-4f3f-8a43-4c92974e2d72', 0.7637527622986355, 0, 'Y', 100]\n",
      "['e93f8b3a-aa63-4053-97e4-fc71485b1f9c', 0.7734389999582343, 0, 'Y', 100]\n",
      "['2b1928ad-dc07-4aa1-ba0e-a18b0ffc1ce0', 0.7807572359603046, 0, 'Y', 100]\n"
     ]
    },
    {
     "data": {
      "text/plain": [
       "'Experiment successfully submitted.'"
      ]
     },
     "execution_count": 21,
     "metadata": {},
     "output_type": "execute_result"
    }
   ],
   "source": [
    "experiment_submit(N, shots, bitval, basis, filename)"
   ]
  },
  {
   "cell_type": "code",
   "execution_count": null,
   "id": "ca2bfdb6-c075-406f-980c-1d90099d7dd1",
   "metadata": {},
   "outputs": [],
   "source": []
  },
  {
   "cell_type": "code",
   "execution_count": 22,
   "id": "1cab4e90-e832-4e1b-b082-cfc7cfcc2414",
   "metadata": {},
   "outputs": [],
   "source": [
    "Jobs_Data = pd.read_csv(filename)\n",
    "JobAngles = Jobs_Data.iloc[:, 1]"
   ]
  },
  {
   "cell_type": "code",
   "execution_count": 23,
   "id": "424a251d-5776-45a7-99c7-aa9bc54bfdd2",
   "metadata": {},
   "outputs": [
    {
     "data": {
      "text/plain": [
       "'Complete'"
      ]
     },
     "execution_count": 23,
     "metadata": {},
     "output_type": "execute_result"
    }
   ],
   "source": [
    "record_experiment_data(filename, JobAngles, bitval, shots)"
   ]
  },
  {
   "cell_type": "code",
   "execution_count": 24,
   "id": "1577dd28-f59b-4954-b425-5c4233483b4e",
   "metadata": {},
   "outputs": [],
   "source": [
    "critical_theta, critical_error, Thetas, Model_Bob_Curve, Model_Eve_Curve, Model_IAB_Curve, Model_IAE_Curve, BobFidelity, EveFidelity, IAB_exp, IAE_exp, Angles = analyze_data(filename,3)"
   ]
  },
  {
   "cell_type": "code",
   "execution_count": 25,
   "id": "8682e5f0-2997-42dd-8d98-729c832d5188",
   "metadata": {},
   "outputs": [
    {
     "name": "stdout",
     "output_type": "stream",
     "text": [
      "Critical angle =  (0.6372691179865742+0j)\n",
      "pi/8 =  0.39269908169872414\n",
      "Critical error =  (0.021782195964493323+0j)\n",
      "Theoretical prediction =  0.1464466094067262\n"
     ]
    }
   ],
   "source": [
    "# values based on the intersection of plotted information curves\n",
    "print('Critical angle = ', critical_theta)\n",
    "print('pi/8 = ', np.pi/8)\n",
    "print('Critical error = ', critical_error)\n",
    "print('Theoretical prediction = ', 0.5 - 0.25 * np.sqrt(2))"
   ]
  },
  {
   "cell_type": "markdown",
   "id": "2ce90afd-0298-419f-ae03-0dc8ad513cc4",
   "metadata": {},
   "source": [
    "**Fidelity Calculations.** Below we calculate the critical error based on the intersection of the fidelity curves."
   ]
  },
  {
   "cell_type": "code",
   "execution_count": 26,
   "id": "a7037f22-3805-4b7e-b75e-be9b03c90d65",
   "metadata": {},
   "outputs": [],
   "source": [
    "def fidelity_curves_intersection(JobAngles, BobFidelity, EveFidelity, degree):\n",
    "    Model_Bob = np.poly1d(np.polyfit(JobAngles, BobFidelity, degree))\n",
    "    Model_Eve = np.poly1d(np.polyfit(JobAngles, EveFidelity, degree))\n",
    "    \n",
    "    Thetas = np.linspace(0, np.pi/4, 100)\n",
    "    Model_Bob_curve = Model_Bob(Thetas)\n",
    "    Model_Eve_curve = Model_Eve(Thetas)\n",
    "    \n",
    "    ModelDiff = Model_Bob - Model_Eve\n",
    "    Roots = np.roots(ModelDiff)\n",
    "    RealRoots = Roots[~np.iscomplex(Roots)]\n",
    "    for j in range(len(RealRoots)):\n",
    "        if RealRoots[j] >= 0 and RealRoots[j] <= np.pi/4:\n",
    "            critical_theta = RealRoots[j]\n",
    "            critical_error = error_rate_theory(RealRoots[j])\n",
    "            #print('theta2 =', RealRoots[j])\n",
    "            #print('error rate =', error_rate_theory(RealRoots[j]))\n",
    "    \n",
    "    \n",
    "    return critical_theta, critical_error, Thetas, Model_Bob_curve, Model_Eve_curve"
   ]
  },
  {
   "cell_type": "code",
   "execution_count": 27,
   "id": "e69e6801-288c-4047-a492-b7dd0f06db16",
   "metadata": {},
   "outputs": [],
   "source": [
    "JobAngles, BobFidelity, EveFidelity = get_data(filename)"
   ]
  },
  {
   "cell_type": "code",
   "execution_count": 34,
   "id": "258b1d52-6d30-4e2f-945a-07fa3dfae07e",
   "metadata": {},
   "outputs": [],
   "source": [
    "crit_theta, crit_error, Thetas, Model_Bob_curve, Model_Eve_curve = fidelity_curves_intersection(JobAngles, BobFidelity, EveFidelity, 2)"
   ]
  },
  {
   "cell_type": "code",
   "execution_count": 35,
   "id": "eec0a5f8-0686-4523-8bdc-9bc0f60132eb",
   "metadata": {},
   "outputs": [
    {
     "name": "stdout",
     "output_type": "stream",
     "text": [
      "Critical angle =  0.4599125040988731\n",
      "pi/8 =  0.39269908169872414\n",
      "Critical error =  0.10225220285282705\n",
      "Theoretical prediction =  0.1464466094067262\n"
     ]
    }
   ],
   "source": [
    "print('Critical angle = ', crit_theta)\n",
    "print('pi/8 = ', np.pi/8)\n",
    "print('Critical error = ', crit_error)\n",
    "print('Theoretical prediction = ', 0.5 - 0.25 * np.sqrt(2))"
   ]
  },
  {
   "cell_type": "code",
   "execution_count": 36,
   "id": "8cbb25d4-ee35-47ee-98ce-010b0d7ad597",
   "metadata": {},
   "outputs": [
    {
     "data": {
      "image/png": "[encoded data removed]",
      "text/plain": [
       "<Figure size 1080x576 with 1 Axes>"
      ]
     },
     "metadata": {
      "needs_background": "light"
     },
     "output_type": "display_data"
    }
   ],
   "source": [
    "plt.figure(figsize=(15,8))\n",
    "plt.rcParams.update({'font.size': 12})\n",
    "plt.scatter(JobAngles, BobFidelity , label = \"Bob's Fidelity\",color='blue')\n",
    "plt.scatter(JobAngles, EveFidelity, label = \"Eve's Fidelity\",color='red')\n",
    "plt.plot(Thetas, Model_Bob_curve, color = 'blue')\n",
    "plt.plot(Thetas, Model_Eve_curve, color = 'red')\n",
    "#plt.yticks(np.arange(0,1.1, step = .1))\n",
    "#plt.xticks(np.arange(-np.pi/2, 5*np.pi/8, step = np.pi/8))\n",
    "plt.legend(title=\"Fidelity Curves\")\n",
    "plt.xlabel('theta_2')\n",
    "plt.show()"
   ]
  },
  {
   "cell_type": "code",
   "execution_count": null,
   "id": "51c8fb36-7a9f-49e3-90e6-e897aaf61f22",
   "metadata": {},
   "outputs": [],
   "source": []
  }
 ],
 "metadata": {
  "kernelspec": {
   "display_name": "Python 3 (ipykernel)",
   "language": "python",
   "name": "python3"
  },
  "language_info": {
   "codemirror_mode": {
    "name": "ipython",
    "version": 3
   },
   "file_extension": ".py",
   "mimetype": "text/x-python",
   "name": "python",
   "nbconvert_exporter": "python",
   "pygments_lexer": "ipython3",
   "version": "3.8.12"
  }
 },
 "nbformat": 4,
 "nbformat_minor": 5
}
