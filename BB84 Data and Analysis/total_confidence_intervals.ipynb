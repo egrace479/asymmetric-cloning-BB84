{
 "cells": [
  {
   "cell_type": "code",
   "execution_count": 1,
   "id": "cbae3ad8-ccae-42ee-8174-366c3a106629",
   "metadata": {},
   "outputs": [],
   "source": [
    "import numpy as np"
   ]
  },
  {
   "cell_type": "code",
   "execution_count": 2,
   "id": "7ea006e2-6ce2-4282-b4c2-8bd97d43da15",
   "metadata": {},
   "outputs": [],
   "source": [
    "#Averages and upper/lower confidence bounds\n",
    "plus_mean, plus_lower, plus_upper = 0.2674766432533458, 0.2673772509114681, 0.2675760355952235\n",
    "minus_mean, minus_lower, minus_upper = 0.24317840897340826, 0.24307245921062764, 0.24328435873618887\n",
    "plus_i_mean, plus_i_lower, plus_i_upper = 0.1778847125323613, 0.17781650161918003, 0.17795292344554256\n",
    "minus_i_mean, minus_i_lower, minus_i_upper = 0.1843010096548715, 0.18422310827074992, 0.1843789110389931"
   ]
  },
  {
   "cell_type": "code",
   "execution_count": 3,
   "id": "45f6785b-a753-48fc-a93f-aefb046a8657",
   "metadata": {},
   "outputs": [],
   "source": [
    "total_mean = 0.25 * (plus_mean + minus_mean + plus_i_mean + minus_i_mean)"
   ]
  },
  {
   "cell_type": "code",
   "execution_count": 4,
   "id": "c0661186-d1b4-4d15-adf2-4d6b679abd74",
   "metadata": {},
   "outputs": [],
   "source": [
    "def binary_entropy(e):\n",
    "    return -e * np.log2(e) - (1-e) * np.log2(1-e)"
   ]
  },
  {
   "cell_type": "code",
   "execution_count": 5,
   "id": "8542aefd-ac94-4653-8709-7510afe5f1e8",
   "metadata": {},
   "outputs": [],
   "source": [
    "def mutual_info(e):\n",
    "    return 1 - binary_entropy(e)"
   ]
  },
  {
   "cell_type": "code",
   "execution_count": 6,
   "id": "fb4b1afb-5e54-45ed-8e00-a492d1c5b29c",
   "metadata": {},
   "outputs": [],
   "source": [
    "info_mean = mutual_info(total_mean)"
   ]
  },
  {
   "cell_type": "code",
   "execution_count": 7,
   "id": "12d7758a-66df-4274-b70b-62bb98f3735f",
   "metadata": {},
   "outputs": [
    {
     "name": "stdout",
     "output_type": "stream",
     "text": [
      "Total mean =  0.21821019360349672\n"
     ]
    }
   ],
   "source": [
    "# Totals\n",
    "print(\"Total mean = \", total_mean)"
   ]
  },
  {
   "cell_type": "code",
   "execution_count": 8,
   "id": "1876f417-ff06-438a-aa6c-4d651135f47c",
   "metadata": {},
   "outputs": [
    {
     "name": "stdout",
     "output_type": "stream",
     "text": [
      "Mean info =  0.24311412325849968\n"
     ]
    }
   ],
   "source": [
    "# Information\n",
    "print(\"Mean info = \", info_mean)"
   ]
  },
  {
   "cell_type": "code",
   "execution_count": 9,
   "id": "32eab03c-0a8c-4a3e-b9d8-dce27a93421e",
   "metadata": {},
   "outputs": [],
   "source": [
    "plus_width = plus_upper - plus_lower\n",
    "minus_width = minus_upper - minus_lower\n",
    "plus_i_width = plus_i_upper - plus_i_lower\n",
    "minus_i_width = minus_i_upper - minus_i_lower"
   ]
  },
  {
   "cell_type": "code",
   "execution_count": 10,
   "id": "312e1024-de32-49c0-9bb1-b1efacbccb96",
   "metadata": {},
   "outputs": [],
   "source": [
    "width = np.sqrt(plus_width**2 + minus_width**2 + plus_i_width**2 + minus_i_width**2)"
   ]
  },
  {
   "cell_type": "code",
   "execution_count": 11,
   "id": "cfee2bb8-0851-41e6-a3ff-560307028d51",
   "metadata": {},
   "outputs": [],
   "source": [
    "total_upper = total_mean + width/2\n",
    "total_lower = total_mean - width/2"
   ]
  },
  {
   "cell_type": "code",
   "execution_count": 12,
   "id": "9aebdfe0-98d4-451d-a2e8-05562ee68cff",
   "metadata": {},
   "outputs": [
    {
     "name": "stdout",
     "output_type": "stream",
     "text": [
      "Total upper bound =  0.21838859075645126\n",
      "Total lower bound =  0.2180317964505422\n"
     ]
    }
   ],
   "source": [
    "print(\"Total upper bound = \", total_upper)\n",
    "print(\"Total lower bound = \", total_lower)"
   ]
  },
  {
   "cell_type": "code",
   "execution_count": 13,
   "id": "b562bd99-ba16-47ef-b237-b2644b3ef6e2",
   "metadata": {},
   "outputs": [],
   "source": [
    "info_upper = mutual_info(total_upper)\n",
    "info_lower = mutual_info(total_lower)"
   ]
  },
  {
   "cell_type": "code",
   "execution_count": 14,
   "id": "611ad8f0-691d-4ea0-b7c4-2685c4d1dc94",
   "metadata": {},
   "outputs": [
    {
     "name": "stdout",
     "output_type": "stream",
     "text": [
      "Information upper bound =  0.24278581753589923\n",
      "Information lower bound =  0.24344269812551889\n"
     ]
    }
   ],
   "source": [
    "print(\"Information upper bound = \", info_upper)\n",
    "print(\"Information lower bound = \", info_lower)"
   ]
  },
  {
   "cell_type": "code",
   "execution_count": 15,
   "id": "b5673edf-8474-4993-bfee-8337dabd223c",
   "metadata": {},
   "outputs": [],
   "source": [
    "# Theoretical calculations\n",
    "theory_error_rate = 0.5 - np.sqrt(2)/4\n",
    "theory_info = mutual_info(theory_error_rate)"
   ]
  },
  {
   "cell_type": "code",
   "execution_count": 16,
   "id": "a4d56c9e-f323-4478-b69b-2eea445352ec",
   "metadata": {},
   "outputs": [
    {
     "name": "stdout",
     "output_type": "stream",
     "text": [
      "Theoretical error rate =  0.1464466094067262\n",
      "Theoretical information bound =  0.39912396330714384\n"
     ]
    }
   ],
   "source": [
    "print(\"Theoretical error rate = \", theory_error_rate)\n",
    "print(\"Theoretical information bound = \", theory_info)"
   ]
  },
  {
   "cell_type": "code",
   "execution_count": null,
   "id": "d50b9586-f4c8-4197-9ec2-59411836b5a8",
   "metadata": {},
   "outputs": [],
   "source": []
  }
 ],
 "metadata": {
  "kernelspec": {
   "display_name": "Python 3 (ipykernel)",
   "language": "python",
   "name": "python3"
  },
  "language_info": {
   "codemirror_mode": {
    "name": "ipython",
    "version": 3
   },
   "file_extension": ".py",
   "mimetype": "text/x-python",
   "name": "python",
   "nbconvert_exporter": "python",
   "pygments_lexer": "ipython3",
   "version": "3.8.13"
  }
 },
 "nbformat": 4,
 "nbformat_minor": 5
}
