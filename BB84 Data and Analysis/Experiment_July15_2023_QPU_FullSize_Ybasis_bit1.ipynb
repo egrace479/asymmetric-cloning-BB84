{
 "cells": [
  {
   "cell_type": "code",
   "execution_count": null,
   "id": "2126458b-392e-4cfc-9fc6-39714eed13cd",
   "metadata": {},
   "outputs": [],
   "source": []
  },
  {
   "cell_type": "code",
   "execution_count": 34,
   "id": "583638de-e8e9-4b6e-b9ff-f6f9ff83a58f",
   "metadata": {},
   "outputs": [],
   "source": [
    "import numpy as np\n",
    "import matplotlib.pyplot as plt\n",
    "import csv\n",
    "import pandas as pd\n",
    "\n",
    "# from qiskit import *\n",
    "# Importing standard Qiskit libraries\n",
    "from qiskit import QuantumCircuit, QuantumRegister, ClassicalRegister\n",
    "from qiskit import IBMQ, Aer, execute, assemble, transpile\n",
    "from qiskit.visualization import plot_histogram, plot_bloch_vector\n",
    "from qiskit.visualization import plot_state_qsphere, plot_state_city, plot_bloch_multivector\n",
    "from qiskit.visualization import array_to_latex\n",
    "import qiskit.quantum_info as qi\n",
    "# from qiskit_ibm_runtime import QiskitRuntimeService\n",
    "\n",
    "from qiskit_ionq import IonQProvider\n",
    "# import gates\n",
    "from qiskit_ionq import GPIGate, GPI2Gate, MSGate\n",
    "from qiskit import Aer, execute, assemble\n",
    "from qiskit.providers.jobstatus import JobStatus\n",
    "import time\n",
    "\n",
    "from pipeline.qiskit_circuit_constructor import qiskit_alice_prepares, qiskit_measurement_prep, qiskit_clone, construct_qiskit_circuit\n",
    "from pipeline.ionq_circuit_constructor import ionq_alice_prepares\n",
    "from pipeline.ionq_circuit_constructor import ionq_measurement_prep\n",
    "from pipeline.ionq_circuit_constructor import ionq_clone\n",
    "from pipeline.ionq_circuit_constructor import construct_ionq_circuit\n",
    "#from pipeline.run_experiments import fidelities\n",
    "#from pipeline.run_experiments import get_circuit\n",
    "#from pipeline.run_experiments import run_experiment_ionq\n",
    "#from pipeline.run_experiments import run_simulation\n",
    "\n",
    "provider = IonQProvider(\"2BCQ6XP8m8wN0BPl3KawTCsAwYEBn73F\")\n",
    "native_simulator = provider.get_backend(\"ionq_simulator\", gateset=\"native\")\n",
    "native_qpu = provider.get_backend(\"ionq_qpu\", gateset=\"native\")\n",
    "\n",
    "#ionq_sim = provider.get_backend(\"ionq_simulator\")\n",
    "ionq_qpu = provider.get_backend(\"ionq_qpu\")"
   ]
  },
  {
   "cell_type": "code",
   "execution_count": 2,
   "id": "f71e1280-2b36-4ef0-8d6e-1ac36a2f377a",
   "metadata": {},
   "outputs": [],
   "source": [
    "# Selection of Experiment Parameters\n",
    "N = 100 # number of randomly selected angles from 0 to pi/4\n",
    "shots = 100 # number of shots for each input angle\n",
    "basis = 'Y'\n",
    "bitval = 1\n",
    "filename = 'Experiment_July15_2023_QPU_FullSize_Ybasis_bit1.csv'\n"
   ]
  },
  {
   "cell_type": "code",
   "execution_count": 3,
   "id": "2580d602-0371-4e11-a362-c73219f3d69f",
   "metadata": {},
   "outputs": [],
   "source": [
    "def retrieve_data(job_num, angle, bitval, shot_count):\n",
    "    ionq = provider.get_backend(\"ionq_qpu\")\n",
    "    retrieved = ionq.retrieve_job(job_num) \n",
    "    counts = retrieved.result().get_counts()\n",
    "    \n",
    "    out000 = retrieved.result().get_counts().get(\"000\")\n",
    "    out001 = retrieved.result().get_counts().get(\"001\")\n",
    "    out010 = retrieved.result().get_counts().get(\"010\")\n",
    "    out011 = retrieved.result().get_counts().get(\"011\")\n",
    "    out100 = retrieved.result().get_counts().get(\"100\")\n",
    "    out101 = retrieved.result().get_counts().get(\"101\")\n",
    "    out110 = retrieved.result().get_counts().get(\"110\")\n",
    "    out111 = retrieved.result().get_counts().get(\"111\")\n",
    "    \n",
    "    if out000 == None:\n",
    "        out000 = 0\n",
    "    if out001 == None:\n",
    "        out001 = 0\n",
    "    if out010 == None:\n",
    "        out010 = 0\n",
    "    if out011 == None:\n",
    "        out011 = 0\n",
    "        \n",
    "    if out100 == None:\n",
    "        out100 = 0\n",
    "    if out101 == None:\n",
    "        out101 = 0\n",
    "    if out110 == None:\n",
    "        out110 = 0\n",
    "    if out111 == None:\n",
    "        out111 = 0\n",
    "        \n",
    "    B,E = fidelities(out000, out001, out010, out011, out100, out101, out110, out111, bitval, shot_count)\n",
    "    \n",
    "    row_data = [job_num, angle, shot_count, out000, out001, out010, out011, out100, out101, out110, out111, B, E]\n",
    "        \n",
    "    return row_data"
   ]
  },
  {
   "cell_type": "code",
   "execution_count": 4,
   "id": "354d89c6-e572-443f-b654-9a7a59587b2b",
   "metadata": {},
   "outputs": [],
   "source": [
    "def fidelities(out000, out001, out010, out011, out100, out101, out110, out111, bitval, shots):\n",
    "    '''\n",
    "    This function averages the fidelity of the clones and ancilla over experiment.\n",
    "\n",
    "    Parameters:\n",
    "    --------------\n",
    "    outijk -\n",
    "    bitval -\n",
    "    shots - Number of samples.\n",
    "\n",
    "    Returns:\n",
    "    --------------\n",
    "    bob_fidelity - Fidelity of copy sent to intended recipient (Bob).\n",
    "    eve_fidelity - Fidelity of copy kept by eavesdropper (Eve).\n",
    "    ancilla_fidelity - Fidelity of the ancilla.\n",
    "    \n",
    "    '''\n",
    "    \n",
    "    if bitval == 1:\n",
    "        bob_fidelity = (out001 + out011 + out101 + out111)/shots\n",
    "        eve_fidelity = (out010 + out011 + out110 + out111)/shots\n",
    "        #ancilla_fidelity = (out100 + out101 + out110 + out111)/shots\n",
    "        \n",
    "    if bitval == 0:\n",
    "        bob_fidelity = (out010 + out000 + out110 + out100)/shots\n",
    "        eve_fidelity = (out001 + out000 + out101 + out100)/shots\n",
    "        #ancilla_fidelity = (out000 + out001 + out010 + out011)/shots\n",
    "        \n",
    "    return bob_fidelity, eve_fidelity"
   ]
  },
  {
   "cell_type": "code",
   "execution_count": 5,
   "id": "b8b4a234-677d-4b14-a62d-73b364d0e5c6",
   "metadata": {},
   "outputs": [],
   "source": [
    "def get_circuit(angle, bitval, basis):\n",
    "    qc = QuantumCircuit(3,3)\n",
    "    \n",
    "    qc = qiskit_alice_prepares(qc, bitval, basis)\n",
    "    qc.barrier()\n",
    "    qc = qiskit_clone(qc, angle)\n",
    "    qc.barrier()\n",
    "    qc = qiskit_measurement_prep(qc, basis)\n",
    "    \n",
    "    qc.measure(0,0)\n",
    "    qc.measure(1,1)\n",
    "    qc.measure(2,2)\n",
    "    return qc"
   ]
  },
  {
   "cell_type": "code",
   "execution_count": 6,
   "id": "40f12483-4083-4e50-bdb4-d36305b8cb1e",
   "metadata": {},
   "outputs": [],
   "source": [
    "def experiment_qpu(angle, bitval, basis, shot_count):\n",
    "    qc = get_circuit(angle, bitval, basis)\n",
    "    \n",
    "    #ionq_qpu = provider.get_backend(\"ionq_qpu\")\n",
    "    job = ionq_qpu.run(qc, shots = shot_count)\n",
    "\n",
    "    job_data = [job.job_id(), angle, bitval, basis, shot_count]\n",
    "    \n",
    "    return job_data"
   ]
  },
  {
   "cell_type": "code",
   "execution_count": 7,
   "id": "54c0d7ad-d22e-46a3-a13c-1770229207ac",
   "metadata": {},
   "outputs": [],
   "source": [
    "# Random selection of angles\n",
    "def angles(N):\n",
    "    Angles = np.random.uniform(0, np.pi/4, N)\n",
    "    Angles = np.sort(Angles)\n",
    "    return Angles"
   ]
  },
  {
   "cell_type": "code",
   "execution_count": 8,
   "id": "1cdd8f06-0957-45d3-bc33-abaad448dad5",
   "metadata": {},
   "outputs": [],
   "source": [
    "def record_experiment_setup(filename, Angles, bitval, basis, shots): \n",
    "    header = ['Job Number', 'Angle', 'Bit Value', 'Basis', 'Total Shots']\n",
    "\n",
    "    with open(filename, 'w', encoding = 'UTF8') as f:\n",
    "        writer = csv.writer(f)\n",
    "        writer.writerow(header)\n",
    "    \n",
    "        for j in range(N):\n",
    "            job_data = experiment_qpu(Angles[j], bitval, basis, shots)\n",
    "            writer.writerow(job_data)\n",
    "            print(job_data)\n",
    "        \n",
    "        f.close()  \n",
    "        \n",
    "        return 'Complete'"
   ]
  },
  {
   "cell_type": "code",
   "execution_count": 9,
   "id": "fd5ba4b4-74c4-4079-b32b-3db28a08db33",
   "metadata": {},
   "outputs": [],
   "source": [
    "def record_experiment_data(filename, Angles, bitval, shots):\n",
    "    Jobs_Data = pd.read_csv(filename)\n",
    "    JobNumbers = Jobs_Data.iloc[:, 0]\n",
    "    \n",
    "    header = ['Job Number', 'Angle','Total Shots', '000', '001', '010', '011', '100', '101', '110', '111', 'Bobs Fidelity', 'Eves Fidelity']\n",
    "\n",
    "    with open(filename, 'w', encoding = 'UTF8') as f:\n",
    "        writer = csv.writer(f)\n",
    "        writer.writerow(header)\n",
    "\n",
    "        for j in range(len(JobNumbers)):\n",
    "            row_data = retrieve_data(JobNumbers[j], Angles[j], bitval, shots)\n",
    "            writer.writerow(row_data)\n",
    "\n",
    "        f.close()\n",
    "    \n",
    "    return 'Complete'"
   ]
  },
  {
   "cell_type": "code",
   "execution_count": 10,
   "id": "59ca700d-b8fa-46b4-bd19-50471ad4b3c9",
   "metadata": {},
   "outputs": [],
   "source": [
    "def get_data(filename):\n",
    "    Completed_Job_Data = pd.read_csv(filename)\n",
    "\n",
    "    JobAngles = Completed_Job_Data.iloc[:, 1]\n",
    "    BobFidelity = Completed_Job_Data.iloc[:, 11]\n",
    "    EveFidelity = Completed_Job_Data.iloc[:, 12]\n",
    "\n",
    "    JobAngles = np.array(JobAngles)\n",
    "    BobFidelity = np.array(BobFidelity)\n",
    "    EveFidelity = np.array(EveFidelity)\n",
    "    \n",
    "    return  JobAngles, BobFidelity, EveFidelity"
   ]
  },
  {
   "cell_type": "code",
   "execution_count": 11,
   "id": "4c9f566e-fe60-4d97-9512-de9b086f8fb5",
   "metadata": {},
   "outputs": [],
   "source": [
    "def fidelity_curves(JobAngles, BobFidelity, EveFidelity, degree):\n",
    "    Model_Bob = np.poly1d(np.polyfit(JobAngles, BobFidelity, degree))\n",
    "    Model_Eve = np.poly1d(np.polyfit(JobAngles, EveFidelity, degree))\n",
    "    Thetas = np.linspace(0, np.pi/4, 100)\n",
    "    Model_Bob_Curve = Model_Bob(Thetas)\n",
    "    Model_Eve_Curve = Model_Eve(Thetas)\n",
    "    return Thetas, Model_Bob_Curve, Model_Eve_Curve"
   ]
  },
  {
   "cell_type": "code",
   "execution_count": 12,
   "id": "af6a5263-b3ea-4900-af6b-06bcee034ef3",
   "metadata": {},
   "outputs": [],
   "source": [
    "def QBER_Bob_exp(N, BobFidelity):\n",
    "    Q = np.ones(N)\n",
    "    Q = Q - BobFidelity\n",
    "    return Q"
   ]
  },
  {
   "cell_type": "code",
   "execution_count": 13,
   "id": "13d6cf3f-fb11-45b5-a834-284d0e14d931",
   "metadata": {},
   "outputs": [],
   "source": [
    "def binary_entropy(t):\n",
    "    if t == 0 or t == 1:\n",
    "        return 0\n",
    "    else:\n",
    "        return -t * np.log2(t) - (1-t) * np.log2(1-t)"
   ]
  },
  {
   "cell_type": "code",
   "execution_count": 14,
   "id": "8fbf072e-91df-4794-acd1-adfbd341482f",
   "metadata": {},
   "outputs": [],
   "source": [
    "# Mutual information between Alice and Bob\n",
    "def Info_AB(Q):\n",
    "    return 1 - binary_entropy(Q)"
   ]
  },
  {
   "cell_type": "code",
   "execution_count": 15,
   "id": "9e6f700d-d197-488e-9982-cb94275796bd",
   "metadata": {},
   "outputs": [],
   "source": [
    "# Mutual information between Alice and Eve\n",
    "def Info_AE(Q):\n",
    "    return 1 - binary_entropy(0.5 - np.sqrt(Q * (1-Q)))"
   ]
  },
  {
   "cell_type": "code",
   "execution_count": 16,
   "id": "549d4065-8f89-4ed1-9090-7a933bd08621",
   "metadata": {},
   "outputs": [],
   "source": [
    "# Calculate the observed mutual information using the fidelities for Bob and Eve\n",
    "def observed_mutual_info(N, Q):\n",
    "    IAB_exp = np.zeros(N)\n",
    "    IAE_exp = np.zeros(N)\n",
    "    for j in range(N):\n",
    "        IAB_exp[j] = Info_AB(Q[j])\n",
    "        IAE_exp[j] = Info_AE(Q[j])\n",
    "    return IAB_exp, IAE_exp"
   ]
  },
  {
   "cell_type": "code",
   "execution_count": 17,
   "id": "b8b37475-ddd3-4637-a798-d4db215421e7",
   "metadata": {},
   "outputs": [],
   "source": [
    "# A function that calculates the threshold error rate for Alice and Bob\n",
    "# Error rate\n",
    "def error_rate_theory(theta):\n",
    "    return 0.5 - 0.5*np.sin(2 * theta)"
   ]
  },
  {
   "cell_type": "code",
   "execution_count": 18,
   "id": "df7ac9f9-fac2-4204-a4b1-7f4a4a360b79",
   "metadata": {},
   "outputs": [],
   "source": [
    "# Fitting Curvesfor the mutual information functions and calculate critical error rate and theta2 values\n",
    "def mutual_info_curves(Angles, IAB_exp, IAE_exp, degree):\n",
    "    critical_theta = 0.0\n",
    "    critical_error = 0.0\n",
    "    \n",
    "    Model_IAB = np.poly1d(np.polyfit(Angles, IAB_exp, degree))\n",
    "    Model_IAE = np.poly1d(np.polyfit(Angles, IAE_exp, degree))\n",
    "    Thetas = np.linspace(0, np.pi/4, 100)\n",
    "    Model_IAB_curve = Model_IAB(Thetas)\n",
    "    Model_IAE_curve = Model_IAE(Thetas)\n",
    "     \n",
    "    ModelDiff = Model_IAB - Model_IAE\n",
    "    Roots = np.roots(ModelDiff)\n",
    "    RealRoots = Roots[~np.iscomplex(Roots)]\n",
    "    for j in range(len(RealRoots)):\n",
    "        if RealRoots[j] >= 0 and RealRoots[j] <= np.pi/4:\n",
    "            critical_theta = RealRoots[j]\n",
    "            critical_error = error_rate_theory(RealRoots[j])\n",
    "            #print('theta2 =', RealRoots[j])\n",
    "            #print('error rate =', error_rate_theory(RealRoots[j]))\n",
    "    \n",
    "    return Thetas, Model_IAB_curve, Model_IAE_curve, critical_theta, critical_error\n",
    "    "
   ]
  },
  {
   "cell_type": "code",
   "execution_count": 19,
   "id": "340de86d-c6bd-412b-9a5c-4b3e67373736",
   "metadata": {},
   "outputs": [],
   "source": [
    "def experiment_submit(N, shots, bitval, basis, filename):\n",
    "    # generate angles\n",
    "    JobAngles = angles(N)\n",
    "    \n",
    "    # record the experiment setup\n",
    "    print('Experimental Setup')\n",
    "    record_experiment_setup(filename, JobAngles, bitval, basis, shots)\n",
    "    \n",
    "     # record the experimental data\n",
    "    #print('Recording data from the experiment')\n",
    "    #record_experiment_data(filename, JobAngles, bitval, shots)\n",
    "    \n",
    "    return 'Experiment successfully submitted.'"
   ]
  },
  {
   "cell_type": "code",
   "execution_count": 20,
   "id": "b7419b49-5565-40fa-abe2-06edc922660b",
   "metadata": {},
   "outputs": [],
   "source": [
    "def analyze_data(filename, degree):\n",
    "     # get the fidelities\n",
    "    Angles, BobFidelity, EveFidelity = get_data(filename)\n",
    "    \n",
    "    # calculate Bob's QBER\n",
    "    Q = QBER_Bob_exp(N, BobFidelity)\n",
    "    \n",
    "    # get the fidelity curves\n",
    "    Thetas, Model_Bob_Curve, Model_Eve_Curve = fidelity_curves(Angles, BobFidelity, EveFidelity, degree)\n",
    "    \n",
    "    # calculate the observed mutual information\n",
    "    IAB_exp, IAE_exp = observed_mutual_info(N,Q)\n",
    "    \n",
    "    # calculate the mutual information curves and the error rate/critical angle\n",
    "    Thetas, Model_IAB_Curve, Model_IAE_Curve, critical_theta, critical_error = mutual_info_curves(Angles, IAB_exp, IAE_exp, degree)\n",
    "    \n",
    "    return critical_theta, critical_error, Thetas, Model_Bob_Curve, Model_Eve_Curve, Model_IAB_Curve, Model_IAE_Curve, BobFidelity, EveFidelity, IAB_exp, IAE_exp, Angles"
   ]
  },
  {
   "cell_type": "code",
   "execution_count": 21,
   "id": "5e4a1a29-7ace-4ec3-8bdf-47c7e11a9cd6",
   "metadata": {},
   "outputs": [
    {
     "name": "stdout",
     "output_type": "stream",
     "text": [
      "Experimental Setup\n",
      "['6f327a33-6146-4f27-8e36-26720378d87b', 0.005892604940184688, 1, 'Y', 100]\n",
      "['ed2c814c-3c12-4b5e-bddb-687ab0bc1cb9', 0.0060302269381849885, 1, 'Y', 100]\n",
      "['bbf0fe00-01fb-4328-8420-8ad0abc0f186', 0.00714269821909161, 1, 'Y', 100]\n",
      "['53acba3d-7114-4113-973c-1b41a13ed517', 0.008993253799863188, 1, 'Y', 100]\n",
      "['55667067-39ed-4191-aa77-a30483326551', 0.027989561622148437, 1, 'Y', 100]\n",
      "['0e6cdfdf-d565-4295-b443-06cc9b579580', 0.030241488085883204, 1, 'Y', 100]\n",
      "['e55f43e7-e1fa-4fb7-bfd6-abd54b66ea2e', 0.03532336751267951, 1, 'Y', 100]\n",
      "['592adcc4-bb91-44b6-9cba-d640bb1d6731', 0.04196898637218856, 1, 'Y', 100]\n",
      "['a6e4d349-1c42-4d30-8ad0-a58051a7c3e2', 0.06261610779629138, 1, 'Y', 100]\n",
      "['c49dbe79-186a-489a-8ad2-248104b5e6bc', 0.06449269620624784, 1, 'Y', 100]\n",
      "['e16e366d-b052-41c7-a906-78def7450928', 0.06931201582114922, 1, 'Y', 100]\n",
      "['20c67259-c03b-43c3-842b-72c0be3d803c', 0.07295563843429954, 1, 'Y', 100]\n",
      "['5d599ef6-bfda-4fb7-af80-029ab4decd65', 0.07302217183889091, 1, 'Y', 100]\n",
      "['ef57ef7e-64bd-48ab-bbf0-edc8e055ca10', 0.07590021877758747, 1, 'Y', 100]\n",
      "['02fb8d7f-491f-4044-abbe-be814254fce5', 0.08528604906197358, 1, 'Y', 100]\n",
      "['bf27ff57-7e4e-4615-84a9-c96972970fd6', 0.09138492727857248, 1, 'Y', 100]\n",
      "['f46c7fcd-4a6e-4569-a09d-241fd99209ed', 0.1351971928763757, 1, 'Y', 100]\n",
      "['5bb8fa3f-4ec2-448a-98d6-a96d3b86fb39', 0.13753835056471114, 1, 'Y', 100]\n",
      "['27db91c9-6bb3-4c63-9389-8cbb3f0449e1', 0.1448103904768695, 1, 'Y', 100]\n",
      "['df4e9dfc-113b-4f50-bbf2-c3bf59cc6fef', 0.1455574918377663, 1, 'Y', 100]\n",
      "['f7e0a970-2753-437b-93a1-cca915f308da', 0.17965290418440755, 1, 'Y', 100]\n",
      "['321da60c-9eee-41bc-b4b0-569342ae8cf1', 0.19477093752765448, 1, 'Y', 100]\n",
      "['980f796a-76ed-4cdd-bf4e-52154d757bd2', 0.19679564884973408, 1, 'Y', 100]\n",
      "['9ada3965-1f41-4e5d-b405-4534a02c3f42', 0.2023167995500506, 1, 'Y', 100]\n",
      "['0056b385-0fe2-4fee-9282-4718bff25e45', 0.20453669866831173, 1, 'Y', 100]\n",
      "['5784889d-f0cc-405a-8ad6-48d50824372e', 0.21386063329302457, 1, 'Y', 100]\n",
      "['afcd53d9-fa3a-4ee8-96dd-545698bdef8b', 0.21512091415103288, 1, 'Y', 100]\n",
      "['dbffa9d7-a3a3-4736-98ce-72ab7dda6904', 0.22824527325285246, 1, 'Y', 100]\n",
      "['218c359f-a77b-46c7-81ff-7ba2909c1ba8', 0.23223430769158063, 1, 'Y', 100]\n",
      "['e5de0aa2-ed26-4edc-9263-c3b95d4b1b49', 0.25484946108760487, 1, 'Y', 100]\n",
      "['2155aa5d-96c6-4c08-82ba-7732175bd239', 0.2595176835595674, 1, 'Y', 100]\n",
      "['7720667b-8d57-4891-9705-6a94ce4940e2', 0.26704328865187965, 1, 'Y', 100]\n",
      "['f0c79242-0cac-4307-a5d6-ee47cdf20a76', 0.270149737367151, 1, 'Y', 100]\n",
      "['79b3c746-c3de-4121-a4c0-bbb961a7537d', 0.27400912085627516, 1, 'Y', 100]\n",
      "['27808e35-b80d-42ca-8649-845bde2434e0', 0.274907789494273, 1, 'Y', 100]\n",
      "['07b223ab-9c2b-4c48-9049-0a43f0545e3f', 0.2907024623660564, 1, 'Y', 100]\n",
      "['4e0f55b4-8941-485a-a428-80b20fa433ae', 0.2913387958165522, 1, 'Y', 100]\n",
      "['a0fc7e1a-31ae-4074-879e-d05fa38ec12f', 0.29186278827725504, 1, 'Y', 100]\n",
      "['f87ce746-3e33-475f-a02e-79fd7059c7e1', 0.29204302030014384, 1, 'Y', 100]\n",
      "['4fbdf3a3-8b98-4bae-9ca6-9abb42ceeb94', 0.29305096437316636, 1, 'Y', 100]\n",
      "['ec3c43ea-8432-4173-9542-2cad56ff0210', 0.29866795199217727, 1, 'Y', 100]\n",
      "['eb7a7fe6-22f4-47a8-9aec-e9b2f108ab79', 0.3085957286919025, 1, 'Y', 100]\n",
      "['39aefe28-51b1-4c8f-9a27-bf1aa26f5485', 0.31265670936931345, 1, 'Y', 100]\n",
      "['809b9521-ebce-42be-9a21-fbdec6db4e9e', 0.329212793827612, 1, 'Y', 100]\n",
      "['3cc4e9f5-39ec-441b-adbc-29be21292d4a', 0.339125065353001, 1, 'Y', 100]\n",
      "['60e13fb0-7574-448b-96e3-ba19fd172cb1', 0.34250552378174126, 1, 'Y', 100]\n",
      "['5fe7cc58-ca69-439e-b05d-2f6b711555f7', 0.3523470031804061, 1, 'Y', 100]\n",
      "['82e1bd53-b987-413f-b8d3-a3d5fd41d6b4', 0.3560361408202586, 1, 'Y', 100]\n",
      "['062f3ca7-31f8-4fe0-814d-04f27c730a92', 0.37954731419282406, 1, 'Y', 100]\n",
      "['c5a6c407-b312-4207-af85-b8aa909798b5', 0.38093790205942446, 1, 'Y', 100]\n",
      "['fb9ed7f1-3e25-471d-a5c6-0a0e75abec82', 0.3829809917867931, 1, 'Y', 100]\n",
      "['ba4cf102-65c7-4fe1-8fd0-bf57527b507c', 0.39253404945586573, 1, 'Y', 100]\n",
      "['e30a9f3a-cce9-4630-a856-6de20ebf37c2', 0.3937621452387677, 1, 'Y', 100]\n",
      "['9ad5f69b-8c5b-4ade-aa08-5cdff9f70dab', 0.41092665362817143, 1, 'Y', 100]\n",
      "['c63bd61d-36ca-4c9a-86f5-ab2fc27b3070', 0.4238039809318638, 1, 'Y', 100]\n",
      "['4fb560ad-7fdb-44cf-a1d8-e916bb66ddc4', 0.4252316371810308, 1, 'Y', 100]\n",
      "['c59704c7-06b4-4d19-8efb-d4869e06f85b', 0.42734045485273586, 1, 'Y', 100]\n",
      "['8b598ac9-6519-4bc4-a04c-2e3157dc3d35', 0.4326546105789478, 1, 'Y', 100]\n",
      "['c7681dab-2f35-43da-838e-b05050792fbe', 0.4398009536381288, 1, 'Y', 100]\n",
      "['649dd044-cf2f-4247-96a0-07a035235a89', 0.45597120930434876, 1, 'Y', 100]\n",
      "['f7bb0fb7-e860-4ee0-9c1c-d913d045036e', 0.4594381411186194, 1, 'Y', 100]\n",
      "['d1afbc9c-3b8a-4ab2-8d4f-801354158a85', 0.45953987811645197, 1, 'Y', 100]\n",
      "['ddb7e4e4-b4c1-4bc3-8314-d99535f72742', 0.4606089564999947, 1, 'Y', 100]\n",
      "['75af7969-47ee-450b-aabb-32fa7a47a979', 0.4725822176732963, 1, 'Y', 100]\n",
      "['0be0e8c3-103f-44e0-838e-86cdecac19bd', 0.47863896429848013, 1, 'Y', 100]\n",
      "['941ea1bf-26d2-4570-bb2e-cab8f18134fb', 0.4929698785407715, 1, 'Y', 100]\n",
      "['3c80d3ce-149d-455a-8629-ec47442a76bc', 0.5205491926414637, 1, 'Y', 100]\n",
      "['9f1432fc-75df-4336-b614-374e9ca85790', 0.524484741734095, 1, 'Y', 100]\n",
      "['b09ae9af-4dc2-40fb-b894-42ce987c6b4a', 0.5329077211648005, 1, 'Y', 100]\n",
      "['947bed90-1b7c-4262-9ade-a3e173c487bf', 0.5393723619016649, 1, 'Y', 100]\n",
      "['795ba11b-1e2e-4e2f-9d27-739a6d17a306', 0.5550994773019047, 1, 'Y', 100]\n",
      "['7f341359-ede8-44ce-9cc0-dd2047c3e685', 0.5595056417539365, 1, 'Y', 100]\n",
      "['23dd97f6-015a-4b12-8db3-d5164c5eb27d', 0.5632531485351865, 1, 'Y', 100]\n",
      "['845a1c3a-5cd9-4e0d-825a-2857251203be', 0.5639844372947478, 1, 'Y', 100]\n",
      "['f24de2ce-8a09-4f41-9866-4b5622861efb', 0.5644213629046742, 1, 'Y', 100]\n",
      "['d8c13963-cd87-4f30-8b52-6810a5c408ed', 0.589818594511405, 1, 'Y', 100]\n",
      "['b86c48d3-078e-4fba-a32f-b0ac4c70b6ce', 0.5922177062780527, 1, 'Y', 100]\n",
      "['7a8f5294-93bc-46fc-bcf6-b64b9473733e', 0.5931316207286095, 1, 'Y', 100]\n",
      "['3c777e2e-5359-4634-9393-b48813bb1a6e', 0.6012442692022253, 1, 'Y', 100]\n",
      "['f017587e-fd68-41e1-883c-5c561e15dbb9', 0.6042909437683827, 1, 'Y', 100]\n",
      "['90ed7ef3-7198-43d5-8a0a-805e2d7ca7c9', 0.6098922558494433, 1, 'Y', 100]\n",
      "['618a7b63-8b87-4288-924f-d3e2490aedea', 0.6140074196436462, 1, 'Y', 100]\n",
      "['f561dde0-f3b1-46bf-a6a8-3d4f03ce5050', 0.6366646209070074, 1, 'Y', 100]\n",
      "['97396890-be06-43b8-aff6-16ac23542406', 0.639827596251738, 1, 'Y', 100]\n",
      "['7e00891f-44dd-4029-a282-86cdda023276', 0.6433588190207529, 1, 'Y', 100]\n",
      "['0a46264e-221c-4286-80ad-9aef63a1f7a1', 0.6557851618944517, 1, 'Y', 100]\n",
      "['b2971794-293f-4df6-a830-1d2b6170d2cc', 0.6596999922756518, 1, 'Y', 100]\n",
      "['2797fee0-17d3-499b-8790-4aba77d5ea95', 0.6651216459823033, 1, 'Y', 100]\n",
      "['341188ad-ff74-4ab5-9fb4-75b159adfc09', 0.6769750459114295, 1, 'Y', 100]\n",
      "['7d1093f7-26c1-4fd4-99ac-b324e65a649f', 0.6894790790357138, 1, 'Y', 100]\n",
      "['79f6bb97-df07-4a26-8749-4eb3073b8f5f', 0.7097580278038773, 1, 'Y', 100]\n",
      "['fa54f127-b360-4b11-a85d-860b36a1cc2a', 0.7102512228736442, 1, 'Y', 100]\n",
      "['e7f071f7-3730-4dc5-a7d3-1de8d8a7c9ea', 0.717595760006612, 1, 'Y', 100]\n",
      "['cd5b6518-3a50-4cb7-a4a5-c1ec94252332', 0.7229588305568482, 1, 'Y', 100]\n",
      "['fc3084db-8223-475c-9f46-87abf7a5ddcc', 0.733498686533955, 1, 'Y', 100]\n",
      "['3f67f45b-9855-4450-b760-f7c1b87c6f74', 0.7453864838196558, 1, 'Y', 100]\n",
      "['6e317847-557a-4627-99d4-094b831a729a', 0.7700890377453068, 1, 'Y', 100]\n",
      "['5349a5b4-9da6-40d9-87a5-63ae5d3c6509', 0.7733652377495608, 1, 'Y', 100]\n",
      "['f63c89e0-0bd1-4001-b1ba-7553acf48bf5', 0.7784548069472459, 1, 'Y', 100]\n",
      "['b6635577-ef55-4bb9-8f4a-97352620c7e2', 0.7807202349546495, 1, 'Y', 100]\n"
     ]
    },
    {
     "data": {
      "text/plain": [
       "'Experiment successfully submitted.'"
      ]
     },
     "execution_count": 21,
     "metadata": {},
     "output_type": "execute_result"
    }
   ],
   "source": [
    "experiment_submit(N, shots, bitval, basis, filename)"
   ]
  },
  {
   "cell_type": "code",
   "execution_count": 22,
   "id": "77c5263a-bc13-4db7-92a5-d1e5ca882948",
   "metadata": {},
   "outputs": [],
   "source": [
    "Jobs_Data = pd.read_csv(filename)\n",
    "JobAngles = Jobs_Data.iloc[:, 1]"
   ]
  },
  {
   "cell_type": "code",
   "execution_count": 23,
   "id": "0cb0be7d-4212-4b92-8941-e8214ee67336",
   "metadata": {},
   "outputs": [
    {
     "data": {
      "text/plain": [
       "'Complete'"
      ]
     },
     "execution_count": 23,
     "metadata": {},
     "output_type": "execute_result"
    }
   ],
   "source": [
    "record_experiment_data(filename, JobAngles, bitval, shots)"
   ]
  },
  {
   "cell_type": "code",
   "execution_count": 24,
   "id": "134a3d06-b001-442f-a786-9e1f799df7e6",
   "metadata": {},
   "outputs": [],
   "source": [
    "critical_theta, critical_error, Thetas, Model_Bob_Curve, Model_Eve_Curve, Model_IAB_Curve, Model_IAE_Curve, BobFidelity, EveFidelity, IAB_exp, IAE_exp, Angles = analyze_data(filename,3)"
   ]
  },
  {
   "cell_type": "code",
   "execution_count": 25,
   "id": "d6cb59fe-11b1-46e4-907d-89c6799e84ce",
   "metadata": {},
   "outputs": [
    {
     "name": "stdout",
     "output_type": "stream",
     "text": [
      "Critical angle =  0.500918920172748\n",
      "pi/8 =  0.39269908169872414\n",
      "Critical error =  0.07876872373722438\n",
      "Theoretical prediction =  0.1464466094067262\n"
     ]
    }
   ],
   "source": [
    "# values based on the intersection of plotted information curves\n",
    "print('Critical angle = ', critical_theta)\n",
    "print('pi/8 = ', np.pi/8)\n",
    "print('Critical error = ', critical_error)\n",
    "print('Theoretical prediction = ', 0.5 - 0.25 * np.sqrt(2))"
   ]
  },
  {
   "cell_type": "markdown",
   "id": "d96d6643-ca20-4ecb-9885-a8f5bb60b1d5",
   "metadata": {},
   "source": [
    "**Fidelity Calculations.** Below we calculate the critical error based on the intersection of the fidelity curves."
   ]
  },
  {
   "cell_type": "code",
   "execution_count": 26,
   "id": "cb4278df-aa5c-4b7d-9399-e2cc226cc981",
   "metadata": {},
   "outputs": [],
   "source": [
    "def fidelity_curves_intersection(JobAngles, BobFidelity, EveFidelity, degree):\n",
    "    Model_Bob = np.poly1d(np.polyfit(JobAngles, BobFidelity, degree))\n",
    "    Model_Eve = np.poly1d(np.polyfit(JobAngles, EveFidelity, degree))\n",
    "    \n",
    "    Thetas = np.linspace(0, np.pi/4, 100)\n",
    "    Model_Bob_curve = Model_Bob(Thetas)\n",
    "    Model_Eve_curve = Model_Eve(Thetas)\n",
    "    \n",
    "    ModelDiff = Model_Bob - Model_Eve\n",
    "    Roots = np.roots(ModelDiff)\n",
    "    RealRoots = Roots[~np.iscomplex(Roots)]\n",
    "    for j in range(len(RealRoots)):\n",
    "        if RealRoots[j] >= 0 and RealRoots[j] <= np.pi/4:\n",
    "            critical_theta = RealRoots[j]\n",
    "            critical_error = error_rate_theory(RealRoots[j])\n",
    "            #print('theta2 =', RealRoots[j])\n",
    "            #print('error rate =', error_rate_theory(RealRoots[j]))\n",
    "    \n",
    "    \n",
    "    return critical_theta, critical_error, Thetas, Model_Bob_curve, Model_Eve_curve"
   ]
  },
  {
   "cell_type": "code",
   "execution_count": 27,
   "id": "fd593327-7ed5-4387-866d-13660c323496",
   "metadata": {},
   "outputs": [],
   "source": [
    "JobAngles, BobFidelity, EveFidelity = get_data(filename)"
   ]
  },
  {
   "cell_type": "code",
   "execution_count": 31,
   "id": "d55570b7-f59a-405c-83ef-9c341a542deb",
   "metadata": {},
   "outputs": [],
   "source": [
    "crit_theta, crit_error, Thetas, Model_Bob_curve, Model_Eve_curve = fidelity_curves_intersection(JobAngles, BobFidelity, EveFidelity, 2)"
   ]
  },
  {
   "cell_type": "code",
   "execution_count": 32,
   "id": "4549e0c8-bb8b-46c3-9bb8-6d2bd3a64ab2",
   "metadata": {},
   "outputs": [
    {
     "name": "stdout",
     "output_type": "stream",
     "text": [
      "Critical angle =  0.4103680032964421\n",
      "pi/8 =  0.39269908169872414\n",
      "Critical error =  0.13417612452249655\n",
      "Theoretical prediction =  0.1464466094067262\n"
     ]
    }
   ],
   "source": [
    "print('Critical angle = ', crit_theta)\n",
    "print('pi/8 = ', np.pi/8)\n",
    "print('Critical error = ', crit_error)\n",
    "print('Theoretical prediction = ', 0.5 - 0.25 * np.sqrt(2))"
   ]
  },
  {
   "cell_type": "code",
   "execution_count": 33,
   "id": "47f247fa-7d70-4577-87e0-27c7ac528f6d",
   "metadata": {},
   "outputs": [
    {
     "data": {
      "image/png": "[encoded data removed]",
      "text/plain": [
       "<Figure size 1080x576 with 1 Axes>"
      ]
     },
     "metadata": {
      "needs_background": "light"
     },
     "output_type": "display_data"
    }
   ],
   "source": [
    "plt.figure(figsize=(15,8))\n",
    "plt.rcParams.update({'font.size': 12})\n",
    "plt.scatter(JobAngles, BobFidelity , label = \"Bob's Fidelity\",color='blue')\n",
    "plt.scatter(JobAngles, EveFidelity, label = \"Eve's Fidelity\",color='red')\n",
    "plt.plot(Thetas, Model_Bob_curve, color = 'blue')\n",
    "plt.plot(Thetas, Model_Eve_curve, color = 'red')\n",
    "#plt.yticks(np.arange(0,1.1, step = .1))\n",
    "#plt.xticks(np.arange(-np.pi/2, 5*np.pi/8, step = np.pi/8))\n",
    "plt.legend(title=\"Fidelity Curves\")\n",
    "plt.xlabel('theta_2')\n",
    "plt.show()"
   ]
  },
  {
   "cell_type": "code",
   "execution_count": null,
   "id": "9e51d0b3-331b-4896-9f9c-2eb4b96fa52e",
   "metadata": {},
   "outputs": [],
   "source": []
  }
 ],
 "metadata": {
  "kernelspec": {
   "display_name": "Python 3 (ipykernel)",
   "language": "python",
   "name": "python3"
  },
  "language_info": {
   "codemirror_mode": {
    "name": "ipython",
    "version": 3
   },
   "file_extension": ".py",
   "mimetype": "text/x-python",
   "name": "python",
   "nbconvert_exporter": "python",
   "pygments_lexer": "ipython3",
   "version": "3.8.12"
  }
 },
 "nbformat": 4,
 "nbformat_minor": 5
}
