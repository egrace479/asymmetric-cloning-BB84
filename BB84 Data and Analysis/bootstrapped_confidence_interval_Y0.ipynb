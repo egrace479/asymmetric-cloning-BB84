{
 "cells": [
  {
   "cell_type": "code",
   "execution_count": 1,
   "id": "7f303f52-3c01-4971-86bd-1a05e018ed11",
   "metadata": {
    "tags": []
   },
   "outputs": [],
   "source": [
    "import numpy as np\n",
    "import matplotlib.pyplot as plt\n",
    "import csv\n",
    "import pandas as pd\n",
    "import scipy.stats"
   ]
  },
  {
   "cell_type": "code",
   "execution_count": 2,
   "id": "6d9a9fd7-e7b7-420f-b130-00c96c8d1f99",
   "metadata": {
    "tags": []
   },
   "outputs": [],
   "source": [
    "def get_data(filename):\n",
    "    Completed_Job_Data = pd.read_csv(filename)\n",
    "\n",
    "    JobAngles = Completed_Job_Data.iloc[:, 1]\n",
    "    BobFidelity = Completed_Job_Data.iloc[:, 11]\n",
    "    EveFidelity = Completed_Job_Data.iloc[:, 12]\n",
    "\n",
    "    JobAngles = np.array(JobAngles)\n",
    "    BobFidelity = np.array(BobFidelity)\n",
    "    EveFidelity = np.array(EveFidelity)\n",
    "    \n",
    "    return  JobAngles, BobFidelity, EveFidelity"
   ]
  },
  {
   "cell_type": "code",
   "execution_count": 3,
   "id": "6ba55f4d-b38c-40c7-8647-5dd0eca7022f",
   "metadata": {
    "tags": []
   },
   "outputs": [],
   "source": [
    "def fidelity_curves_intersection(JobAngles, BobFidelity, EveFidelity, degree):\n",
    "    \n",
    "    Model_Bob = np.poly1d(np.polyfit(JobAngles, BobFidelity, degree))\n",
    "    Model_Eve = np.poly1d(np.polyfit(JobAngles, EveFidelity, degree))\n",
    "\n",
    "    \n",
    "    ModelDiff = Model_Bob - Model_Eve\n",
    "    Roots = np.roots(ModelDiff)\n",
    "    RealRoots = Roots[~np.iscomplex(Roots)]\n",
    "    for j in range(len(RealRoots)):\n",
    "        if RealRoots[j] >= 0 and RealRoots[j] <= np.pi/4:\n",
    "            critical_theta = RealRoots[j]\n",
    "            #critical_error =  error_rate_theory(critical_theta) \n",
    "            critical_error = 1 - Model_Bob(critical_theta)\n",
    "            \n",
    "    return critical_theta, critical_error"
   ]
  },
  {
   "cell_type": "code",
   "execution_count": 4,
   "id": "612a523f-2d5f-4e53-affc-e8c2718be82b",
   "metadata": {
    "tags": []
   },
   "outputs": [],
   "source": [
    "def bootstrapped_intersection_data(JobAngles, BobFid, EveFid, N):\n",
    "    Index = []\n",
    "    for j in range(100):\n",
    "        Index.append(j)\n",
    "    Index = np.array(Index)\n",
    "    theta_vals = np.zeros(N)\n",
    "    error_vals = np.zeros(N)\n",
    "    Boot_Angles = np.zeros(100)\n",
    "    Boot_BobFid = np.zeros(100)\n",
    "    Boot_EveFid = np.zeros(100)\n",
    "    \n",
    "    for k in range(N):\n",
    "        Boot_Indices = np.random.choice(Index, 100) #select the random indices to sample from\n",
    "        for j in range(100):\n",
    "            Boot_Angles[j] = JobAngles[Boot_Indices[j]]\n",
    "            Boot_BobFid[j] = BobFid[Boot_Indices[j]]\n",
    "            Boot_EveFid[j] = EveFid[Boot_Indices[j]]\n",
    "            \n",
    "        theta_vals[k], error_vals[k] = fidelity_curves_intersection(Boot_Angles, Boot_BobFid, Boot_EveFid, 2)\n",
    "        \n",
    "    return theta_vals, error_vals"
   ]
  },
  {
   "cell_type": "code",
   "execution_count": 5,
   "id": "8fdd4972-6278-4104-9331-ff2bd7cae175",
   "metadata": {
    "tags": []
   },
   "outputs": [],
   "source": [
    "def mean_confidence_interval(data, confidence):\n",
    "    N = len(data)\n",
    "    mean = np.mean(data)\n",
    "    std_error = scipy.stats.sem(data)\n",
    "    h = std_error * scipy.stats.t.ppf((1 + confidence)/2., N-1)\n",
    "    return mean, mean - h, mean + h"
   ]
  },
  {
   "cell_type": "code",
   "execution_count": 6,
   "id": "be1d3026-039d-43b7-8772-8b88a1d154d2",
   "metadata": {
    "tags": []
   },
   "outputs": [],
   "source": [
    "filename = 'Experiment_July14_2023_QPU_FullSize_Ybasis_bit0.csv'"
   ]
  },
  {
   "cell_type": "code",
   "execution_count": 7,
   "id": "dd6dd99a-9e57-4c82-8f4a-c6913a4f774a",
   "metadata": {
    "tags": []
   },
   "outputs": [],
   "source": [
    "JobAngles, BobFid, EveFid = get_data(filename)"
   ]
  },
  {
   "cell_type": "code",
   "execution_count": 8,
   "id": "95b9278f-7d5f-4dd7-8f8a-9e0cccdf0385",
   "metadata": {
    "tags": []
   },
   "outputs": [],
   "source": [
    "theta_vals, error_vals = bootstrapped_intersection_data(JobAngles, BobFid, EveFid, 10000)"
   ]
  },
  {
   "cell_type": "code",
   "execution_count": 9,
   "id": "ad3f54d9-fc8c-40af-b536-bdb2f246eaa9",
   "metadata": {
    "tags": []
   },
   "outputs": [],
   "source": [
    "angle_confidence_interval = mean_confidence_interval(theta_vals, 0.95)\n",
    "error_confidence_interval = mean_confidence_interval(error_vals, 0.95)"
   ]
  },
  {
   "cell_type": "code",
   "execution_count": 10,
   "id": "bb6cc209-24b8-4728-a0f1-5d2bf7c6ec23",
   "metadata": {
    "tags": []
   },
   "outputs": [
    {
     "name": "stdout",
     "output_type": "stream",
     "text": [
      "(0.4400378011267061, 0.43986313102205254, 0.44021247123135965)\n"
     ]
    }
   ],
   "source": [
    "print(angle_confidence_interval)"
   ]
  },
  {
   "cell_type": "code",
   "execution_count": 11,
   "id": "cde79d3d-f7ae-48b0-ad29-ae743a708180",
   "metadata": {
    "tags": []
   },
   "outputs": [
    {
     "name": "stdout",
     "output_type": "stream",
     "text": [
      "(0.1843010096548715, 0.18422310827074992, 0.1843789110389931)\n"
     ]
    }
   ],
   "source": [
    "print(error_confidence_interval)"
   ]
  },
  {
   "cell_type": "code",
   "execution_count": null,
   "id": "a2040cc1-0a43-458e-a459-cf82a6bdba0e",
   "metadata": {},
   "outputs": [],
   "source": []
  }
 ],
 "metadata": {
  "kernelspec": {
   "display_name": "Python 3 (ipykernel)",
   "language": "python",
   "name": "python3"
  },
  "language_info": {
   "codemirror_mode": {
    "name": "ipython",
    "version": 3
   },
   "file_extension": ".py",
   "mimetype": "text/x-python",
   "name": "python",
   "nbconvert_exporter": "python",
   "pygments_lexer": "ipython3",
   "version": "3.8.13"
  }
 },
 "nbformat": 4,
 "nbformat_minor": 5
}
