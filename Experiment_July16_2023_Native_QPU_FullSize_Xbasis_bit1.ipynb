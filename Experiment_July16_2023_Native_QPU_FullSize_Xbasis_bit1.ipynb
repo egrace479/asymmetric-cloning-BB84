{
 "cells": [
  {
   "cell_type": "code",
   "execution_count": null,
   "id": "178257be-86e2-469e-b5de-ecfd4740cc10",
   "metadata": {},
   "outputs": [],
   "source": []
  },
  {
   "cell_type": "code",
   "execution_count": 1,
   "id": "fee6f202-84bc-4402-80e7-6d8560c74dac",
   "metadata": {},
   "outputs": [],
   "source": [
    "import numpy as np\n",
    "import matplotlib.pyplot as plt\n",
    "import csv\n",
    "import pandas as pd\n",
    "\n",
    "# from qiskit import *\n",
    "# Importing standard Qiskit libraries\n",
    "from qiskit import QuantumCircuit, QuantumRegister, ClassicalRegister\n",
    "from qiskit import IBMQ, Aer, execute, assemble, transpile\n",
    "from qiskit.visualization import plot_histogram, plot_bloch_vector\n",
    "from qiskit.visualization import plot_state_qsphere, plot_state_city, plot_bloch_multivector\n",
    "from qiskit.visualization import array_to_latex\n",
    "import qiskit.quantum_info as qi\n",
    "# from qiskit_ibm_runtime import QiskitRuntimeService\n",
    "\n",
    "from qiskit_ionq import IonQProvider\n",
    "# import gates\n",
    "from qiskit_ionq import GPIGate, GPI2Gate, MSGate\n",
    "from qiskit import Aer, execute, assemble\n",
    "from qiskit.providers.jobstatus import JobStatus\n",
    "import time\n",
    "\n",
    "from pipeline.qiskit_circuit_constructor import qiskit_alice_prepares, qiskit_measurement_prep, qiskit_clone, construct_qiskit_circuit\n",
    "from pipeline.ionq_circuit_constructor import ionq_alice_prepares\n",
    "from pipeline.ionq_circuit_constructor import ionq_measurement_prep\n",
    "from pipeline.ionq_circuit_constructor import ionq_clone\n",
    "from pipeline.ionq_circuit_constructor import construct_ionq_circuit\n",
    "#from pipeline.run_experiments import fidelities\n",
    "#from pipeline.run_experiments import get_circuit\n",
    "#from pipeline.run_experiments import run_experiment_ionq\n",
    "#from pipeline.run_experiments import run_simulation\n",
    "\n",
    "provider = IonQProvider(\"2BCQ6XP8m8wN0BPl3KawTCsAwYEBn73F\")\n",
    "#native_simulator = provider.get_backend(\"ionq_simulator\", gateset=\"native\")\n",
    "native_qpu = provider.get_backend(\"ionq_qpu\", gateset=\"native\")\n",
    "\n",
    "#ionq_sim = provider.get_backend(\"ionq_simulator\")\n",
    "#ionq_qpu = provider.get_backend(\"ionq_qpu\")"
   ]
  },
  {
   "cell_type": "code",
   "execution_count": 2,
   "id": "10ae4706-6bd5-4fa1-88a1-26721a2de8b9",
   "metadata": {},
   "outputs": [],
   "source": [
    "# Selection of Experiment Parameters\n",
    "N = 100 # number of randomly selected angles from 0 to pi/4\n",
    "shots = 100 # number of shots for each input angle\n",
    "basis = 'X'\n",
    "bitval = 1\n",
    "filename = 'Experiment_July16_2023_Native_QPU_FullSize_Xbasis_bit1.csv'\n"
   ]
  },
  {
   "cell_type": "code",
   "execution_count": 3,
   "id": "b40827dd-65af-4751-a519-2fe97d7fa747",
   "metadata": {},
   "outputs": [],
   "source": [
    "def retrieve_data(job_num, angle, bitval, shot_count):\n",
    "    ionq = provider.get_backend(\"ionq_qpu\")\n",
    "    retrieved = ionq.retrieve_job(job_num) \n",
    "    counts = retrieved.result().get_counts()\n",
    "    \n",
    "    out000 = retrieved.result().get_counts().get(\"000\")\n",
    "    out001 = retrieved.result().get_counts().get(\"001\")\n",
    "    out010 = retrieved.result().get_counts().get(\"010\")\n",
    "    out011 = retrieved.result().get_counts().get(\"011\")\n",
    "    out100 = retrieved.result().get_counts().get(\"100\")\n",
    "    out101 = retrieved.result().get_counts().get(\"101\")\n",
    "    out110 = retrieved.result().get_counts().get(\"110\")\n",
    "    out111 = retrieved.result().get_counts().get(\"111\")\n",
    "    \n",
    "    if out000 == None:\n",
    "        out000 = 0\n",
    "    if out001 == None:\n",
    "        out001 = 0\n",
    "    if out010 == None:\n",
    "        out010 = 0\n",
    "    if out011 == None:\n",
    "        out011 = 0\n",
    "        \n",
    "    if out100 == None:\n",
    "        out100 = 0\n",
    "    if out101 == None:\n",
    "        out101 = 0\n",
    "    if out110 == None:\n",
    "        out110 = 0\n",
    "    if out111 == None:\n",
    "        out111 = 0\n",
    "        \n",
    "    B,E = fidelities(out000, out001, out010, out011, out100, out101, out110, out111, bitval, shot_count)\n",
    "    \n",
    "    row_data = [job_num, angle, shot_count, out000, out001, out010, out011, out100, out101, out110, out111, B, E]\n",
    "        \n",
    "    return row_data"
   ]
  },
  {
   "cell_type": "code",
   "execution_count": 4,
   "id": "80034204-f141-4d9f-992e-7667627a4979",
   "metadata": {},
   "outputs": [],
   "source": [
    "def fidelities(out000, out001, out010, out011, out100, out101, out110, out111, bitval, shots):\n",
    "    '''\n",
    "    This function averages the fidelity of the clones and ancilla over experiment.\n",
    "\n",
    "    Parameters:\n",
    "    --------------\n",
    "    outijk -\n",
    "    bitval -\n",
    "    shots - Number of samples.\n",
    "\n",
    "    Returns:\n",
    "    --------------\n",
    "    bob_fidelity - Fidelity of copy sent to intended recipient (Bob).\n",
    "    eve_fidelity - Fidelity of copy kept by eavesdropper (Eve).\n",
    "    ancilla_fidelity - Fidelity of the ancilla.\n",
    "    \n",
    "    '''\n",
    "    \n",
    "    if bitval == 1:\n",
    "        bob_fidelity = (out001 + out011 + out101 + out111)/shots\n",
    "        eve_fidelity = (out010 + out011 + out110 + out111)/shots\n",
    "        #ancilla_fidelity = (out100 + out101 + out110 + out111)/shots\n",
    "        \n",
    "    if bitval == 0:\n",
    "        bob_fidelity = (out010 + out000 + out110 + out100)/shots\n",
    "        eve_fidelity = (out001 + out000 + out101 + out100)/shots\n",
    "        #ancilla_fidelity = (out000 + out001 + out010 + out011)/shots\n",
    "        \n",
    "    return bob_fidelity, eve_fidelity"
   ]
  },
  {
   "cell_type": "code",
   "execution_count": 5,
   "id": "c5c4fa43-75c4-4c15-8c46-96e666c54bac",
   "metadata": {},
   "outputs": [],
   "source": [
    "def get_circuit(angle, bitval, basis):\n",
    "    qc = QuantumCircuit(3,3)\n",
    "    \n",
    "    qc = ionq_alice_prepares(qc, bitval, basis)\n",
    "    qc.barrier()\n",
    "    qc = ionq_clone(qc, angle)\n",
    "    qc.barrier()\n",
    "    qc = ionq_measurement_prep(qc, basis)\n",
    "    \n",
    "    qc.measure(0,0)\n",
    "    qc.measure(1,1)\n",
    "    qc.measure(2,2)\n",
    "    return qc"
   ]
  },
  {
   "cell_type": "code",
   "execution_count": 6,
   "id": "7a34cc8b-d681-4f91-a386-df0284e50828",
   "metadata": {},
   "outputs": [],
   "source": [
    "def experiment_qpu(angle, bitval, basis, shot_count):\n",
    "    qc = get_circuit(angle, bitval, basis)\n",
    "    \n",
    "    #ionq_qpu = provider.get_backend(\"ionq_qpu\")\n",
    "    job = native_qpu.run(qc, shots = shot_count)\n",
    "\n",
    "    job_data = [job.job_id(), angle, bitval, basis, shot_count]\n",
    "    \n",
    "    return job_data"
   ]
  },
  {
   "cell_type": "code",
   "execution_count": 7,
   "id": "ea147991-9e27-45d9-a590-8f10cfa08fca",
   "metadata": {},
   "outputs": [],
   "source": [
    "# Random selection of angles\n",
    "def angles(N):\n",
    "    Angles = np.random.uniform(0, np.pi/4, N)\n",
    "    Angles = np.sort(Angles)\n",
    "    return Angles"
   ]
  },
  {
   "cell_type": "code",
   "execution_count": 8,
   "id": "173b845c-442c-41bb-bf7f-e75d6ee56f55",
   "metadata": {},
   "outputs": [],
   "source": [
    "def record_experiment_setup(filename, Angles, bitval, basis, shots): \n",
    "    header = ['Job Number', 'Angle', 'Bit Value', 'Basis', 'Total Shots']\n",
    "\n",
    "    with open(filename, 'w', encoding = 'UTF8') as f:\n",
    "        writer = csv.writer(f)\n",
    "        writer.writerow(header)\n",
    "    \n",
    "        for j in range(N):\n",
    "            job_data = experiment_qpu(Angles[j], bitval, basis, shots)\n",
    "            writer.writerow(job_data)\n",
    "            print(job_data)\n",
    "        \n",
    "        f.close()  \n",
    "        \n",
    "        return 'Complete'"
   ]
  },
  {
   "cell_type": "code",
   "execution_count": 9,
   "id": "ba73c5ad-62f8-4a28-9f51-ab6740499115",
   "metadata": {},
   "outputs": [],
   "source": [
    "def record_experiment_data(filename, Angles, bitval, shots):\n",
    "    Jobs_Data = pd.read_csv(filename)\n",
    "    JobNumbers = Jobs_Data.iloc[:, 0]\n",
    "    \n",
    "    header = ['Job Number', 'Angle','Total Shots', '000', '001', '010', '011', '100', '101', '110', '111', 'Bobs Fidelity', 'Eves Fidelity']\n",
    "\n",
    "    with open(filename, 'w', encoding = 'UTF8') as f:\n",
    "        writer = csv.writer(f)\n",
    "        writer.writerow(header)\n",
    "\n",
    "        for j in range(len(JobNumbers)):\n",
    "            row_data = retrieve_data(JobNumbers[j], Angles[j], bitval, shots)\n",
    "            writer.writerow(row_data)\n",
    "\n",
    "        f.close()\n",
    "    \n",
    "    return 'Complete'"
   ]
  },
  {
   "cell_type": "code",
   "execution_count": 10,
   "id": "cf009d5b-d39d-4407-9220-4e2497c51d15",
   "metadata": {},
   "outputs": [],
   "source": [
    "def get_data(filename):\n",
    "    Completed_Job_Data = pd.read_csv(filename)\n",
    "\n",
    "    JobAngles = Completed_Job_Data.iloc[:, 1]\n",
    "    BobFidelity = Completed_Job_Data.iloc[:, 11]\n",
    "    EveFidelity = Completed_Job_Data.iloc[:, 12]\n",
    "\n",
    "    JobAngles = np.array(JobAngles)\n",
    "    BobFidelity = np.array(BobFidelity)\n",
    "    EveFidelity = np.array(EveFidelity)\n",
    "    \n",
    "    return  JobAngles, BobFidelity, EveFidelity"
   ]
  },
  {
   "cell_type": "code",
   "execution_count": 11,
   "id": "27cf7bb0-babc-4ae5-9a5d-2b42d189a484",
   "metadata": {},
   "outputs": [],
   "source": [
    "def fidelity_curves(JobAngles, BobFidelity, EveFidelity, degree):\n",
    "    Model_Bob = np.poly1d(np.polyfit(JobAngles, BobFidelity, degree))\n",
    "    Model_Eve = np.poly1d(np.polyfit(JobAngles, EveFidelity, degree))\n",
    "    Thetas = np.linspace(0, np.pi/4, 100)\n",
    "    Model_Bob_Curve = Model_Bob(Thetas)\n",
    "    Model_Eve_Curve = Model_Eve(Thetas)\n",
    "    return Thetas, Model_Bob_Curve, Model_Eve_Curve"
   ]
  },
  {
   "cell_type": "code",
   "execution_count": 12,
   "id": "ea54f22d-e4f3-41dd-b9b8-f1300868ff9d",
   "metadata": {},
   "outputs": [],
   "source": [
    "def QBER_Bob_exp(N, BobFidelity):\n",
    "    Q = np.ones(N)\n",
    "    Q = Q - BobFidelity\n",
    "    return Q"
   ]
  },
  {
   "cell_type": "code",
   "execution_count": 13,
   "id": "717256c9-efe1-4d53-af4b-8522709de913",
   "metadata": {},
   "outputs": [],
   "source": [
    "def binary_entropy(t):\n",
    "    if t == 0 or t == 1:\n",
    "        return 0\n",
    "    else:\n",
    "        return -t * np.log2(t) - (1-t) * np.log2(1-t)"
   ]
  },
  {
   "cell_type": "code",
   "execution_count": 14,
   "id": "286f67e6-49f0-48ed-9c96-9db749d0134e",
   "metadata": {},
   "outputs": [],
   "source": [
    "# Mutual information between Alice and Bob\n",
    "def Info_AB(Q):\n",
    "    return 1 - binary_entropy(Q)"
   ]
  },
  {
   "cell_type": "code",
   "execution_count": 15,
   "id": "d2b06d50-adb2-422b-8ab8-f8c1acf83a46",
   "metadata": {},
   "outputs": [],
   "source": [
    "# Mutual information between Alice and Eve\n",
    "def Info_AE(Q):\n",
    "    return 1 - binary_entropy(0.5 - np.sqrt(Q * (1-Q)))"
   ]
  },
  {
   "cell_type": "code",
   "execution_count": 16,
   "id": "f752a8a0-41d8-4d6f-90dc-261c04cb953f",
   "metadata": {},
   "outputs": [],
   "source": [
    "# Calculate the observed mutual information using the fidelities for Bob and Eve\n",
    "def observed_mutual_info(N, Q):\n",
    "    IAB_exp = np.zeros(N)\n",
    "    IAE_exp = np.zeros(N)\n",
    "    for j in range(N):\n",
    "        IAB_exp[j] = Info_AB(Q[j])\n",
    "        IAE_exp[j] = Info_AE(Q[j])\n",
    "    return IAB_exp, IAE_exp"
   ]
  },
  {
   "cell_type": "code",
   "execution_count": 17,
   "id": "c7eb9b92-4844-4a5d-a8f7-e50581c5eed3",
   "metadata": {},
   "outputs": [],
   "source": [
    "# A function that calculates the threshold error rate for Alice and Bob\n",
    "# Error rate\n",
    "def error_rate_theory(theta):\n",
    "    return 0.5 - 0.5*np.sin(2 * theta)"
   ]
  },
  {
   "cell_type": "code",
   "execution_count": 18,
   "id": "3497b3b0-0ed4-4743-aabc-d0964dce5d86",
   "metadata": {},
   "outputs": [],
   "source": [
    "# Fitting Curvesfor the mutual information functions and calculate critical error rate and theta2 values\n",
    "def mutual_info_curves(Angles, IAB_exp, IAE_exp, degree):\n",
    "    critical_theta = 0.0\n",
    "    critical_error = 0.0\n",
    "    \n",
    "    Model_IAB = np.poly1d(np.polyfit(Angles, IAB_exp, degree))\n",
    "    Model_IAE = np.poly1d(np.polyfit(Angles, IAE_exp, degree))\n",
    "    Thetas = np.linspace(0, np.pi/4, 100)\n",
    "    Model_IAB_curve = Model_IAB(Thetas)\n",
    "    Model_IAE_curve = Model_IAE(Thetas)\n",
    "     \n",
    "    ModelDiff = Model_IAB - Model_IAE\n",
    "    Roots = np.roots(ModelDiff)\n",
    "    RealRoots = Roots[~np.iscomplex(Roots)]\n",
    "    for j in range(len(RealRoots)):\n",
    "        if RealRoots[j] >= 0 and RealRoots[j] <= np.pi/4:\n",
    "            critical_theta = RealRoots[j]\n",
    "            critical_error = error_rate_theory(RealRoots[j])\n",
    "            #print('theta2 =', RealRoots[j])\n",
    "            #print('error rate =', error_rate_theory(RealRoots[j]))\n",
    "    \n",
    "    return Thetas, Model_IAB_curve, Model_IAE_curve, critical_theta, critical_error\n",
    "    "
   ]
  },
  {
   "cell_type": "code",
   "execution_count": 19,
   "id": "00e69aad-df80-4e41-a604-0c3159c4af31",
   "metadata": {},
   "outputs": [],
   "source": [
    "def experiment_submit(N, shots, bitval, basis, filename):\n",
    "    # generate angles\n",
    "    JobAngles = angles(N)\n",
    "    \n",
    "    # record the experiment setup\n",
    "    print('Experimental Setup')\n",
    "    record_experiment_setup(filename, JobAngles, bitval, basis, shots)\n",
    "    \n",
    "     # record the experimental data\n",
    "    #print('Recording data from the experiment')\n",
    "    #record_experiment_data(filename, JobAngles, bitval, shots)\n",
    "    \n",
    "    return 'Experiment successfully submitted.'"
   ]
  },
  {
   "cell_type": "code",
   "execution_count": 20,
   "id": "eee3572a-7c98-43a3-bbe6-848f25f9bcdc",
   "metadata": {},
   "outputs": [],
   "source": [
    "def analyze_data(filename, degree):\n",
    "     # get the fidelities\n",
    "    Angles, BobFidelity, EveFidelity = get_data(filename)\n",
    "    \n",
    "    # calculate Bob's QBER\n",
    "    Q = QBER_Bob_exp(N, BobFidelity)\n",
    "    \n",
    "    # get the fidelity curves\n",
    "    Thetas, Model_Bob_Curve, Model_Eve_Curve = fidelity_curves(Angles, BobFidelity, EveFidelity, degree)\n",
    "    \n",
    "    # calculate the observed mutual information\n",
    "    IAB_exp, IAE_exp = observed_mutual_info(N,Q)\n",
    "    \n",
    "    # calculate the mutual information curves and the error rate/critical angle\n",
    "    Thetas, Model_IAB_Curve, Model_IAE_Curve, critical_theta, critical_error = mutual_info_curves(Angles, IAB_exp, IAE_exp, degree)\n",
    "    \n",
    "    return critical_theta, critical_error, Thetas, Model_Bob_Curve, Model_Eve_Curve, Model_IAB_Curve, Model_IAE_Curve, BobFidelity, EveFidelity, IAB_exp, IAE_exp, Angles"
   ]
  },
  {
   "cell_type": "code",
   "execution_count": 21,
   "id": "32060b0d-40d7-41b9-9654-405332085b05",
   "metadata": {},
   "outputs": [
    {
     "name": "stdout",
     "output_type": "stream",
     "text": [
      "Experimental Setup\n",
      "['40636222-d67f-4c9a-ac78-5037de5de24a', 0.010586149154736964, 1, 'X', 100]\n",
      "['3d9b2993-1952-49fa-9fae-ac41efa79508', 0.034285755129139034, 1, 'X', 100]\n",
      "['aafd7969-7ef7-4b5b-aa2a-8ade06c0b06c', 0.03917199619329986, 1, 'X', 100]\n",
      "['a9b18b60-09a4-48ca-b851-9e249b8e5029', 0.05745701824147903, 1, 'X', 100]\n",
      "['d3dd91e6-1d86-4cd7-b8bf-ce3c9c1278d4', 0.058105804756888646, 1, 'X', 100]\n",
      "['51c770ef-9263-4c09-981e-4869ae7d3c75', 0.06401601319921789, 1, 'X', 100]\n",
      "['9f826523-7d56-464c-93b0-875be8cc8b2b', 0.06983498081909668, 1, 'X', 100]\n",
      "['48925ef0-9064-48a1-8854-e13917cd59c2', 0.0823393560039221, 1, 'X', 100]\n",
      "['3ef67109-b98a-4511-899e-a3868d4b65fb', 0.10366107303899294, 1, 'X', 100]\n",
      "['74455d7e-a467-4c5a-b68e-6cbd0a3df8d3', 0.10872531763491279, 1, 'X', 100]\n",
      "['6faa02ec-9d99-4fc1-bfd8-68d9345f3247', 0.11676714242674856, 1, 'X', 100]\n",
      "['96bbf280-59a6-460f-a314-089c69cc07fe', 0.12562205490436562, 1, 'X', 100]\n",
      "['0e380847-4f54-4d31-a267-70de5cc1c8f2', 0.13998218327576603, 1, 'X', 100]\n",
      "['95f9a252-a6db-419e-87b0-c7c387f29f31', 0.1437479503406784, 1, 'X', 100]\n",
      "['54f4ff7a-c5a5-4727-9333-40ab675642f1', 0.1470042277806659, 1, 'X', 100]\n",
      "['c67c026b-a4e7-49f3-9904-0b89de334ace', 0.14703165993183054, 1, 'X', 100]\n",
      "['5cf4422e-4da1-46f2-b3f7-c839c2908063', 0.16222148124177382, 1, 'X', 100]\n",
      "['f5ebd8a9-0711-4a5e-bb3d-f07e8b6161e5', 0.16262243599376894, 1, 'X', 100]\n",
      "['8bb94346-adce-4fb0-b57a-fc40bd7bdae9', 0.16616999147296954, 1, 'X', 100]\n",
      "['2806a7b1-9de0-4418-a0b0-a395af923035', 0.16627538660152072, 1, 'X', 100]\n",
      "['af2b5937-e9d4-4a4b-b47b-dc2365224df5', 0.17364348935307924, 1, 'X', 100]\n",
      "['3ce8d0a0-5723-4ced-ab55-e2af363650a3', 0.17573652150117178, 1, 'X', 100]\n",
      "['4dcc5e97-3f2a-43db-b76b-ced299b64e4d', 0.2030347937000129, 1, 'X', 100]\n",
      "['12e1cdb3-98e9-4a3d-9e54-53e4d90c2b63', 0.2127420946217824, 1, 'X', 100]\n",
      "['64959194-45e6-4166-bc75-9e68ede05806', 0.21486580984737647, 1, 'X', 100]\n",
      "['8ca4c355-df0d-4a98-a30d-8c668ac28a05', 0.21522862257456146, 1, 'X', 100]\n",
      "['b957d281-1655-4490-be90-f0cea896ae10', 0.22796595159590802, 1, 'X', 100]\n",
      "['2ef34e2d-6fa1-419e-a249-57025d7af0fa', 0.22966459015517834, 1, 'X', 100]\n",
      "['4a19a0d6-b895-41d3-ad00-d114228331d2', 0.24355346823144103, 1, 'X', 100]\n",
      "['aa1f029f-6bc8-4b11-a9f3-4b63bab14a43', 0.2442069274712826, 1, 'X', 100]\n",
      "['b55fdfb1-504c-4c9a-aa88-f02bfed765b9', 0.2458091949308459, 1, 'X', 100]\n",
      "['54f0945d-28c5-45dd-b3fc-dbc5a9945054', 0.2472508818038228, 1, 'X', 100]\n",
      "['1494dbb8-80ad-4037-8d85-e45209785904', 0.2591712907667537, 1, 'X', 100]\n",
      "['df1dad95-b124-4d72-8812-a2116624f090', 0.26034925308128587, 1, 'X', 100]\n",
      "['e3fbede6-ceb0-407f-9a42-423122762094', 0.30564850032003665, 1, 'X', 100]\n",
      "['41462d7a-a596-4d1e-b875-c32227ad2241', 0.3087832286458241, 1, 'X', 100]\n",
      "['568bd057-7165-4528-90d3-670eafc3297c', 0.3112071564123443, 1, 'X', 100]\n",
      "['81e91857-9fd8-4ca3-826f-e7361e0f7b79', 0.3199663464896717, 1, 'X', 100]\n",
      "['2f67f92e-3cde-4dbd-a0ac-b4dc4e0c88e6', 0.3200153043805127, 1, 'X', 100]\n",
      "['a7052ea6-3401-4dd6-ae65-3d8cbbd443b6', 0.33821015216096395, 1, 'X', 100]\n",
      "['ab925fd3-f81d-4134-835c-c9097318dd77', 0.3399696005274668, 1, 'X', 100]\n",
      "['9af916bc-b4d2-4e65-bdfe-2521c45743cc', 0.368986022030914, 1, 'X', 100]\n",
      "['6956c659-33d1-4289-b528-74e366f01dde', 0.37643232389782566, 1, 'X', 100]\n",
      "['63077cb7-92fd-4e5a-a506-5b90e79b2ea1', 0.39494724036399714, 1, 'X', 100]\n",
      "['91717d2c-c0fd-43e0-8d05-cd28cfeee797', 0.39744357472806036, 1, 'X', 100]\n",
      "['3c95e470-43e0-45e7-82f8-4bcf3538f3ad', 0.40630626694616084, 1, 'X', 100]\n",
      "['79d5daae-abff-4ab1-970a-ed48c4070265', 0.4075643773598979, 1, 'X', 100]\n",
      "['96a551dc-6702-44b0-8565-bc026127264d', 0.41625053744635554, 1, 'X', 100]\n",
      "['47dd9843-8ac0-42e2-ad32-52402a66d4fd', 0.42403530149110924, 1, 'X', 100]\n",
      "['f072184e-57a3-4c6f-a25a-84f861a5065f', 0.4241882597379052, 1, 'X', 100]\n",
      "['f6916e26-a96f-400e-bea8-279dfeff3aeb', 0.4402566733478413, 1, 'X', 100]\n",
      "['837eeac7-2475-4569-93e4-36242cdc7fde', 0.4427338410600122, 1, 'X', 100]\n",
      "['a719a5bb-81fb-4dc8-86c5-06acd61812f2', 0.44490599233495387, 1, 'X', 100]\n",
      "['3459d657-3a99-452c-b501-d64f5b7d2bbd', 0.44515947130622036, 1, 'X', 100]\n",
      "['891ff8af-7e9d-4c61-9149-13abb1fc8cb6', 0.46086559839681646, 1, 'X', 100]\n",
      "['bb7e7269-cd51-47f0-a19a-717c3d6dc953', 0.46314053414763123, 1, 'X', 100]\n",
      "['fb29dca7-2de6-430c-859f-10a2e0ff4ffe', 0.4668397443385767, 1, 'X', 100]\n",
      "['390cb30c-c45b-455d-9792-78da9001f988', 0.47074437309894746, 1, 'X', 100]\n",
      "['05bdc751-5f47-4b5d-aa6e-d4bef8e4ba4b', 0.47764323836222017, 1, 'X', 100]\n",
      "['37611a25-08ec-4003-81f2-a7cab1907d4b', 0.47827373390344546, 1, 'X', 100]\n",
      "['30f0809d-5019-4f6e-8480-32236ac2d792', 0.4821424491237902, 1, 'X', 100]\n",
      "['52ceb1e1-a247-437c-9e7a-aa469edde4dc', 0.4898291008771783, 1, 'X', 100]\n",
      "['5f554542-0a19-45d2-8d61-64a437046f42', 0.48987050900157847, 1, 'X', 100]\n",
      "['524c380b-3640-4fa6-bd8a-a810f91ff9a7', 0.4931881176227096, 1, 'X', 100]\n",
      "['6d91715a-aabc-43ce-8f7b-65189294daa1', 0.49530974789121207, 1, 'X', 100]\n",
      "['16266ec5-765d-4979-bffb-a57c943d2111', 0.5004607023326596, 1, 'X', 100]\n",
      "['622ea5a5-365d-4454-aa42-b8d988a75773', 0.5044270861192967, 1, 'X', 100]\n",
      "['293e4eee-1b6d-47d1-81cb-88ffaf628aa1', 0.5088660034480906, 1, 'X', 100]\n",
      "['47be8fa0-c398-4548-8a98-db9c60720ffa', 0.5089993674102504, 1, 'X', 100]\n",
      "['49f58787-2f49-4e7c-8904-92650165229b', 0.5118569080957525, 1, 'X', 100]\n",
      "['293e0c02-5c13-4ba8-99e4-dc8d5a1e7947', 0.5241002848701467, 1, 'X', 100]\n",
      "['68efe58c-2622-4089-8f24-fb1e6ba85767', 0.5305620591271886, 1, 'X', 100]\n",
      "['a91cd43c-a092-4dc9-9980-455551ab2272', 0.5498117352981451, 1, 'X', 100]\n",
      "['082ca154-8c2e-4594-9ab6-cda73ef6c696', 0.5532956547786624, 1, 'X', 100]\n",
      "['3f7f7f66-9e8f-4613-a3aa-dcbe37414575', 0.556651916640652, 1, 'X', 100]\n",
      "['8719a544-e4ad-4ded-99f5-c0b2135b7806', 0.5948751759529942, 1, 'X', 100]\n",
      "['25d6ef49-c831-4ca3-b27a-c6dcfef41515', 0.6032530808970905, 1, 'X', 100]\n",
      "['7c08574d-978e-42cb-bc82-ef12fd73065c', 0.6038383692631121, 1, 'X', 100]\n",
      "['85f4978a-a271-4669-8019-bbd2c799273c', 0.6118732845891974, 1, 'X', 100]\n",
      "['029ff58a-379b-4575-9891-1327908362ff', 0.6167330287515285, 1, 'X', 100]\n",
      "['f50aa49c-deb7-4f23-a775-92c2571123d0', 0.6205826157758052, 1, 'X', 100]\n",
      "['17bd14ba-1555-438c-ae9e-b5570f75c8ab', 0.6386519933251579, 1, 'X', 100]\n",
      "['46982d5b-9007-4e35-b04a-6f850d31ccb6', 0.6482822537282606, 1, 'X', 100]\n",
      "['581635db-3764-4760-a6e2-aded598f0495', 0.6673263234714741, 1, 'X', 100]\n",
      "['e8146476-7f8f-4fb3-946e-97f487bc8457', 0.6674105945937686, 1, 'X', 100]\n",
      "['2725838c-c494-4379-bf88-0a7d68f416ad', 0.6830936991317018, 1, 'X', 100]\n",
      "['f1983d3b-2058-41a7-9cb6-9f2be90af532', 0.6924537899969608, 1, 'X', 100]\n",
      "['b3fcda6d-7e36-4618-8b94-9336e349a99f', 0.6954048385212936, 1, 'X', 100]\n",
      "['4d074269-37ee-4ad0-944e-d42a0d7571e6', 0.7014083129610772, 1, 'X', 100]\n",
      "['81938e50-fee5-47e3-98c2-523b643912a8', 0.7043506545921238, 1, 'X', 100]\n",
      "['2c8f55b7-8c57-4e0e-8f2f-35fc02677f09', 0.7276009395003792, 1, 'X', 100]\n",
      "['de37f6d8-6485-4df3-8d4d-3bb32671f340', 0.7293133910560334, 1, 'X', 100]\n",
      "['b5cfb63f-b3c1-49ed-a44b-00e5f935c6ac', 0.7304868391047501, 1, 'X', 100]\n",
      "['b7c12581-588e-4742-96f4-a5523189c059', 0.7396667861218696, 1, 'X', 100]\n",
      "['c5264ab7-04d0-4ef3-b538-41dc8a34a847', 0.739922094962832, 1, 'X', 100]\n",
      "['4c76e18b-8c0f-4140-9e95-ef398c362ada', 0.7491257348090782, 1, 'X', 100]\n",
      "['9a1a9622-d8d6-4fc8-9b9b-7b108219f643', 0.7632940034391031, 1, 'X', 100]\n",
      "['deb1d38d-1d40-4c7c-ad26-5e15f0d98519', 0.7634955920336093, 1, 'X', 100]\n",
      "['325b693a-d92e-4e46-8a8d-f43e3a2e9be2', 0.770487676554653, 1, 'X', 100]\n",
      "['2f42d73a-37f8-4561-aaac-2b556c10da86', 0.7830494622701236, 1, 'X', 100]\n"
     ]
    },
    {
     "data": {
      "text/plain": [
       "'Experiment successfully submitted.'"
      ]
     },
     "execution_count": 21,
     "metadata": {},
     "output_type": "execute_result"
    }
   ],
   "source": [
    "experiment_submit(N, shots, bitval, basis, filename)"
   ]
  },
  {
   "cell_type": "code",
   "execution_count": null,
   "id": "c0ace33b-212e-46c4-8351-1f18d77d404e",
   "metadata": {},
   "outputs": [],
   "source": []
  },
  {
   "cell_type": "code",
   "execution_count": 24,
   "id": "4bdfd4eb-3e7a-4233-8987-c5d70e988946",
   "metadata": {},
   "outputs": [],
   "source": [
    "Jobs_Data = pd.read_csv(filename)\n",
    "JobAngles = Jobs_Data.iloc[:, 1]"
   ]
  },
  {
   "cell_type": "code",
   "execution_count": null,
   "id": "a0aadd24-5d3e-4a17-b3ef-9fa0887c88ea",
   "metadata": {},
   "outputs": [],
   "source": [
    "record_experiment_data(filename, JobAngles, bitval, shots)"
   ]
  },
  {
   "cell_type": "code",
   "execution_count": 24,
   "id": "6aaf0814-e26d-4bd7-a14b-4dc1cda7ccac",
   "metadata": {},
   "outputs": [],
   "source": [
    "critical_theta, critical_error, Thetas, Model_Bob_Curve, Model_Eve_Curve, Model_IAB_Curve, Model_IAE_Curve, BobFidelity, EveFidelity, IAB_exp, IAE_exp, Angles = analyze_data(filename,3)"
   ]
  },
  {
   "cell_type": "code",
   "execution_count": 25,
   "id": "886550aa-f208-448d-8200-f58a6b228ce3",
   "metadata": {},
   "outputs": [
    {
     "name": "stdout",
     "output_type": "stream",
     "text": [
      "Critical angle =  (0.597220116908856+0j)\n",
      "pi/8 =  0.39269908169872414\n",
      "Critical error =  (0.03499496656799872+0j)\n",
      "Theoretical prediction =  0.1464466094067262\n"
     ]
    }
   ],
   "source": [
    "# values based on the intersection of plotted information curves\n",
    "print('Critical angle = ', critical_theta)\n",
    "print('pi/8 = ', np.pi/8)\n",
    "print('Critical error = ', critical_error)\n",
    "print('Theoretical prediction = ', 0.5 - 0.25 * np.sqrt(2))"
   ]
  },
  {
   "cell_type": "markdown",
   "id": "3e8dd0a5-7e8b-4d33-9e06-afbf463911bb",
   "metadata": {},
   "source": [
    "**Fidelity Calculations.** Below we calculate the critical error based on the intersection of the fidelity curves."
   ]
  },
  {
   "cell_type": "code",
   "execution_count": 26,
   "id": "e5d020e0-7bbf-422c-9c6d-eb141d088904",
   "metadata": {},
   "outputs": [],
   "source": [
    "def fidelity_curves_intersection(JobAngles, BobFidelity, EveFidelity, degree):\n",
    "    Model_Bob = np.poly1d(np.polyfit(JobAngles, BobFidelity, degree))\n",
    "    Model_Eve = np.poly1d(np.polyfit(JobAngles, EveFidelity, degree))\n",
    "    \n",
    "    Thetas = np.linspace(0, np.pi/4, 100)\n",
    "    Model_Bob_curve = Model_Bob(Thetas)\n",
    "    Model_Eve_curve = Model_Eve(Thetas)\n",
    "    \n",
    "    ModelDiff = Model_Bob - Model_Eve\n",
    "    Roots = np.roots(ModelDiff)\n",
    "    RealRoots = Roots[~np.iscomplex(Roots)]\n",
    "    for j in range(len(RealRoots)):\n",
    "        if RealRoots[j] >= 0 and RealRoots[j] <= np.pi/4:\n",
    "            critical_theta = RealRoots[j]\n",
    "            critical_error = error_rate_theory(RealRoots[j])\n",
    "            #print('theta2 =', RealRoots[j])\n",
    "            #print('error rate =', error_rate_theory(RealRoots[j]))\n",
    "    \n",
    "    \n",
    "    return critical_theta, critical_error, Thetas, Model_Bob_curve, Model_Eve_curve"
   ]
  },
  {
   "cell_type": "code",
   "execution_count": 27,
   "id": "ee0163dc-cc2e-4c0b-aab4-b4dc136fc109",
   "metadata": {},
   "outputs": [],
   "source": [
    "JobAngles, BobFidelity, EveFidelity = get_data(filename)"
   ]
  },
  {
   "cell_type": "code",
   "execution_count": 28,
   "id": "263de924-1c24-4efb-a8ea-e61654de3064",
   "metadata": {},
   "outputs": [],
   "source": [
    "crit_theta, crit_error, Thetas, Model_Bob_curve, Model_Eve_curve = fidelity_curves_intersection(JobAngles, BobFidelity, EveFidelity, 2)"
   ]
  },
  {
   "cell_type": "code",
   "execution_count": 29,
   "id": "0a62c31e-e5dc-4482-9499-61d6b628f4cb",
   "metadata": {},
   "outputs": [
    {
     "name": "stdout",
     "output_type": "stream",
     "text": [
      "Critical angle =  0.32558063315534663\n",
      "pi/8 =  0.39269908169872414\n",
      "Critical error =  0.19694476861741006\n",
      "Theoretical prediction =  0.1464466094067262\n"
     ]
    }
   ],
   "source": [
    "print('Critical angle = ', crit_theta)\n",
    "print('pi/8 = ', np.pi/8)\n",
    "print('Critical error = ', crit_error)\n",
    "print('Theoretical prediction = ', 0.5 - 0.25 * np.sqrt(2))"
   ]
  },
  {
   "cell_type": "code",
   "execution_count": 30,
   "id": "c8f0a46e-793a-4cf1-8012-a2e06521d621",
   "metadata": {},
   "outputs": [
    {
     "data": {
      "image/png": "[encoded data removed]",
      "text/plain": [
       "<Figure size 1080x576 with 1 Axes>"
      ]
     },
     "metadata": {
      "needs_background": "light"
     },
     "output_type": "display_data"
    }
   ],
   "source": [
    "plt.figure(figsize=(15,8))\n",
    "plt.rcParams.update({'font.size': 12})\n",
    "plt.scatter(JobAngles, BobFidelity , label = \"Bob's Fidelity\",color='blue')\n",
    "plt.scatter(JobAngles, EveFidelity, label = \"Eve's Fidelity\",color='red')\n",
    "plt.plot(Thetas, Model_Bob_curve, color = 'blue')\n",
    "plt.plot(Thetas, Model_Eve_curve, color = 'red')\n",
    "#plt.yticks(np.arange(0,1.1, step = .1))\n",
    "#plt.xticks(np.arange(-np.pi/2, 5*np.pi/8, step = np.pi/8))\n",
    "plt.legend(title=\"Fidelity Curves\")\n",
    "plt.xlabel('theta_2')\n",
    "plt.show()"
   ]
  }
 ],
 "metadata": {
  "kernelspec": {
   "display_name": "Python 3 (ipykernel)",
   "language": "python",
   "name": "python3"
  },
  "language_info": {
   "codemirror_mode": {
    "name": "ipython",
    "version": 3
   },
   "file_extension": ".py",
   "mimetype": "text/x-python",
   "name": "python",
   "nbconvert_exporter": "python",
   "pygments_lexer": "ipython3",
   "version": "3.8.12"
  }
 },
 "nbformat": 4,
 "nbformat_minor": 5
}
