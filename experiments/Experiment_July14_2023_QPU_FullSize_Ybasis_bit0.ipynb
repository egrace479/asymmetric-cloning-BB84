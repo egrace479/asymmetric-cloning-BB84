{
 "cells": [
  {
   "cell_type": "markdown",
   "id": "1bfa996f-c8ce-49b6-9d17-c7bee15328ce",
   "metadata": {},
   "source": [
    "**Summary.** Full experiment with the $Y$ basis and bit value 0."
   ]
  },
  {
   "cell_type": "code",
   "execution_count": 1,
   "id": "b5bd4b77-f835-4487-915c-5633c6c11b91",
   "metadata": {},
   "outputs": [],
   "source": [
    "import numpy as np\n",
    "import matplotlib.pyplot as plt\n",
    "import csv\n",
    "import pandas as pd\n",
    "\n",
    "# from qiskit import *\n",
    "# Importing standard Qiskit libraries\n",
    "from qiskit import QuantumCircuit, QuantumRegister, ClassicalRegister\n",
    "from qiskit import IBMQ, Aer, execute, assemble, transpile\n",
    "from qiskit.visualization import plot_histogram, plot_bloch_vector\n",
    "from qiskit.visualization import plot_state_qsphere, plot_state_city, plot_bloch_multivector\n",
    "from qiskit.visualization import array_to_latex\n",
    "import qiskit.quantum_info as qi\n",
    "# from qiskit_ibm_runtime import QiskitRuntimeService\n",
    "\n",
    "from qiskit_ionq import IonQProvider\n",
    "# import gates\n",
    "from qiskit_ionq import GPIGate, GPI2Gate, MSGate\n",
    "from qiskit import Aer, execute, assemble\n",
    "from qiskit.providers.jobstatus import JobStatus\n",
    "import time\n",
    "\n",
    "from pipeline.qiskit_circuit_constructor import qiskit_alice_prepares, qiskit_measurement_prep, qiskit_clone, construct_qiskit_circuit\n",
    "from pipeline.ionq_circuit_constructor import ionq_alice_prepares\n",
    "from pipeline.ionq_circuit_constructor import ionq_measurement_prep\n",
    "from pipeline.ionq_circuit_constructor import ionq_clone\n",
    "from pipeline.ionq_circuit_constructor import construct_ionq_circuit\n",
    "#from pipeline.run_experiments import fidelities\n",
    "#from pipeline.run_experiments import get_circuit\n",
    "#from pipeline.run_experiments import run_experiment_ionq\n",
    "#from pipeline.run_experiments import run_simulation\n",
    "\n",
    "provider = IonQProvider(\"2BCQ6XP8m8wN0BPl3KawTCsAwYEBn73F\")\n",
    "native_simulator = provider.get_backend(\"ionq_simulator\", gateset=\"native\")\n",
    "native_qpu = provider.get_backend(\"ionq_qpu\", gateset=\"native\")\n",
    "\n",
    "#ionq_sim = provider.get_backend(\"ionq_simulator\")\n",
    "ionq_qpu = provider.get_backend(\"ionq_qpu\")"
   ]
  },
  {
   "cell_type": "code",
   "execution_count": 2,
   "id": "b484a9ce-cb85-49a6-9fa6-88407d7e19a1",
   "metadata": {},
   "outputs": [],
   "source": [
    "# Selection of Experiment Parameters\n",
    "N = 100 # number of randomly selected angles from 0 to pi/4\n",
    "shots = 100 # number of shots for each input angle\n",
    "basis = 'Y'\n",
    "bitval = 0\n",
    "filename = 'Experiment_July14_2023_QPU_FullSize_Ybasis_bit0.csv'\n"
   ]
  },
  {
   "cell_type": "code",
   "execution_count": 3,
   "id": "a1ef070a-7b8d-4ecb-8e10-dc64f108915b",
   "metadata": {},
   "outputs": [],
   "source": [
    "def retrieve_data(job_num, angle, bitval, shot_count):\n",
    "    ionq = provider.get_backend(\"ionq_qpu\")\n",
    "    retrieved = ionq.retrieve_job(job_num) \n",
    "    counts = retrieved.result().get_counts()\n",
    "    \n",
    "    out000 = retrieved.result().get_counts().get(\"000\")\n",
    "    out001 = retrieved.result().get_counts().get(\"001\")\n",
    "    out010 = retrieved.result().get_counts().get(\"010\")\n",
    "    out011 = retrieved.result().get_counts().get(\"011\")\n",
    "    out100 = retrieved.result().get_counts().get(\"100\")\n",
    "    out101 = retrieved.result().get_counts().get(\"101\")\n",
    "    out110 = retrieved.result().get_counts().get(\"110\")\n",
    "    out111 = retrieved.result().get_counts().get(\"111\")\n",
    "    \n",
    "    if out000 == None:\n",
    "        out000 = 0\n",
    "    if out001 == None:\n",
    "        out001 = 0\n",
    "    if out010 == None:\n",
    "        out010 = 0\n",
    "    if out011 == None:\n",
    "        out011 = 0\n",
    "        \n",
    "    if out100 == None:\n",
    "        out100 = 0\n",
    "    if out101 == None:\n",
    "        out101 = 0\n",
    "    if out110 == None:\n",
    "        out110 = 0\n",
    "    if out111 == None:\n",
    "        out111 = 0\n",
    "        \n",
    "    B,E = fidelities(out000, out001, out010, out011, out100, out101, out110, out111, bitval, shot_count)\n",
    "    \n",
    "    row_data = [job_num, angle, shot_count, out000, out001, out010, out011, out100, out101, out110, out111, B, E]\n",
    "        \n",
    "    return row_data"
   ]
  },
  {
   "cell_type": "code",
   "execution_count": 4,
   "id": "ed2755b9-1fba-4bb6-b0cb-88f68074942a",
   "metadata": {},
   "outputs": [],
   "source": [
    "def fidelities(out000, out001, out010, out011, out100, out101, out110, out111, bitval, shots):\n",
    "    '''\n",
    "    This function averages the fidelity of the clones and ancilla over experiment.\n",
    "\n",
    "    Parameters:\n",
    "    --------------\n",
    "    outijk -\n",
    "    bitval -\n",
    "    shots - Number of samples.\n",
    "\n",
    "    Returns:\n",
    "    --------------\n",
    "    bob_fidelity - Fidelity of copy sent to intended recipient (Bob).\n",
    "    eve_fidelity - Fidelity of copy kept by eavesdropper (Eve).\n",
    "    ancilla_fidelity - Fidelity of the ancilla.\n",
    "    \n",
    "    '''\n",
    "    \n",
    "    if bitval == 1:\n",
    "        bob_fidelity = (out001 + out011 + out101 + out111)/shots\n",
    "        eve_fidelity = (out010 + out011 + out110 + out111)/shots\n",
    "        #ancilla_fidelity = (out100 + out101 + out110 + out111)/shots\n",
    "        \n",
    "    if bitval == 0:\n",
    "        bob_fidelity = (out010 + out000 + out110 + out100)/shots\n",
    "        eve_fidelity = (out001 + out000 + out101 + out100)/shots\n",
    "        #ancilla_fidelity = (out000 + out001 + out010 + out011)/shots\n",
    "        \n",
    "    return bob_fidelity, eve_fidelity"
   ]
  },
  {
   "cell_type": "code",
   "execution_count": 5,
   "id": "dc0a8890-5e86-4bf7-9cf4-8cac45643c69",
   "metadata": {},
   "outputs": [],
   "source": [
    "def get_circuit(angle, bitval, basis):\n",
    "    qc = QuantumCircuit(3,3)\n",
    "    \n",
    "    qc = qiskit_alice_prepares(qc, bitval, basis)\n",
    "    qc.barrier()\n",
    "    qc = qiskit_clone(qc, angle)\n",
    "    qc.barrier()\n",
    "    qc = qiskit_measurement_prep(qc, basis)\n",
    "    \n",
    "    qc.measure(0,0)\n",
    "    qc.measure(1,1)\n",
    "    qc.measure(2,2)\n",
    "    return qc"
   ]
  },
  {
   "cell_type": "code",
   "execution_count": 6,
   "id": "280fc2aa-8f13-4894-9ac6-a3859d966604",
   "metadata": {},
   "outputs": [],
   "source": [
    "def experiment_qpu(angle, bitval, basis, shot_count):\n",
    "    qc = get_circuit(angle, bitval, basis)\n",
    "    \n",
    "    #ionq_qpu = provider.get_backend(\"ionq_qpu\")\n",
    "    job = ionq_qpu.run(qc, shots = shot_count)\n",
    "\n",
    "    job_data = [job.job_id(), angle, bitval, basis, shot_count]\n",
    "    \n",
    "    return job_data"
   ]
  },
  {
   "cell_type": "code",
   "execution_count": 7,
   "id": "5ae6d578-160c-4669-bfb0-eeffcfe383fc",
   "metadata": {},
   "outputs": [],
   "source": [
    "# Random selection of angles\n",
    "def angles(N):\n",
    "    Angles = np.random.uniform(0, np.pi/4, N)\n",
    "    Angles = np.sort(Angles)\n",
    "    return Angles"
   ]
  },
  {
   "cell_type": "code",
   "execution_count": 8,
   "id": "32f4b06b-6037-4940-8b5e-f13880fc37e0",
   "metadata": {},
   "outputs": [],
   "source": [
    "def record_experiment_setup(filename, Angles, bitval, basis, shots): \n",
    "    header = ['Job Number', 'Angle', 'Bit Value', 'Basis', 'Total Shots']\n",
    "\n",
    "    with open(filename, 'w', encoding = 'UTF8') as f:\n",
    "        writer = csv.writer(f)\n",
    "        writer.writerow(header)\n",
    "    \n",
    "        for j in range(N):\n",
    "            job_data = experiment_qpu(Angles[j], bitval, basis, shots)\n",
    "            writer.writerow(job_data)\n",
    "            print(job_data)\n",
    "        \n",
    "        f.close()  \n",
    "        \n",
    "        return 'Complete'"
   ]
  },
  {
   "cell_type": "code",
   "execution_count": 9,
   "id": "bcf766bd-326d-4d0d-9736-77a4a0677991",
   "metadata": {},
   "outputs": [],
   "source": [
    "def record_experiment_data(filename, Angles, bitval, shots):\n",
    "    Jobs_Data = pd.read_csv(filename)\n",
    "    JobNumbers = Jobs_Data.iloc[:, 0]\n",
    "    \n",
    "    header = ['Job Number', 'Angle','Total Shots', '000', '001', '010', '011', '100', '101', '110', '111', 'Bobs Fidelity', 'Eves Fidelity']\n",
    "\n",
    "    with open(filename, 'w', encoding = 'UTF8') as f:\n",
    "        writer = csv.writer(f)\n",
    "        writer.writerow(header)\n",
    "\n",
    "        for j in range(len(JobNumbers)):\n",
    "            row_data = retrieve_data(JobNumbers[j], Angles[j], bitval, shots)\n",
    "            writer.writerow(row_data)\n",
    "\n",
    "        f.close()\n",
    "    \n",
    "    return 'Complete'"
   ]
  },
  {
   "cell_type": "code",
   "execution_count": 10,
   "id": "a082825d-ac19-431e-95a5-fc2a050be863",
   "metadata": {},
   "outputs": [],
   "source": [
    "def get_data(filename):\n",
    "    Completed_Job_Data = pd.read_csv(filename)\n",
    "\n",
    "    JobAngles = Completed_Job_Data.iloc[:, 1]\n",
    "    BobFidelity = Completed_Job_Data.iloc[:, 11]\n",
    "    EveFidelity = Completed_Job_Data.iloc[:, 12]\n",
    "\n",
    "    JobAngles = np.array(JobAngles)\n",
    "    BobFidelity = np.array(BobFidelity)\n",
    "    EveFidelity = np.array(EveFidelity)\n",
    "    \n",
    "    return  JobAngles, BobFidelity, EveFidelity"
   ]
  },
  {
   "cell_type": "code",
   "execution_count": 11,
   "id": "0743de2b-e097-4bef-8d3b-eae600fde68a",
   "metadata": {},
   "outputs": [],
   "source": [
    "def fidelity_curves(JobAngles, BobFidelity, EveFidelity, degree):\n",
    "    Model_Bob = np.poly1d(np.polyfit(JobAngles, BobFidelity, degree))\n",
    "    Model_Eve = np.poly1d(np.polyfit(JobAngles, EveFidelity, degree))\n",
    "    Thetas = np.linspace(0, np.pi/4, 100)\n",
    "    Model_Bob_Curve = Model_Bob(Thetas)\n",
    "    Model_Eve_Curve = Model_Eve(Thetas)\n",
    "    return Thetas, Model_Bob_Curve, Model_Eve_Curve"
   ]
  },
  {
   "cell_type": "code",
   "execution_count": 12,
   "id": "25d0a8fa-6a69-4ceb-a3e2-f203bf1ed8a8",
   "metadata": {},
   "outputs": [],
   "source": [
    "def QBER_Bob_exp(N, BobFidelity):\n",
    "    Q = np.ones(N)\n",
    "    Q = Q - BobFidelity\n",
    "    return Q"
   ]
  },
  {
   "cell_type": "code",
   "execution_count": 13,
   "id": "aa0b886b-eb5a-4867-98c0-c29b9989d015",
   "metadata": {},
   "outputs": [],
   "source": [
    "def binary_entropy(t):\n",
    "    if t == 0 or t == 1:\n",
    "        return 0\n",
    "    else:\n",
    "        return -t * np.log2(t) - (1-t) * np.log2(1-t)"
   ]
  },
  {
   "cell_type": "code",
   "execution_count": 14,
   "id": "952441d1-b742-4d18-bb63-0e00090e9210",
   "metadata": {},
   "outputs": [],
   "source": [
    "# Mutual information between Alice and Bob\n",
    "def Info_AB(Q):\n",
    "    return 1 - binary_entropy(Q)"
   ]
  },
  {
   "cell_type": "code",
   "execution_count": 15,
   "id": "9719ab3d-dd31-4cae-9693-4c711516f7ce",
   "metadata": {},
   "outputs": [],
   "source": [
    "# Mutual information between Alice and Eve\n",
    "def Info_AE(Q):\n",
    "    return 1 - binary_entropy(0.5 - np.sqrt(Q * (1-Q)))"
   ]
  },
  {
   "cell_type": "code",
   "execution_count": 16,
   "id": "a07afad8-1985-44f9-817d-10933b14883e",
   "metadata": {},
   "outputs": [],
   "source": [
    "# Calculate the observed mutual information using the fidelities for Bob and Eve\n",
    "def observed_mutual_info(N, Q):\n",
    "    IAB_exp = np.zeros(N)\n",
    "    IAE_exp = np.zeros(N)\n",
    "    for j in range(N):\n",
    "        IAB_exp[j] = Info_AB(Q[j])\n",
    "        IAE_exp[j] = Info_AE(Q[j])\n",
    "    return IAB_exp, IAE_exp"
   ]
  },
  {
   "cell_type": "code",
   "execution_count": 17,
   "id": "7ce40c2f-9d38-4f92-9b5b-cd637280c4e4",
   "metadata": {},
   "outputs": [],
   "source": [
    "# A function that calculates the threshold error rate for Alice and Bob\n",
    "# Error rate\n",
    "def error_rate_theory(theta):\n",
    "    return 0.5 - 0.5*np.sin(2 * theta)"
   ]
  },
  {
   "cell_type": "code",
   "execution_count": 18,
   "id": "e7e2c3dc-b9aa-4ceb-b861-eb7229607b5a",
   "metadata": {},
   "outputs": [],
   "source": [
    "# Fitting Curvesfor the mutual information functions and calculate critical error rate and theta2 values\n",
    "def mutual_info_curves(Angles, IAB_exp, IAE_exp, degree):\n",
    "    critical_theta = 0.0\n",
    "    critical_error = 0.0\n",
    "    \n",
    "    Model_IAB = np.poly1d(np.polyfit(Angles, IAB_exp, degree))\n",
    "    Model_IAE = np.poly1d(np.polyfit(Angles, IAE_exp, degree))\n",
    "    Thetas = np.linspace(0, np.pi/4, 100)\n",
    "    Model_IAB_curve = Model_IAB(Thetas)\n",
    "    Model_IAE_curve = Model_IAE(Thetas)\n",
    "     \n",
    "    ModelDiff = Model_IAB - Model_IAE\n",
    "    Roots = np.roots(ModelDiff)\n",
    "    RealRoots = Roots[~np.iscomplex(Roots)]\n",
    "    for j in range(len(RealRoots)):\n",
    "        if RealRoots[j] >= 0 and RealRoots[j] <= np.pi/4:\n",
    "            critical_theta = RealRoots[j]\n",
    "            critical_error = error_rate_theory(RealRoots[j])\n",
    "            #print('theta2 =', RealRoots[j])\n",
    "            #print('error rate =', error_rate_theory(RealRoots[j]))\n",
    "    \n",
    "    return Thetas, Model_IAB_curve, Model_IAE_curve, critical_theta, critical_error\n",
    "    "
   ]
  },
  {
   "cell_type": "code",
   "execution_count": 19,
   "id": "f0645a59-8e45-496a-89a9-84fc05b9caac",
   "metadata": {},
   "outputs": [],
   "source": [
    "def experiment_submit(N, shots, bitval, basis, filename):\n",
    "    # generate angles\n",
    "    JobAngles = angles(N)\n",
    "    \n",
    "    # record the experiment setup\n",
    "    print('Experimental Setup')\n",
    "    record_experiment_setup(filename, JobAngles, bitval, basis, shots)\n",
    "    \n",
    "     # record the experimental data\n",
    "    #print('Recording data from the experiment')\n",
    "    #record_experiment_data(filename, JobAngles, bitval, shots)\n",
    "    \n",
    "    return 'Experiment successfully submitted.'"
   ]
  },
  {
   "cell_type": "code",
   "execution_count": 20,
   "id": "012a2529-fc98-4f2e-824d-9664ae37fa1d",
   "metadata": {},
   "outputs": [],
   "source": [
    "def analyze_data(filename, degree):\n",
    "     # get the fidelities\n",
    "    Angles, BobFidelity, EveFidelity = get_data(filename)\n",
    "    \n",
    "    # calculate Bob's QBER\n",
    "    Q = QBER_Bob_exp(N, BobFidelity)\n",
    "    \n",
    "    # get the fidelity curves\n",
    "    Thetas, Model_Bob_Curve, Model_Eve_Curve = fidelity_curves(Angles, BobFidelity, EveFidelity, degree)\n",
    "    \n",
    "    # calculate the observed mutual information\n",
    "    IAB_exp, IAE_exp = observed_mutual_info(N,Q)\n",
    "    \n",
    "    # calculate the mutual information curves and the error rate/critical angle\n",
    "    Thetas, Model_IAB_Curve, Model_IAE_Curve, critical_theta, critical_error = mutual_info_curves(Angles, IAB_exp, IAE_exp, degree)\n",
    "    \n",
    "    return critical_theta, critical_error, Thetas, Model_Bob_Curve, Model_Eve_Curve, Model_IAB_Curve, Model_IAE_Curve, BobFidelity, EveFidelity, IAB_exp, IAE_exp, Angles"
   ]
  },
  {
   "cell_type": "code",
   "execution_count": 21,
   "id": "66d333dd-25b6-4ee9-9d0e-a9941d1c9e96",
   "metadata": {},
   "outputs": [
    {
     "name": "stdout",
     "output_type": "stream",
     "text": [
      "Experimental Setup\n",
      "['d48123c7-3083-41be-a904-6228b9390b0b', 0.0018744950312862365, 0, 'Y', 100]\n",
      "['d3a948c6-aca3-4b3e-8a1d-3eafd0ac69b5', 0.002501482091689353, 0, 'Y', 100]\n",
      "['17858f9a-58dd-4b9c-b46c-63df6e6813b5', 0.0035419468035817704, 0, 'Y', 100]\n",
      "['bea800dc-146c-4fc6-b868-258afda40d70', 0.0106699800079431, 0, 'Y', 100]\n",
      "['7c3acd1c-2792-4acd-b0a6-6fb9cada4d02', 0.011904165915099066, 0, 'Y', 100]\n",
      "['1cf44952-8ff2-4060-a605-8fcdc060f161', 0.01202330058448082, 0, 'Y', 100]\n",
      "['01ac0440-2f14-4834-b8b6-6fb9dc7983b2', 0.02195944809177476, 0, 'Y', 100]\n",
      "['614d9e15-7093-48fa-bb6a-a4f8780f8c82', 0.023462040470096555, 0, 'Y', 100]\n",
      "['7e0773d6-7abf-488c-8d42-16dcbf6e6a39', 0.025894593684037005, 0, 'Y', 100]\n",
      "['9680f928-38d3-427f-85f0-590b0ddd6fa7', 0.058167923562556935, 0, 'Y', 100]\n",
      "['bc0a7a77-2c79-401d-ab57-1481369edbd2', 0.06557818692386715, 0, 'Y', 100]\n",
      "['3807545a-fbea-4bcc-beab-d60f01bc50c4', 0.07490006335544006, 0, 'Y', 100]\n",
      "['b27766d7-364b-4b1e-b328-3ae5a8e612d0', 0.0753670699815608, 0, 'Y', 100]\n",
      "['0a1999b4-49a4-4e4c-89f2-d62a7334aeda', 0.11019725897469605, 0, 'Y', 100]\n",
      "['d1c88aa0-c005-4970-a0a9-3ab167f87de7', 0.1116607757153457, 0, 'Y', 100]\n",
      "['7c94e03d-d91f-4627-afa7-0ee04bd53dec', 0.13240867653262545, 0, 'Y', 100]\n",
      "['a653954a-5173-4c66-83e9-f15e78dcf2e2', 0.13301931433878153, 0, 'Y', 100]\n",
      "['66ac2b24-58bc-485d-b63a-79a495e8b7d0', 0.15400891310076542, 0, 'Y', 100]\n",
      "['8953fbd9-cd0e-41bc-a840-355dd2a93114', 0.15686401716544154, 0, 'Y', 100]\n",
      "['0b270efa-9890-40d9-98e2-97154e98861c', 0.16493660967452495, 0, 'Y', 100]\n",
      "['7e2f2419-3c57-45f0-9193-e6da18ad9f5d', 0.1675865037394853, 0, 'Y', 100]\n",
      "['034861bc-b91c-4e1a-b6fa-5010be7a18ff', 0.1769148485908444, 0, 'Y', 100]\n",
      "['3bb92269-be20-4e87-8b03-c3bd613e5961', 0.19090851663177388, 0, 'Y', 100]\n",
      "['790a625f-7696-4bb7-9f3a-14d1e49af20e', 0.19427017334140478, 0, 'Y', 100]\n",
      "['f7f2569f-df20-4acd-9abd-9183bada24be', 0.20813897517585667, 0, 'Y', 100]\n",
      "['47f0d310-9822-4afe-8867-4dceacd2c47f', 0.21345542649298493, 0, 'Y', 100]\n",
      "['37c04625-7044-4779-a0dd-eb1301f95621', 0.2218569202226585, 0, 'Y', 100]\n",
      "['4c8b5f9a-8cf8-4740-8ba7-e572c0c7a8af', 0.2254785936711459, 0, 'Y', 100]\n",
      "['5f3380c4-4e3e-4cfc-b09d-0f4d9eb4f4b7', 0.22834967343758195, 0, 'Y', 100]\n",
      "['c69eec42-d1aa-44bb-b04e-93a83e6b2415', 0.23476411498649571, 0, 'Y', 100]\n",
      "['48116bd7-9a66-4947-a667-603717c27afb', 0.23922948927442864, 0, 'Y', 100]\n",
      "['1d86b63d-48b0-4a5f-974b-59386855d7fe', 0.24989378829677678, 0, 'Y', 100]\n",
      "['f3cf3dc7-829f-4b54-a827-8161e8d95378', 0.24996094890338108, 0, 'Y', 100]\n",
      "['72dab9cf-6d63-40b2-8264-ad66f8073a06', 0.26078534694243033, 0, 'Y', 100]\n",
      "['2650d6ca-9415-400c-b346-81356c0ba121', 0.2635145048138852, 0, 'Y', 100]\n",
      "['5566dc7a-0d13-4e80-a694-f73f64db2fe8', 0.2727603473280701, 0, 'Y', 100]\n",
      "['49a35b3b-2519-4b98-b979-a734cbf5db4a', 0.2743406352653333, 0, 'Y', 100]\n",
      "['56a26bb5-0640-4e37-9096-bb098ccbb872', 0.2782819707948536, 0, 'Y', 100]\n",
      "['793444ba-f070-41d3-b60e-d7da46bfbff4', 0.28091341905766537, 0, 'Y', 100]\n",
      "['a41d98f9-fc33-4143-82c0-7422e31de5a6', 0.2900365478675356, 0, 'Y', 100]\n",
      "['70186613-e76c-4806-acb3-2879b0efd12f', 0.2967429017675684, 0, 'Y', 100]\n",
      "['cd1326b1-c708-45ee-8141-3fdb0a801b1f', 0.3029958952599625, 0, 'Y', 100]\n",
      "['22bedcae-6117-4b6e-8035-b6fcb513132e', 0.3043651952872114, 0, 'Y', 100]\n",
      "['d1080be7-b6ca-4513-b81b-ace12fd37d24', 0.30809558095520007, 0, 'Y', 100]\n",
      "['32b3faae-364f-48d1-8bdb-6527ef678522', 0.31706928778841165, 0, 'Y', 100]\n",
      "['c2eecfab-f29b-4aea-b8cf-5258bfe51041', 0.31889353602715875, 0, 'Y', 100]\n",
      "['ff302b3a-39f2-404e-b173-e5f19756fb3a', 0.3342174793243062, 0, 'Y', 100]\n",
      "['5c0d867e-f876-414d-a5b9-6180eda99a62', 0.3364156180387223, 0, 'Y', 100]\n",
      "['3d980f3a-d01f-4d2e-a55d-cb7a0ff622c9', 0.33697236311148754, 0, 'Y', 100]\n",
      "['a4b28fde-90b6-487e-94d3-73a6b6b63e77', 0.3503975660643192, 0, 'Y', 100]\n",
      "['528bf89f-4b9c-4092-b743-57a86137b07d', 0.36274393938389454, 0, 'Y', 100]\n",
      "['c120cc5e-9373-48e2-b37a-622e8142f940', 0.3653700324507836, 0, 'Y', 100]\n",
      "['cee7db98-56f3-46c8-b91f-e131075d4a59', 0.3680471645983238, 0, 'Y', 100]\n",
      "['53c2b335-330c-4f09-a369-e6e402480cbb', 0.3788611787960779, 0, 'Y', 100]\n",
      "['5c2e6f0b-84a8-4f13-afcd-facbbd4000db', 0.3801320748652337, 0, 'Y', 100]\n",
      "['ba4e3e26-fce2-4ee2-b6fb-e7bf64c9a6b7', 0.38019975785713916, 0, 'Y', 100]\n",
      "['e82b9a40-badf-4682-97f6-43f9849a5e90', 0.400609330016175, 0, 'Y', 100]\n",
      "['138d4293-042b-4618-8ce3-7ad38a183642', 0.42850108777061074, 0, 'Y', 100]\n",
      "['d200bf99-612f-4964-8f36-c83220553473', 0.4330424408305475, 0, 'Y', 100]\n",
      "['c0649ddc-f23e-4dfb-980b-9a02ba2c38d7', 0.4335039771613914, 0, 'Y', 100]\n",
      "['cff9226b-dc4c-49d6-b4fc-6df098eab792', 0.438962242464554, 0, 'Y', 100]\n",
      "['01d2380b-57f7-41be-96df-0357d5870a4b', 0.4502200397667629, 0, 'Y', 100]\n",
      "['a879feb5-5816-406d-bf92-92d9ddb02176', 0.4595240592886938, 0, 'Y', 100]\n",
      "['e9bf5d6e-eb6e-4a2c-85a4-e45a5b1ce339', 0.46094222225627596, 0, 'Y', 100]\n",
      "['97d18764-7196-463a-887b-9130e3ff98e8', 0.4613397631577155, 0, 'Y', 100]\n",
      "['22df6092-dc7a-4072-ad72-3987b3b233c4', 0.47097925348910685, 0, 'Y', 100]\n",
      "['4070530d-00c7-4dfd-8f3d-01694e423e83', 0.48440952159878464, 0, 'Y', 100]\n",
      "['245d0b57-f3c1-46fe-b11e-13c9d582cda6', 0.48761297100519885, 0, 'Y', 100]\n",
      "['569d06d0-13ea-460d-af95-bb4d58f2ae85', 0.49345480700993, 0, 'Y', 100]\n",
      "['481e81b3-66e5-4d63-9484-3ef387b497ad', 0.5112474769632736, 0, 'Y', 100]\n",
      "['9858d22b-e022-47a0-aa58-885a2366c77f', 0.5164304255406836, 0, 'Y', 100]\n",
      "['6d990e01-7944-4dc9-a0a2-bb94a2492ddc', 0.534331938151584, 0, 'Y', 100]\n",
      "['f573f8b2-d83f-49a9-9f0a-e689a97f4fe8', 0.5522671220043163, 0, 'Y', 100]\n",
      "['1f5fc12d-d6c0-4f09-aa62-8f4b0087916a', 0.5580819202807134, 0, 'Y', 100]\n",
      "['151e3ef1-2729-49e2-9ef9-3604ce61eb25', 0.5587055172731186, 0, 'Y', 100]\n",
      "['a092c4c0-a3bb-4b48-b33d-f07c9028d764', 0.5713087098243703, 0, 'Y', 100]\n",
      "['ad82eceb-796b-4e2a-a0a9-bec6c695472d', 0.5779938078942987, 0, 'Y', 100]\n",
      "['1a7e5662-f74c-4773-a738-9e6d7f97b806', 0.5791135732131835, 0, 'Y', 100]\n",
      "['175b52f1-6cac-4190-8fa7-f5388a084f88', 0.5800389702149832, 0, 'Y', 100]\n",
      "['66426666-1d78-4089-88c7-f3b797035238', 0.5898822492061567, 0, 'Y', 100]\n",
      "['90c0d4ec-60aa-40bc-bf76-9430c9732944', 0.6062407413528096, 0, 'Y', 100]\n",
      "['089471e2-0594-40ee-8497-51a5667a1088', 0.6183840989372084, 0, 'Y', 100]\n",
      "['2440d3d1-8bb3-46b9-9758-8588d47348e8', 0.6231695593533655, 0, 'Y', 100]\n",
      "['e16bedcb-6460-49a1-9e1b-6b9bbb3736d6', 0.6236438719466902, 0, 'Y', 100]\n",
      "['e3288732-412b-4f72-aa6d-d960e452ad76', 0.6271684156468905, 0, 'Y', 100]\n",
      "['0b1dcf72-9bae-4ffc-8092-93633f2972d6', 0.630108234781941, 0, 'Y', 100]\n",
      "['3ec13bc4-c5d8-4650-83dc-bb2966ba3388', 0.6573896858668749, 0, 'Y', 100]\n",
      "['818482fb-2cad-461d-b4d9-6314fa568910', 0.6706842912324316, 0, 'Y', 100]\n",
      "['c352a227-730a-4b41-bfdf-9dda6f420c2d', 0.687377774246654, 0, 'Y', 100]\n",
      "['792a0d5e-8cb6-4aa3-99ce-0e177136f595', 0.6927802143521717, 0, 'Y', 100]\n",
      "['18a4de78-3071-4505-8bb3-990180cb15cc', 0.6954436827795591, 0, 'Y', 100]\n",
      "['5ba925da-d12d-48e9-9f97-91ac2bb6e760', 0.7083324816762723, 0, 'Y', 100]\n",
      "['f4c27ede-41e5-4d49-9c62-b8092e1a2d96', 0.723356035367096, 0, 'Y', 100]\n",
      "['0f87c66e-d723-4e9f-8eb9-8f3ae68947f1', 0.7256883153212002, 0, 'Y', 100]\n",
      "['d360ba7b-3963-4cf2-8488-0fb2de8b400c', 0.7327229720806764, 0, 'Y', 100]\n",
      "['981c27d3-d9c3-4277-929b-e283c0c11b36', 0.7405288757244359, 0, 'Y', 100]\n",
      "['9c1b2212-3a08-4af7-b701-b1b57fb90dcc', 0.7492253646485367, 0, 'Y', 100]\n",
      "['63aa92d4-2b0a-4dae-bd15-5ccd959812c3', 0.7617615462618077, 0, 'Y', 100]\n",
      "['5b816b97-36ab-47d2-9ec0-af43a39ab70c', 0.7639126754091616, 0, 'Y', 100]\n",
      "['04298319-b38a-4899-9304-3450486486b6', 0.7833774957689974, 0, 'Y', 100]\n"
     ]
    },
    {
     "data": {
      "text/plain": [
       "'Experiment successfully submitted.'"
      ]
     },
     "execution_count": 21,
     "metadata": {},
     "output_type": "execute_result"
    }
   ],
   "source": [
    "experiment_submit(N, shots, bitval, basis, filename)"
   ]
  },
  {
   "cell_type": "code",
   "execution_count": 22,
   "id": "9d723788-3d29-4844-82cf-07be29890e66",
   "metadata": {},
   "outputs": [],
   "source": [
    "Jobs_Data = pd.read_csv(filename)\n",
    "JobAngles = Jobs_Data.iloc[:, 1]"
   ]
  },
  {
   "cell_type": "code",
   "execution_count": 23,
   "id": "b65eb104-6319-4959-8448-35baa26641ef",
   "metadata": {},
   "outputs": [
    {
     "data": {
      "text/plain": [
       "'Complete'"
      ]
     },
     "execution_count": 23,
     "metadata": {},
     "output_type": "execute_result"
    }
   ],
   "source": [
    "record_experiment_data(filename, JobAngles, bitval, shots)"
   ]
  },
  {
   "cell_type": "code",
   "execution_count": 24,
   "id": "3ffce1bb-4fe4-4783-b6de-c708d948c446",
   "metadata": {},
   "outputs": [],
   "source": [
    "critical_theta, critical_error, Thetas, Model_Bob_Curve, Model_Eve_Curve, Model_IAB_Curve, Model_IAE_Curve, BobFidelity, EveFidelity, IAB_exp, IAE_exp, Angles = analyze_data(filename,3)"
   ]
  },
  {
   "cell_type": "code",
   "execution_count": 25,
   "id": "f39517d9-e04d-4b53-a287-c607a228a817",
   "metadata": {},
   "outputs": [
    {
     "name": "stdout",
     "output_type": "stream",
     "text": [
      "Critical angle =  0.508873876819065\n",
      "pi/8 =  0.39269908169872414\n",
      "Critical error =  0.07453644366010131\n",
      "Theoretical prediction =  0.1464466094067262\n"
     ]
    }
   ],
   "source": [
    "# values based on the intersection of plotted information curves\n",
    "print('Critical angle = ', critical_theta)\n",
    "print('pi/8 = ', np.pi/8)\n",
    "print('Critical error = ', critical_error)\n",
    "print('Theoretical prediction = ', 0.5 - 0.25 * np.sqrt(2))"
   ]
  },
  {
   "cell_type": "markdown",
   "id": "37b88518-8bf5-4177-8416-7bef289c4f6f",
   "metadata": {},
   "source": [
    "**Fidelity Calculations.** Below we calculate the critical error based on the intersection of the fidelity curves."
   ]
  },
  {
   "cell_type": "code",
   "execution_count": 26,
   "id": "31d0b82e-cd60-4366-978c-737241ae25c7",
   "metadata": {},
   "outputs": [],
   "source": [
    "def fidelity_curves_intersection(JobAngles, BobFidelity, EveFidelity, degree):\n",
    "    Model_Bob = np.poly1d(np.polyfit(JobAngles, BobFidelity, degree))\n",
    "    Model_Eve = np.poly1d(np.polyfit(JobAngles, EveFidelity, degree))\n",
    "    \n",
    "    Thetas = np.linspace(0, np.pi/4, 100)\n",
    "    Model_Bob_curve = Model_Bob(Thetas)\n",
    "    Model_Eve_curve = Model_Eve(Thetas)\n",
    "    \n",
    "    ModelDiff = Model_Bob - Model_Eve\n",
    "    Roots = np.roots(ModelDiff)\n",
    "    RealRoots = Roots[~np.iscomplex(Roots)]\n",
    "    for j in range(len(RealRoots)):\n",
    "        if RealRoots[j] >= 0 and RealRoots[j] <= np.pi/4:\n",
    "            critical_theta = RealRoots[j]\n",
    "            critical_error = error_rate_theory(RealRoots[j])\n",
    "            #print('theta2 =', RealRoots[j])\n",
    "            #print('error rate =', error_rate_theory(RealRoots[j]))\n",
    "    \n",
    "    \n",
    "    return critical_theta, critical_error, Thetas, Model_Bob_curve, Model_Eve_curve"
   ]
  },
  {
   "cell_type": "code",
   "execution_count": 27,
   "id": "9c74c92a-adb9-4a69-826c-591b398f2cb6",
   "metadata": {},
   "outputs": [],
   "source": [
    "JobAngles, BobFidelity, EveFidelity = get_data(filename)"
   ]
  },
  {
   "cell_type": "code",
   "execution_count": 28,
   "id": "bdad7d9e-d72c-4314-ba56-640f4daf6ed5",
   "metadata": {},
   "outputs": [],
   "source": [
    "crit_theta, crit_error, Thetas, Model_Bob_curve, Model_Eve_curve = fidelity_curves_intersection(JobAngles, BobFidelity, EveFidelity, 3)"
   ]
  },
  {
   "cell_type": "code",
   "execution_count": 29,
   "id": "7c274954-8da1-4fd8-8988-f56881b4e7c5",
   "metadata": {},
   "outputs": [
    {
     "name": "stdout",
     "output_type": "stream",
     "text": [
      "Critical angle =  0.43413009744311265\n",
      "pi/8 =  0.39269908169872414\n",
      "Critical error =  0.11839704585729643\n",
      "Theoretical prediction =  0.1464466094067262\n"
     ]
    }
   ],
   "source": [
    "print('Critical angle = ', crit_theta)\n",
    "print('pi/8 = ', np.pi/8)\n",
    "print('Critical error = ', crit_error)\n",
    "print('Theoretical prediction = ', 0.5 - 0.25 * np.sqrt(2))"
   ]
  },
  {
   "cell_type": "code",
   "execution_count": 30,
   "id": "1d29ba83-5884-422a-93d0-17b0d36873aa",
   "metadata": {},
   "outputs": [
    {
     "data": {
      "image/png": "[encoded data removed]",
      "text/plain": [
       "<Figure size 1080x576 with 1 Axes>"
      ]
     },
     "metadata": {
      "needs_background": "light"
     },
     "output_type": "display_data"
    }
   ],
   "source": [
    "plt.figure(figsize=(15,8))\n",
    "plt.rcParams.update({'font.size': 12})\n",
    "plt.scatter(JobAngles, BobFidelity , label = \"Bob's Fidelity\",color='blue')\n",
    "plt.scatter(JobAngles, EveFidelity, label = \"Eve's Fidelity\",color='red')\n",
    "plt.plot(Thetas, Model_Bob_curve, color = 'blue')\n",
    "plt.plot(Thetas, Model_Eve_curve, color = 'red')\n",
    "#plt.yticks(np.arange(0,1.1, step = .1))\n",
    "#plt.xticks(np.arange(-np.pi/2, 5*np.pi/8, step = np.pi/8))\n",
    "plt.legend(title=\"Fidelity Curves\")\n",
    "plt.xlabel('theta_2')\n",
    "plt.show()"
   ]
  },
  {
   "cell_type": "code",
   "execution_count": null,
   "id": "25987f10-e5bd-4ffd-b49f-552765bd3558",
   "metadata": {},
   "outputs": [],
   "source": []
  }
 ],
 "metadata": {
  "kernelspec": {
   "display_name": "Python 3 (ipykernel)",
   "language": "python",
   "name": "python3"
  },
  "language_info": {
   "codemirror_mode": {
    "name": "ipython",
    "version": 3
   },
   "file_extension": ".py",
   "mimetype": "text/x-python",
   "name": "python",
   "nbconvert_exporter": "python",
   "pygments_lexer": "ipython3",
   "version": "3.8.12"
  }
 },
 "nbformat": 4,
 "nbformat_minor": 5
}
