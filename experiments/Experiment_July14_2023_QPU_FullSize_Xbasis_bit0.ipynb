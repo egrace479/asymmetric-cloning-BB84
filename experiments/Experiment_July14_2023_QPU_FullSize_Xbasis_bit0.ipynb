{
 "cells": [
  {
   "cell_type": "markdown",
   "id": "1078ac30-8d72-44c2-b46b-ece120afa089",
   "metadata": {},
   "source": [
    "**Summary.** Full experiment on a QPU (100 angles and 100 shots/angle) in the $X$ basis with bit value 0. We include the intersection calculation for the information curves and the fidelity curves. The fidelity curves yield a much better error bound."
   ]
  },
  {
   "cell_type": "code",
   "execution_count": 1,
   "id": "fc395142-dfb2-45dd-90c2-6aa6ec8fc883",
   "metadata": {},
   "outputs": [],
   "source": [
    "import numpy as np\n",
    "import matplotlib.pyplot as plt\n",
    "import csv\n",
    "import pandas as pd\n",
    "\n",
    "# from qiskit import *\n",
    "# Importing standard Qiskit libraries\n",
    "from qiskit import QuantumCircuit, QuantumRegister, ClassicalRegister\n",
    "from qiskit import IBMQ, Aer, execute, assemble, transpile\n",
    "from qiskit.visualization import plot_histogram, plot_bloch_vector\n",
    "from qiskit.visualization import plot_state_qsphere, plot_state_city, plot_bloch_multivector\n",
    "from qiskit.visualization import array_to_latex\n",
    "import qiskit.quantum_info as qi\n",
    "# from qiskit_ibm_runtime import QiskitRuntimeService\n",
    "\n",
    "from qiskit_ionq import IonQProvider\n",
    "# import gates\n",
    "from qiskit_ionq import GPIGate, GPI2Gate, MSGate\n",
    "from qiskit import Aer, execute, assemble\n",
    "from qiskit.providers.jobstatus import JobStatus\n",
    "import time\n",
    "\n",
    "from pipeline.qiskit_circuit_constructor import qiskit_alice_prepares, qiskit_measurement_prep, qiskit_clone, construct_qiskit_circuit\n",
    "from pipeline.ionq_circuit_constructor import ionq_alice_prepares\n",
    "from pipeline.ionq_circuit_constructor import ionq_measurement_prep\n",
    "from pipeline.ionq_circuit_constructor import ionq_clone\n",
    "from pipeline.ionq_circuit_constructor import construct_ionq_circuit\n",
    "#from pipeline.run_experiments import fidelities\n",
    "#from pipeline.run_experiments import get_circuit\n",
    "#from pipeline.run_experiments import run_experiment_ionq\n",
    "#from pipeline.run_experiments import run_simulation\n",
    "\n",
    "provider = IonQProvider(\"2BCQ6XP8m8wN0BPl3KawTCsAwYEBn73F\")\n",
    "native_simulator = provider.get_backend(\"ionq_simulator\", gateset=\"native\")\n",
    "native_qpu = provider.get_backend(\"ionq_qpu\", gateset=\"native\")\n",
    "\n",
    "#ionq_sim = provider.get_backend(\"ionq_simulator\")\n",
    "ionq_qpu = provider.get_backend(\"ionq_qpu\")"
   ]
  },
  {
   "cell_type": "code",
   "execution_count": 3,
   "id": "149b4450-61ed-401b-a153-028ce3957cbe",
   "metadata": {},
   "outputs": [],
   "source": [
    "# Selection of Experiment Parameters\n",
    "N = 100 # number of randomly selected angles from 0 to pi/4\n",
    "shots = 100 # number of shots for each input angle\n",
    "basis = 'X'\n",
    "bitval = 0\n",
    "filename = 'Experiment_July14_2023_QPU_FullSize_Xbasis_bit0.csv'\n"
   ]
  },
  {
   "cell_type": "code",
   "execution_count": 4,
   "id": "c4c6e7ed-aadf-47a3-83ca-13761757b026",
   "metadata": {},
   "outputs": [],
   "source": [
    "def retrieve_data(job_num, angle, bitval, shot_count):\n",
    "    ionq = provider.get_backend(\"ionq_qpu\")\n",
    "    retrieved = ionq.retrieve_job(job_num) \n",
    "    counts = retrieved.result().get_counts()\n",
    "    \n",
    "    out000 = retrieved.result().get_counts().get(\"000\")\n",
    "    out001 = retrieved.result().get_counts().get(\"001\")\n",
    "    out010 = retrieved.result().get_counts().get(\"010\")\n",
    "    out011 = retrieved.result().get_counts().get(\"011\")\n",
    "    out100 = retrieved.result().get_counts().get(\"100\")\n",
    "    out101 = retrieved.result().get_counts().get(\"101\")\n",
    "    out110 = retrieved.result().get_counts().get(\"110\")\n",
    "    out111 = retrieved.result().get_counts().get(\"111\")\n",
    "    \n",
    "    if out000 == None:\n",
    "        out000 = 0\n",
    "    if out001 == None:\n",
    "        out001 = 0\n",
    "    if out010 == None:\n",
    "        out010 = 0\n",
    "    if out011 == None:\n",
    "        out011 = 0\n",
    "        \n",
    "    if out100 == None:\n",
    "        out100 = 0\n",
    "    if out101 == None:\n",
    "        out101 = 0\n",
    "    if out110 == None:\n",
    "        out110 = 0\n",
    "    if out111 == None:\n",
    "        out111 = 0\n",
    "        \n",
    "    B,E = fidelities(out000, out001, out010, out011, out100, out101, out110, out111, bitval, shot_count)\n",
    "    \n",
    "    row_data = [job_num, angle, shot_count, out000, out001, out010, out011, out100, out101, out110, out111, B, E]\n",
    "        \n",
    "    return row_data"
   ]
  },
  {
   "cell_type": "code",
   "execution_count": 5,
   "id": "32889acd-f49b-4956-9773-25dd3f794cf4",
   "metadata": {},
   "outputs": [],
   "source": [
    "def fidelities(out000, out001, out010, out011, out100, out101, out110, out111, bitval, shots):\n",
    "    '''\n",
    "    This function averages the fidelity of the clones and ancilla over experiment.\n",
    "\n",
    "    Parameters:\n",
    "    --------------\n",
    "    outijk -\n",
    "    bitval -\n",
    "    shots - Number of samples.\n",
    "\n",
    "    Returns:\n",
    "    --------------\n",
    "    bob_fidelity - Fidelity of copy sent to intended recipient (Bob).\n",
    "    eve_fidelity - Fidelity of copy kept by eavesdropper (Eve).\n",
    "    ancilla_fidelity - Fidelity of the ancilla.\n",
    "    \n",
    "    '''\n",
    "    \n",
    "    if bitval == 1:\n",
    "        bob_fidelity = (out001 + out011 + out101 + out111)/shots\n",
    "        eve_fidelity = (out010 + out011 + out110 + out111)/shots\n",
    "        #ancilla_fidelity = (out100 + out101 + out110 + out111)/shots\n",
    "        \n",
    "    if bitval == 0:\n",
    "        bob_fidelity = (out010 + out000 + out110 + out100)/shots\n",
    "        eve_fidelity = (out001 + out000 + out101 + out100)/shots\n",
    "        #ancilla_fidelity = (out000 + out001 + out010 + out011)/shots\n",
    "        \n",
    "    return bob_fidelity, eve_fidelity"
   ]
  },
  {
   "cell_type": "code",
   "execution_count": 6,
   "id": "9c7d7c32-0e93-4da4-a371-6eaf14fa8980",
   "metadata": {},
   "outputs": [],
   "source": [
    "def get_circuit(angle, bitval, basis):\n",
    "    qc = QuantumCircuit(3,3)\n",
    "    \n",
    "    qc = qiskit_alice_prepares(qc, bitval, basis)\n",
    "    qc.barrier()\n",
    "    qc = qiskit_clone(qc, angle)\n",
    "    qc.barrier()\n",
    "    qc = qiskit_measurement_prep(qc, basis)\n",
    "    \n",
    "    qc.measure(0,0)\n",
    "    qc.measure(1,1)\n",
    "    qc.measure(2,2)\n",
    "    return qc"
   ]
  },
  {
   "cell_type": "code",
   "execution_count": 7,
   "id": "ea9d46b1-4481-4871-9dcc-6d65e2e09349",
   "metadata": {},
   "outputs": [],
   "source": [
    "def experiment_qpu(angle, bitval, basis, shot_count):\n",
    "    qc = get_circuit(angle, bitval, basis)\n",
    "    \n",
    "    #ionq_qpu = provider.get_backend(\"ionq_qpu\")\n",
    "    job = ionq_qpu.run(qc, shots = shot_count)\n",
    "\n",
    "    job_data = [job.job_id(), angle, bitval, basis, shot_count]\n",
    "    \n",
    "    return job_data"
   ]
  },
  {
   "cell_type": "code",
   "execution_count": 8,
   "id": "4bf9f498-1300-46cf-aa55-d6a03f7957a4",
   "metadata": {},
   "outputs": [],
   "source": [
    "# Random selection of angles\n",
    "def angles(N):\n",
    "    Angles = np.random.uniform(0, np.pi/4, N)\n",
    "    Angles = np.sort(Angles)\n",
    "    return Angles"
   ]
  },
  {
   "cell_type": "code",
   "execution_count": 9,
   "id": "873071e2-5446-413e-b399-5bf01c274083",
   "metadata": {},
   "outputs": [],
   "source": [
    "def record_experiment_setup(filename, Angles, bitval, basis, shots): \n",
    "    header = ['Job Number', 'Angle', 'Bit Value', 'Basis', 'Total Shots']\n",
    "\n",
    "    with open(filename, 'w', encoding = 'UTF8') as f:\n",
    "        writer = csv.writer(f)\n",
    "        writer.writerow(header)\n",
    "    \n",
    "        for j in range(N):\n",
    "            job_data = experiment_qpu(Angles[j], bitval, basis, shots)\n",
    "            writer.writerow(job_data)\n",
    "            print(job_data)\n",
    "        \n",
    "        f.close()  \n",
    "        \n",
    "        return 'Complete'"
   ]
  },
  {
   "cell_type": "code",
   "execution_count": 10,
   "id": "ddd93698-af3f-49a0-a899-38bf4c293860",
   "metadata": {},
   "outputs": [],
   "source": [
    "def record_experiment_data(filename, Angles, bitval, shots):\n",
    "    Jobs_Data = pd.read_csv(filename)\n",
    "    JobNumbers = Jobs_Data.iloc[:, 0]\n",
    "    \n",
    "    header = ['Job Number', 'Angle','Total Shots', '000', '001', '010', '011', '100', '101', '110', '111', 'Bobs Fidelity', 'Eves Fidelity']\n",
    "\n",
    "    with open(filename, 'w', encoding = 'UTF8') as f:\n",
    "        writer = csv.writer(f)\n",
    "        writer.writerow(header)\n",
    "\n",
    "        for j in range(len(JobNumbers)):\n",
    "            row_data = retrieve_data(JobNumbers[j], Angles[j], bitval, shots)\n",
    "            writer.writerow(row_data)\n",
    "\n",
    "        f.close()\n",
    "    \n",
    "    return 'Complete'"
   ]
  },
  {
   "cell_type": "code",
   "execution_count": 11,
   "id": "be95e1ab-45ee-4658-838f-0e166316aee7",
   "metadata": {},
   "outputs": [],
   "source": [
    "def get_data(filename):\n",
    "    Completed_Job_Data = pd.read_csv(filename)\n",
    "\n",
    "    JobAngles = Completed_Job_Data.iloc[:, 1]\n",
    "    BobFidelity = Completed_Job_Data.iloc[:, 11]\n",
    "    EveFidelity = Completed_Job_Data.iloc[:, 12]\n",
    "\n",
    "    JobAngles = np.array(JobAngles)\n",
    "    BobFidelity = np.array(BobFidelity)\n",
    "    EveFidelity = np.array(EveFidelity)\n",
    "    \n",
    "    return  JobAngles, BobFidelity, EveFidelity"
   ]
  },
  {
   "cell_type": "code",
   "execution_count": 12,
   "id": "ae722b27-2abc-49a7-8efb-546badadb724",
   "metadata": {},
   "outputs": [],
   "source": [
    "def fidelity_curves(JobAngles, BobFidelity, EveFidelity, degree):\n",
    "    Model_Bob = np.poly1d(np.polyfit(JobAngles, BobFidelity, degree))\n",
    "    Model_Eve = np.poly1d(np.polyfit(JobAngles, EveFidelity, degree))\n",
    "    Thetas = np.linspace(0, np.pi/4, 100)\n",
    "    Model_Bob_Curve = Model_Bob(Thetas)\n",
    "    Model_Eve_Curve = Model_Eve(Thetas)\n",
    "    return Thetas, Model_Bob_Curve, Model_Eve_Curve"
   ]
  },
  {
   "cell_type": "code",
   "execution_count": 13,
   "id": "1f6fa281-5ce1-4976-bb24-83dcff093bc2",
   "metadata": {},
   "outputs": [],
   "source": [
    "def QBER_Bob_exp(N, BobFidelity):\n",
    "    Q = np.ones(N)\n",
    "    Q = Q - BobFidelity\n",
    "    return Q"
   ]
  },
  {
   "cell_type": "code",
   "execution_count": 14,
   "id": "ba34b2e8-8c2d-4021-bfe6-644f21041edf",
   "metadata": {},
   "outputs": [],
   "source": [
    "def binary_entropy(t):\n",
    "    if t == 0 or t == 1:\n",
    "        return 0\n",
    "    else:\n",
    "        return -t * np.log2(t) - (1-t) * np.log2(1-t)"
   ]
  },
  {
   "cell_type": "code",
   "execution_count": 15,
   "id": "ee684102-3c29-401d-9e32-466e378168d8",
   "metadata": {},
   "outputs": [],
   "source": [
    "# Mutual information between Alice and Bob\n",
    "def Info_AB(Q):\n",
    "    return 1 - binary_entropy(Q)"
   ]
  },
  {
   "cell_type": "code",
   "execution_count": 16,
   "id": "608844d1-0fa3-45d6-a905-e4bb927a532a",
   "metadata": {},
   "outputs": [],
   "source": [
    "# Mutual information between Alice and Eve\n",
    "def Info_AE(Q):\n",
    "    return 1 - binary_entropy(0.5 - np.sqrt(Q * (1-Q)))"
   ]
  },
  {
   "cell_type": "code",
   "execution_count": 17,
   "id": "466ab844-6388-4051-8115-45365b402a4d",
   "metadata": {},
   "outputs": [],
   "source": [
    "# Calculate the observed mutual information using the fidelities for Bob and Eve\n",
    "def observed_mutual_info(N, Q):\n",
    "    IAB_exp = np.zeros(N)\n",
    "    IAE_exp = np.zeros(N)\n",
    "    for j in range(N):\n",
    "        IAB_exp[j] = Info_AB(Q[j])\n",
    "        IAE_exp[j] = Info_AE(Q[j])\n",
    "    return IAB_exp, IAE_exp"
   ]
  },
  {
   "cell_type": "code",
   "execution_count": 18,
   "id": "380467c5-f742-4d7a-870e-91d0b4c0cc97",
   "metadata": {},
   "outputs": [],
   "source": [
    "# A function that calculates the threshold error rate for Alice and Bob\n",
    "# Error rate\n",
    "def error_rate_theory(theta):\n",
    "    return 0.5 - 0.5*np.sin(2 * theta)"
   ]
  },
  {
   "cell_type": "code",
   "execution_count": 19,
   "id": "564e5524-be04-4c47-8013-3307f91b19a8",
   "metadata": {},
   "outputs": [],
   "source": [
    "# Fitting Curvesfor the mutual information functions and calculate critical error rate and theta2 values\n",
    "def mutual_info_curves(Angles, IAB_exp, IAE_exp, degree):\n",
    "    critical_theta = 0.0\n",
    "    critical_error = 0.0\n",
    "    \n",
    "    Model_IAB = np.poly1d(np.polyfit(Angles, IAB_exp, degree))\n",
    "    Model_IAE = np.poly1d(np.polyfit(Angles, IAE_exp, degree))\n",
    "    Thetas = np.linspace(0, np.pi/4, 100)\n",
    "    Model_IAB_curve = Model_IAB(Thetas)\n",
    "    Model_IAE_curve = Model_IAE(Thetas)\n",
    "     \n",
    "    ModelDiff = Model_IAB - Model_IAE\n",
    "    Roots = np.roots(ModelDiff)\n",
    "    RealRoots = Roots[~np.iscomplex(Roots)]\n",
    "    for j in range(len(RealRoots)):\n",
    "        if RealRoots[j] >= 0 and RealRoots[j] <= np.pi/4:\n",
    "            critical_theta = RealRoots[j]\n",
    "            critical_error = error_rate_theory(RealRoots[j])\n",
    "            #print('theta2 =', RealRoots[j])\n",
    "            #print('error rate =', error_rate_theory(RealRoots[j]))\n",
    "    \n",
    "    return Thetas, Model_IAB_curve, Model_IAE_curve, critical_theta, critical_error\n",
    "    "
   ]
  },
  {
   "cell_type": "code",
   "execution_count": 22,
   "id": "625fe12b-c420-40b4-b9f7-9c297ae79348",
   "metadata": {},
   "outputs": [],
   "source": [
    "def experiment_submit(N, shots, bitval, basis, filename):\n",
    "    # generate angles\n",
    "    JobAngles = angles(N)\n",
    "    \n",
    "    # record the experiment setup\n",
    "    print('Experimental Setup')\n",
    "    record_experiment_setup(filename, JobAngles, bitval, basis, shots)\n",
    "    \n",
    "     # record the experimental data\n",
    "    #print('Recording data from the experiment')\n",
    "    #record_experiment_data(filename, JobAngles, bitval, shots)\n",
    "    \n",
    "    return 'Experiment successfully submitted.'"
   ]
  },
  {
   "cell_type": "code",
   "execution_count": 23,
   "id": "06a7d6be-d17c-4a4a-8acd-e38aa360a621",
   "metadata": {},
   "outputs": [],
   "source": [
    "def analyze_data(filename, degree):\n",
    "     # get the fidelities\n",
    "    Angles, BobFidelity, EveFidelity = get_data(filename)\n",
    "    \n",
    "    # calculate Bob's QBER\n",
    "    Q = QBER_Bob_exp(N, BobFidelity)\n",
    "    \n",
    "    # get the fidelity curves\n",
    "    Thetas, Model_Bob_Curve, Model_Eve_Curve = fidelity_curves(Angles, BobFidelity, EveFidelity, degree)\n",
    "    \n",
    "    # calculate the observed mutual information\n",
    "    IAB_exp, IAE_exp = observed_mutual_info(N,Q)\n",
    "    \n",
    "    # calculate the mutual information curves and the error rate/critical angle\n",
    "    Thetas, Model_IAB_Curve, Model_IAE_Curve, critical_theta, critical_error = mutual_info_curves(Angles, IAB_exp, IAE_exp, degree)\n",
    "    \n",
    "    return critical_theta, critical_error, Thetas, Model_Bob_Curve, Model_Eve_Curve, Model_IAB_Curve, Model_IAE_Curve, BobFidelity, EveFidelity, IAB_exp, IAE_exp, Angles"
   ]
  },
  {
   "cell_type": "code",
   "execution_count": 24,
   "id": "afc61a83-b4c6-47af-ad20-3bf03e06106d",
   "metadata": {},
   "outputs": [
    {
     "name": "stdout",
     "output_type": "stream",
     "text": [
      "Experimental Setup\n",
      "['f0a3f48a-3fa7-4507-b4d9-a5ecacde8452', 0.011163671210147049, 0, 'X', 100]\n",
      "['f3daaf0b-af8a-467c-b1a0-42527a3f650f', 0.033045665907275805, 0, 'X', 100]\n",
      "['ace300b0-0d73-47c7-99c6-6e3aeb107413', 0.03704445982588034, 0, 'X', 100]\n",
      "['aa23ff20-a881-44c3-a49a-645b1bad02e1', 0.04126482335543222, 0, 'X', 100]\n",
      "['bbcc15bc-cfc6-4450-9ebd-7c7dcb7037da', 0.04177343589947591, 0, 'X', 100]\n",
      "['2c3bfc81-7576-479b-b4cf-40d4034d03de', 0.04540535939957766, 0, 'X', 100]\n",
      "['2e221d01-5804-43e4-aa09-2d5da038e37b', 0.045593228469048216, 0, 'X', 100]\n",
      "['a36c36b9-3e07-4934-a8eb-0e0a266857bf', 0.04575536091542921, 0, 'X', 100]\n",
      "['b73f6686-d404-4b87-a178-087a69003c7a', 0.04689136955732606, 0, 'X', 100]\n",
      "['c2705d2e-e950-42f0-ad80-e840a85c0658', 0.0674122217820379, 0, 'X', 100]\n",
      "['0d5371ba-5c61-4e42-8f6f-be265cb60cf5', 0.06810521101723277, 0, 'X', 100]\n",
      "['afc641e5-fac5-4447-8af3-a80ebfc19c37', 0.06906902851346661, 0, 'X', 100]\n",
      "['559d21c4-b71f-44b8-82aa-9d16342e6f5e', 0.07863240292553676, 0, 'X', 100]\n",
      "['f3a47311-dcd0-4c21-b9b3-10a6ca0427a9', 0.08096604391646287, 0, 'X', 100]\n",
      "['842b46bf-bfbd-40d9-bd20-20d51f236f1a', 0.08303149805621085, 0, 'X', 100]\n",
      "['95941e1b-337a-4ab7-9950-9452db7b00b1', 0.08922112715182229, 0, 'X', 100]\n",
      "['5a442272-d2cc-491a-9e18-90e5a63aeb19', 0.10874696253633674, 0, 'X', 100]\n",
      "['4b1de6ad-49f9-484c-9e88-6c9a2c62496a', 0.11827256734298221, 0, 'X', 100]\n",
      "['20da78f2-84d3-4146-ac95-bd65e3219c45', 0.13052964531665717, 0, 'X', 100]\n",
      "['367dc3cd-b5dc-4a49-935e-2a1b0053996a', 0.13877869231119547, 0, 'X', 100]\n",
      "['e4cb4c60-5b02-4db2-80f8-45858979c691', 0.15971324218511457, 0, 'X', 100]\n",
      "['cbf77970-6b78-419d-b291-31e544873231', 0.16254173319314147, 0, 'X', 100]\n",
      "['c0983dba-babe-4493-8847-e6f0d79eb374', 0.1640608393485146, 0, 'X', 100]\n",
      "['a2c0b0cb-b27a-4b81-bfc6-5ff2839ccd31', 0.16962684803888628, 0, 'X', 100]\n",
      "['33834159-1705-40a3-8af2-1e850e8d251a', 0.16978755730720227, 0, 'X', 100]\n",
      "['82c5da44-1788-421e-85ae-97d986ea29d3', 0.17304412090239746, 0, 'X', 100]\n",
      "['9da33789-1480-4fd8-b6ed-64cef736eea4', 0.18925847744589383, 0, 'X', 100]\n",
      "['b00bbc09-c471-457b-9da0-3e2b273dae60', 0.1961801898033796, 0, 'X', 100]\n",
      "['d4121b19-a0bb-43fa-ae5a-340189f4b39a', 0.19794902257257946, 0, 'X', 100]\n",
      "['f75fbaeb-7ecb-4506-a965-00636b08ff99', 0.20062004470916556, 0, 'X', 100]\n",
      "['c50f7a65-6dee-4441-b708-caec4bde167b', 0.21422824391079703, 0, 'X', 100]\n",
      "['86d6077e-2e0a-402b-8d21-7dd1263004e0', 0.22002940761151035, 0, 'X', 100]\n",
      "['58fcff8c-d6ab-405a-a2d1-963d7bed986b', 0.22615578511736917, 0, 'X', 100]\n",
      "['8e394c46-51e5-4174-89ca-042f35b56bf1', 0.23462604667751516, 0, 'X', 100]\n",
      "['e8c3fd4c-9b4b-4f4d-85ad-70df40ab5b99', 0.23657188422622163, 0, 'X', 100]\n",
      "['50532c02-f37b-40b7-8e19-dfa7c570dac2', 0.24419062795968444, 0, 'X', 100]\n",
      "['6593d22c-4007-4cef-85a2-cbb8b4cfcf98', 0.24883550696457346, 0, 'X', 100]\n",
      "['a907cc27-b47f-4df5-a6f8-0954ab0a7d24', 0.2557021144936754, 0, 'X', 100]\n",
      "['b721d6f2-7568-4c81-9dc1-9141afef0924', 0.2582832936250914, 0, 'X', 100]\n",
      "['364d86fe-af30-415a-a4e7-6b905e60352f', 0.26493138316804865, 0, 'X', 100]\n",
      "['ebc6ee06-c9e9-43f1-9f71-456378a33c77', 0.26926094585716626, 0, 'X', 100]\n",
      "['5bd8d7fa-fb65-4874-9246-53bf1cc7df97', 0.2818206767364293, 0, 'X', 100]\n",
      "['0963a007-2472-403c-b88b-2187bb3eb515', 0.28225181572190716, 0, 'X', 100]\n",
      "['97f741e5-0e32-44bd-b6f3-5e332e72d04e', 0.2982322304964485, 0, 'X', 100]\n",
      "['cafc5910-6a7b-44c4-b31d-1e440f3d6e04', 0.2990014531782587, 0, 'X', 100]\n",
      "['dc578a7a-cde7-4b37-9ba1-5778e88afbfe', 0.2999013838875303, 0, 'X', 100]\n",
      "['6f27a7e2-b3a2-47ee-a793-60dfcd254195', 0.31437893738548933, 0, 'X', 100]\n",
      "['4854edc1-22bc-47b6-b7fb-c818b160dfed', 0.33677030057567253, 0, 'X', 100]\n",
      "['ede33bfc-2230-454b-a10f-c0224d1fa8c2', 0.3473736259924099, 0, 'X', 100]\n",
      "['5c5c8079-e3e2-471f-b657-5e10ca03bfd1', 0.3534595927675522, 0, 'X', 100]\n",
      "['c807d205-f316-4d3b-9f6e-481f8970bb4c', 0.3551561009967313, 0, 'X', 100]\n",
      "['4ef54334-a8f1-4c2f-bdff-579ec02047ae', 0.386843300616968, 0, 'X', 100]\n",
      "['2d4423a9-2ad3-408c-949b-47f0470a05c5', 0.3903987119091978, 0, 'X', 100]\n",
      "['d59b958e-ea52-4a57-bc32-52d8fd9067e5', 0.39760052819819236, 0, 'X', 100]\n",
      "['812e0e7d-0542-49ca-b5d7-608d6db05114', 0.4063266683634712, 0, 'X', 100]\n",
      "['10b6b4c2-7d8f-43b3-9eb3-1f22fd02639f', 0.4138267439916074, 0, 'X', 100]\n",
      "['110defed-4d53-40af-aeb2-7065d3938d40', 0.416170594181857, 0, 'X', 100]\n",
      "['b906e175-9411-461b-a9b0-009526deaee5', 0.4340880750514654, 0, 'X', 100]\n",
      "['1c3a5b99-5d4b-430a-8c4f-21142f0f5957', 0.4458940648407381, 0, 'X', 100]\n",
      "['3f869713-2527-427a-a7a3-2362aa501aa7', 0.4494195383881371, 0, 'X', 100]\n",
      "['39fc2956-ea56-4343-b74c-17d7870923a5', 0.451193055390363, 0, 'X', 100]\n",
      "['99ac6f86-8882-43b2-8d17-5506e3bc1bc7', 0.4527782990521189, 0, 'X', 100]\n",
      "['429fcb86-a742-4f4a-8b5c-7086291feb43', 0.45626736897494696, 0, 'X', 100]\n",
      "['7631c6dd-fa94-4bf9-a071-c5406a0132c7', 0.4566399398415997, 0, 'X', 100]\n",
      "['dae087f6-7d4f-4512-88cb-9baee379e057', 0.4676979085874144, 0, 'X', 100]\n",
      "['540e9a42-c41b-4aeb-9eee-56893ee9fb30', 0.4727710155753423, 0, 'X', 100]\n",
      "['a676cc26-bab9-4847-968c-49c5c4d864ff', 0.48189188054514315, 0, 'X', 100]\n",
      "['1a708ad6-c514-4e1c-996e-47359b0af904', 0.48922834680927857, 0, 'X', 100]\n",
      "['a9ca7511-5b12-473d-902a-069a43f78ba1', 0.5002880485038936, 0, 'X', 100]\n",
      "['6f16eb4e-64f3-4172-8f8b-a40459bb20f0', 0.5024789596645038, 0, 'X', 100]\n",
      "['99ed0bed-ce39-4ded-8481-9f8bf254a5d0', 0.5042901516456308, 0, 'X', 100]\n",
      "['00463713-54b2-41d1-9283-7501e5c3595b', 0.5064967931294112, 0, 'X', 100]\n",
      "['ac6487e4-12a6-4117-841e-f22e1da285c6', 0.5275745588849662, 0, 'X', 100]\n",
      "['97c952f1-4abf-45a9-9d9e-d2d20281b1c4', 0.528804824682824, 0, 'X', 100]\n",
      "['7a70094c-69bd-4f86-a8f1-bae920b149c1', 0.5510854548583939, 0, 'X', 100]\n",
      "['0d5881ad-fdf0-4139-ba59-3b188a5dad5c', 0.5644758740316865, 0, 'X', 100]\n",
      "['f8d10b14-6ff9-4b41-8255-03f45d5ed4da', 0.5787581643355664, 0, 'X', 100]\n",
      "['16881f1c-fd57-4ed2-9c9d-3c928744eca4', 0.5798789710581074, 0, 'X', 100]\n",
      "['989fe1be-9c3e-4b21-b8f2-dd52d6006c8f', 0.5817456944248302, 0, 'X', 100]\n",
      "['13034d7f-a991-4696-b6ee-4d8fac1174c6', 0.594355127194406, 0, 'X', 100]\n",
      "['a308bd6b-441d-4181-8f4d-b5e4a8260ea3', 0.595696475891087, 0, 'X', 100]\n",
      "['8d0137f7-6ce5-4c49-a451-6228bf25bb33', 0.6016947588449236, 0, 'X', 100]\n",
      "['4b9d9868-7de3-4eda-b439-4626d3b08ad6', 0.6149132499063648, 0, 'X', 100]\n",
      "['5bedc906-19cb-4a42-97fa-85cef0c808f6', 0.6353837043783946, 0, 'X', 100]\n",
      "['afb78c91-f511-4e88-8ff3-09c20ea4ac1a', 0.6360656259515303, 0, 'X', 100]\n",
      "['fe271d4a-d4c4-45a1-8827-a91f290b3115', 0.6492739904379087, 0, 'X', 100]\n",
      "['30ae863c-0c52-4e4d-9fa4-522ea151e3c0', 0.6702122140022793, 0, 'X', 100]\n",
      "['89febaa6-7eab-4808-960f-4b0da2706408', 0.6814330893238428, 0, 'X', 100]\n",
      "['a451066a-f7ef-4f88-9ecc-54fc3c5a5fd0', 0.6891548597038819, 0, 'X', 100]\n",
      "['ed273b92-deca-47b9-802b-c260b9509951', 0.6960170411659035, 0, 'X', 100]\n",
      "['03a8aa3e-d1d9-4892-b8b2-19918de9942a', 0.710468774519231, 0, 'X', 100]\n",
      "['e7bb6529-e72b-4671-b89d-7bee5463c7f4', 0.7186434082001683, 0, 'X', 100]\n",
      "['8f0332e1-caa6-40d6-ba9e-9b9f08ac0a9d', 0.7367940516497145, 0, 'X', 100]\n",
      "['59d3f5e3-2d38-4e41-b57e-b9b9ad7488f9', 0.7386440877852913, 0, 'X', 100]\n",
      "['b01982f3-8c92-4e8e-bb63-32d25df7d200', 0.7632180063032641, 0, 'X', 100]\n",
      "['a119daae-bfb9-40b3-ad4e-4ef274648fa8', 0.7673711472335255, 0, 'X', 100]\n",
      "['1ce9e2e0-6e70-40bb-b739-97f79de17ead', 0.7700314716000934, 0, 'X', 100]\n",
      "['347bf0e2-1110-4bc3-aa31-a2908a1c36f7', 0.7709188276847215, 0, 'X', 100]\n",
      "['9fb5d949-754d-4526-afb3-df2954c139c5', 0.7746083228030765, 0, 'X', 100]\n",
      "['39e3ebcf-2c7b-40aa-aee9-2b9e0ce30afd', 0.7848182398905066, 0, 'X', 100]\n"
     ]
    },
    {
     "data": {
      "text/plain": [
       "'Experiment successfully submitted.'"
      ]
     },
     "execution_count": 24,
     "metadata": {},
     "output_type": "execute_result"
    }
   ],
   "source": [
    "experiment_submit(N, shots, bitval, basis, filename)"
   ]
  },
  {
   "cell_type": "code",
   "execution_count": 25,
   "id": "08442dc0-b6eb-447b-9813-5bc7b5c2f605",
   "metadata": {},
   "outputs": [],
   "source": [
    "Jobs_Data = pd.read_csv(filename)\n",
    "JobAngles = Jobs_Data.iloc[:, 1]"
   ]
  },
  {
   "cell_type": "code",
   "execution_count": 26,
   "id": "653473c9-147b-45ea-8949-a33d2a2dbbb5",
   "metadata": {},
   "outputs": [
    {
     "data": {
      "text/plain": [
       "0     0.011164\n",
       "1     0.033046\n",
       "2     0.037044\n",
       "3     0.041265\n",
       "4     0.041773\n",
       "        ...   \n",
       "95    0.767371\n",
       "96    0.770031\n",
       "97    0.770919\n",
       "98    0.774608\n",
       "99    0.784818\n",
       "Name: Angle, Length: 100, dtype: float64"
      ]
     },
     "execution_count": 26,
     "metadata": {},
     "output_type": "execute_result"
    }
   ],
   "source": [
    "JobAngles"
   ]
  },
  {
   "cell_type": "code",
   "execution_count": 27,
   "id": "b68175f3-5a7c-4331-b06a-aac60d8260d6",
   "metadata": {},
   "outputs": [
    {
     "data": {
      "text/plain": [
       "'Complete'"
      ]
     },
     "execution_count": 27,
     "metadata": {},
     "output_type": "execute_result"
    }
   ],
   "source": [
    "record_experiment_data(filename, JobAngles, bitval, shots)"
   ]
  },
  {
   "cell_type": "code",
   "execution_count": 28,
   "id": "1ef4ab0b-c184-49b4-a4f7-f93abddbbe84",
   "metadata": {},
   "outputs": [],
   "source": [
    "critical_theta, critical_error, Thetas, Model_Bob_Curve, Model_Eve_Curve, Model_IAB_Curve, Model_IAE_Curve, BobFidelity, EveFidelity, IAB_exp, IAE_exp, Angles = analyze_data(filename,3)"
   ]
  },
  {
   "cell_type": "code",
   "execution_count": 30,
   "id": "6e9b4ec0-fea0-44c7-8e7c-e1cc2c534c82",
   "metadata": {},
   "outputs": [
    {
     "name": "stdout",
     "output_type": "stream",
     "text": [
      "Critical angle =  0.6455071625187891\n",
      "pi/8 =  0.39269908169872414\n",
      "Critical error =  0.019442169740097603\n",
      "Theoretical prediction =  0.1464466094067262\n"
     ]
    }
   ],
   "source": [
    "# values based on the intersection of plotted information curves\n",
    "print('Critical angle = ', critical_theta)\n",
    "print('pi/8 = ', np.pi/8)\n",
    "print('Critical error = ', critical_error)\n",
    "print('Theoretical prediction = ', 0.5 - 0.25 * np.sqrt(2))"
   ]
  },
  {
   "cell_type": "markdown",
   "id": "11262f84-3a00-49a9-874b-d2baca4067b1",
   "metadata": {},
   "source": [
    "**Fidelity Calculations.** Below we calculate the critical error based on the intersection of the fidelity curves."
   ]
  },
  {
   "cell_type": "code",
   "execution_count": 31,
   "id": "c682b912-0e2d-4322-9e49-9b8ae208b7f8",
   "metadata": {},
   "outputs": [],
   "source": [
    "def fidelity_curves_intersection(JobAngles, BobFidelity, EveFidelity, degree):\n",
    "    Model_Bob = np.poly1d(np.polyfit(JobAngles, BobFidelity, degree))\n",
    "    Model_Eve = np.poly1d(np.polyfit(JobAngles, EveFidelity, degree))\n",
    "    \n",
    "    Thetas = np.linspace(0, np.pi/4, 100)\n",
    "    Model_Bob_curve = Model_Bob(Thetas)\n",
    "    Model_Eve_curve = Model_Eve(Thetas)\n",
    "    \n",
    "    ModelDiff = Model_Bob - Model_Eve\n",
    "    Roots = np.roots(ModelDiff)\n",
    "    RealRoots = Roots[~np.iscomplex(Roots)]\n",
    "    for j in range(len(RealRoots)):\n",
    "        if RealRoots[j] >= 0 and RealRoots[j] <= np.pi/4:\n",
    "            critical_theta = RealRoots[j]\n",
    "            critical_error = error_rate_theory(RealRoots[j])\n",
    "            #print('theta2 =', RealRoots[j])\n",
    "            #print('error rate =', error_rate_theory(RealRoots[j]))\n",
    "    \n",
    "    \n",
    "    return critical_theta, critical_error, Thetas, Model_Bob_curve, Model_Eve_curve"
   ]
  },
  {
   "cell_type": "code",
   "execution_count": 32,
   "id": "4811f5ee-048e-4389-8ebb-373a3d2b0216",
   "metadata": {},
   "outputs": [],
   "source": [
    "JobAngles, BobFidelity, EveFidelity = get_data(filename)"
   ]
  },
  {
   "cell_type": "code",
   "execution_count": 42,
   "id": "872abcd2-eeb9-43fa-8821-20ede1299771",
   "metadata": {},
   "outputs": [],
   "source": [
    "crit_theta, crit_error, Thetas, Model_Bob_curve, Model_Eve_curve = fidelity_curves_intersection(JobAngles, BobFidelity, EveFidelity, 3)"
   ]
  },
  {
   "cell_type": "code",
   "execution_count": 43,
   "id": "0e2d7f7d-486d-4f45-94b2-0a178bc5525e",
   "metadata": {},
   "outputs": [
    {
     "name": "stdout",
     "output_type": "stream",
     "text": [
      "Critical angle =  0.4303679215192933\n",
      "pi/8 =  0.39269908169872414\n",
      "Critical error =  0.12083877537579035\n",
      "Theoretical prediction =  0.1464466094067262\n"
     ]
    }
   ],
   "source": [
    "print('Critical angle = ', crit_theta)\n",
    "print('pi/8 = ', np.pi/8)\n",
    "print('Critical error = ', crit_error)\n",
    "print('Theoretical prediction = ', 0.5 - 0.25 * np.sqrt(2))"
   ]
  },
  {
   "cell_type": "code",
   "execution_count": 44,
   "id": "36934995-65f6-42ed-875c-effbdb4bbcd4",
   "metadata": {},
   "outputs": [
    {
     "data": {
      "image/png": "[encoded data removed]",
      "text/plain": [
       "<Figure size 1080x576 with 1 Axes>"
      ]
     },
     "metadata": {
      "needs_background": "light"
     },
     "output_type": "display_data"
    }
   ],
   "source": [
    "plt.figure(figsize=(15,8))\n",
    "plt.rcParams.update({'font.size': 12})\n",
    "plt.scatter(JobAngles, BobFidelity , label = \"Bob's Fidelity\",color='blue')\n",
    "plt.scatter(JobAngles, EveFidelity, label = \"Eve's Fidelity\",color='red')\n",
    "plt.plot(Thetas, Model_Bob_curve, color = 'blue')\n",
    "plt.plot(Thetas, Model_Eve_curve, color = 'red')\n",
    "#plt.yticks(np.arange(0,1.1, step = .1))\n",
    "#plt.xticks(np.arange(-np.pi/2, 5*np.pi/8, step = np.pi/8))\n",
    "plt.legend(title=\"Fidelity Curves\")\n",
    "plt.xlabel('theta_2')\n",
    "plt.show()"
   ]
  },
  {
   "cell_type": "code",
   "execution_count": null,
   "id": "c5fc3353-700a-4533-98a8-476ccfb6372f",
   "metadata": {},
   "outputs": [],
   "source": []
  }
 ],
 "metadata": {
  "kernelspec": {
   "display_name": "Python 3 (ipykernel)",
   "language": "python",
   "name": "python3"
  },
  "language_info": {
   "codemirror_mode": {
    "name": "ipython",
    "version": 3
   },
   "file_extension": ".py",
   "mimetype": "text/x-python",
   "name": "python",
   "nbconvert_exporter": "python",
   "pygments_lexer": "ipython3",
   "version": "3.8.12"
  }
 },
 "nbformat": 4,
 "nbformat_minor": 5
}
