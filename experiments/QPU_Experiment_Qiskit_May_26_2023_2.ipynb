{
 "cells": [
  {
   "cell_type": "code",
   "execution_count": 1,
   "id": "9d6263bc-174d-49e6-b1aa-76d605d214ae",
   "metadata": {},
   "outputs": [],
   "source": [
    "import numpy as np\n",
    "import matplotlib.pyplot as plt\n",
    "import csv\n",
    "import pandas as pd\n",
    "\n",
    "# from qiskit import *\n",
    "# Importing standard Qiskit libraries\n",
    "from qiskit import QuantumCircuit, QuantumRegister, ClassicalRegister\n",
    "from qiskit import IBMQ, Aer, execute, assemble, transpile\n",
    "from qiskit.visualization import plot_histogram, plot_bloch_vector\n",
    "from qiskit.visualization import plot_state_qsphere, plot_state_city, plot_bloch_multivector\n",
    "from qiskit.visualization import array_to_latex\n",
    "import qiskit.quantum_info as qi\n",
    "# from qiskit_ibm_runtime import QiskitRuntimeService\n",
    "\n",
    "from qiskit_ionq import IonQProvider\n",
    "# import gates\n",
    "from qiskit_ionq import GPIGate, GPI2Gate, MSGate\n",
    "from qiskit import Aer, execute, assemble\n",
    "from qiskit.providers.jobstatus import JobStatus\n",
    "import time\n",
    "\n",
    "from pipeline.qiskit_circuit_constructor import qiskit_alice_prepares, qiskit_measurement_prep, qiskit_clone, construct_qiskit_circuit\n",
    "from pipeline.ionq_circuit_constructor import ionq_alice_prepares\n",
    "from pipeline.ionq_circuit_constructor import ionq_measurement_prep\n",
    "from pipeline.ionq_circuit_constructor import ionq_clone\n",
    "from pipeline.ionq_circuit_constructor import construct_ionq_circuit\n",
    "#from pipeline.run_experiments import fidelities\n",
    "#from pipeline.run_experiments import get_circuit\n",
    "#from pipeline.run_experiments import run_experiment_ionq\n",
    "#from pipeline.run_experiments import run_simulation\n",
    "\n",
    "provider = IonQProvider(\"RmK0yNkCDPmoxCH12uQ4U67lpu9kFgik\")\n",
    "native_simulator = provider.get_backend(\"ionq_simulator\", gateset=\"native\")\n",
    "native_qpu = provider.get_backend(\"ionq_qpu\", gateset=\"native\")\n",
    "\n",
    "ionq_sim = provider.get_backend(\"ionq_simulator\")\n",
    "ionq_qpu = provider.get_backend(\"ionq_qpu\")"
   ]
  },
  {
   "cell_type": "markdown",
   "id": "45297fa1-bdca-4e44-8419-1d0a757f8a53",
   "metadata": {},
   "source": [
    "**Retrieving Data** The next function retrieves the data from IonQ and returns a list that contains the IonQ job number, the cloning angle, shot count, the experimental results, and the fidelities observed by Bob and Eve. This data will be stored in an Excel file."
   ]
  },
  {
   "cell_type": "code",
   "execution_count": 2,
   "id": "eceef0c7-19cc-4698-a137-cf8c60e524e8",
   "metadata": {},
   "outputs": [],
   "source": [
    "def retrieve_data(job_num, angle, bitval, shot_count):\n",
    "    ionq = provider.get_backend(\"ionq_qpu\")\n",
    "    retrieved = ionq.retrieve_job(job_num) \n",
    "    counts = retrieved.result().get_counts()\n",
    "    \n",
    "    out000 = retrieved.result().get_counts().get(\"000\")\n",
    "    out001 = retrieved.result().get_counts().get(\"001\")\n",
    "    out010 = retrieved.result().get_counts().get(\"010\")\n",
    "    out011 = retrieved.result().get_counts().get(\"011\")\n",
    "    out100 = retrieved.result().get_counts().get(\"100\")\n",
    "    out101 = retrieved.result().get_counts().get(\"101\")\n",
    "    out110 = retrieved.result().get_counts().get(\"110\")\n",
    "    out111 = retrieved.result().get_counts().get(\"111\")\n",
    "    \n",
    "    if out000 == None:\n",
    "        out000 = 0\n",
    "    if out001 == None:\n",
    "        out001 = 0\n",
    "    if out010 == None:\n",
    "        out010 = 0\n",
    "    if out011 == None:\n",
    "        out011 = 0\n",
    "        \n",
    "    if out100 == None:\n",
    "        out100 = 0\n",
    "    if out101 == None:\n",
    "        out101 = 0\n",
    "    if out110 == None:\n",
    "        out110 = 0\n",
    "    if out111 == None:\n",
    "        out111 = 0\n",
    "        \n",
    "    B,E = fidelities(out000, out001, out010, out011, out100, out101, out110, out111, bitval, shot_count)\n",
    "    \n",
    "    row_data = [job_num, angle, shot_count, out000, out001, out010, out011, out100, out101, out110, out111, B, E]\n",
    "        \n",
    "    return row_data"
   ]
  },
  {
   "cell_type": "markdown",
   "id": "1d8e8dc9-f841-4be1-971a-3d3ed9352c10",
   "metadata": {},
   "source": [
    "**Fidelities** A function that calculates the fidelities observed by Bob and Eve in an experiment."
   ]
  },
  {
   "cell_type": "code",
   "execution_count": 3,
   "id": "ef2fc64a-c2ca-4279-ad25-a1595e8bc93b",
   "metadata": {},
   "outputs": [],
   "source": [
    "def fidelities(out000, out001, out010, out011, out100, out101, out110, out111, bitval, shots):\n",
    "    '''\n",
    "    This function averages the fidelity of the clones and ancilla over experiment.\n",
    "\n",
    "    Parameters:\n",
    "    --------------\n",
    "    outijk -\n",
    "    bitval -\n",
    "    shots - Number of samples.\n",
    "\n",
    "    Returns:\n",
    "    --------------\n",
    "    bob_fidelity - Fidelity of copy sent to intended recipient (Bob).\n",
    "    eve_fidelity - Fidelity of copy kept by eavesdropper (Eve).\n",
    "    ancilla_fidelity - Fidelity of the ancilla.\n",
    "    \n",
    "    '''\n",
    "    \n",
    "    if bitval == 1:\n",
    "        bob_fidelity = (out001 + out011 + out101 + out111)/shots\n",
    "        eve_fidelity = (out010 + out011 + out110 + out111)/shots\n",
    "        #ancilla_fidelity = (out100 + out101 + out110 + out111)/shots\n",
    "        \n",
    "    if bitval == 0:\n",
    "        bob_fidelity = (out010 + out000 + out110 + out100)/shots\n",
    "        eve_fidelity = (out001 + out000 + out101 + out100)/shots\n",
    "        #ancilla_fidelity = (out000 + out001 + out010 + out011)/shots\n",
    "        \n",
    "    return bob_fidelity, eve_fidelity"
   ]
  },
  {
   "cell_type": "markdown",
   "id": "cdaef341-76f4-4ddd-a0fd-5c1affda4468",
   "metadata": {},
   "source": [
    "**Circuit Construction** Build the cloning circuit and make measurements."
   ]
  },
  {
   "cell_type": "code",
   "execution_count": 4,
   "id": "43403365-ca89-4f25-9b56-725b57e7eb80",
   "metadata": {},
   "outputs": [],
   "source": [
    "def get_circuit(angle, bitval, basis):\n",
    "    qc = QuantumCircuit(3,3)\n",
    "    \n",
    "    qc = qiskit_alice_prepares(qc, bitval, basis)\n",
    "    qc.barrier()\n",
    "    qc = qiskit_clone(qc, angle)\n",
    "    qc.barrier()\n",
    "    qc = qiskit_measurement_prep(qc, basis)\n",
    "    \n",
    "    qc.measure(0,0)\n",
    "    qc.measure(1,1)\n",
    "    qc.measure(2,2)\n",
    "    return qc"
   ]
  },
  {
   "cell_type": "markdown",
   "id": "c63a7559-f232-4e1c-ae51-31dd0f289402",
   "metadata": {},
   "source": [
    "**Experiment Submission** A function for submitting the experiment to the IonQ QPU."
   ]
  },
  {
   "cell_type": "code",
   "execution_count": 6,
   "id": "6c09e69e-ff9e-497e-99aa-96e15ce7ead6",
   "metadata": {},
   "outputs": [],
   "source": [
    "def experiment_qpu(angle, bitval, basis, shot_count):\n",
    "    qc = get_circuit(angle, bitval, basis)\n",
    "    \n",
    "    ionq_qpu = provider.get_backend(\"ionq_qpu\")\n",
    "    job = ionq_sim.run(qc, shots = shot_count)\n",
    "\n",
    "    job_data = [job.job_id(), angle, bitval, basis, shot_count]\n",
    "    \n",
    "    return job_data"
   ]
  },
  {
   "cell_type": "code",
   "execution_count": 7,
   "id": "115dc1cf-22fb-4c5c-b27a-a49171afc11e",
   "metadata": {},
   "outputs": [],
   "source": [
    "# select the number of sample points\n",
    "N = 100"
   ]
  },
  {
   "cell_type": "code",
   "execution_count": 9,
   "id": "5acf2c26-61ff-4b07-8141-3ab5f0480de7",
   "metadata": {},
   "outputs": [],
   "source": [
    "# We randomly (and uniformly) select angles from the interval [0, pi/4]. We sort the angles for convenience.\n",
    "Angles = np.random.uniform(0, np.pi/4, N)\n",
    "Angles = np.sort(Angles)"
   ]
  },
  {
   "cell_type": "markdown",
   "id": "9d3e7d63-ebbe-472e-aee0-0702603dd80e",
   "metadata": {},
   "source": [
    "**Description of Experiment** Rather than submit roughly 1000 shots at 20 linearly spaced angles, we obtain a better curve if we use 100 randomly selected angles and 100 shots per angle. We print the job numbers out so that we have a record of those available. We also save the data into a csv file so that we can recover them later."
   ]
  },
  {
   "cell_type": "code",
   "execution_count": 10,
   "id": "0df2195e-6a8e-465f-90f6-96a03dccd378",
   "metadata": {},
   "outputs": [
    {
     "name": "stdout",
     "output_type": "stream",
     "text": [
      "['719d0a4c-a2c3-48c4-a65c-0bf81523baec', 0.0025086827017239354, 0, 'X', 100]\n",
      "['4b63f0cc-8f9d-4df3-a7b9-9841817464f5', 0.02988780681441227, 0, 'X', 100]\n",
      "['18df9b75-2ade-4493-8b7a-7bc054b14365', 0.04087557745421404, 0, 'X', 100]\n",
      "['ce97501e-3830-4443-b96a-c8bba7431c14', 0.04359161598419652, 0, 'X', 100]\n",
      "['6db71dc0-36f0-4691-b7ed-89f0eab7f9ec', 0.05170389068467869, 0, 'X', 100]\n",
      "['edd0d4d2-f16f-4e79-ba0d-790c749e30b8', 0.06677203521254203, 0, 'X', 100]\n",
      "['bd08644d-4124-408c-835c-1533b29cc864', 0.08995731253084858, 0, 'X', 100]\n",
      "['7f2ea544-df9a-4c1b-88b1-bcafa2f29be5', 0.1008124602927869, 0, 'X', 100]\n",
      "['d6f4518d-0486-4be8-b9c4-78680314e5a8', 0.10540129271888089, 0, 'X', 100]\n",
      "['10d74cb0-fa6d-4e9b-995f-9e018dd34c0b', 0.11177437679363242, 0, 'X', 100]\n",
      "['ac830d5e-f164-4a61-904d-c9cb98957463', 0.11907242523540207, 0, 'X', 100]\n",
      "['4680e4d1-a8ef-4342-ba56-3b04c3a071c9', 0.12159610708179638, 0, 'X', 100]\n",
      "['a6f70b63-479c-4027-bae9-099ac95b512d', 0.1305977536729061, 0, 'X', 100]\n",
      "['1447319b-6fc9-4a17-b57a-dd3be3d498f0', 0.134800394607153, 0, 'X', 100]\n",
      "['85fe3cb7-8301-459e-baed-3bc41cbe8231', 0.13806800808527844, 0, 'X', 100]\n",
      "['c2883a0b-143d-4f9d-9dca-b9a5c09e5e7a', 0.16008767153236414, 0, 'X', 100]\n",
      "['96047c0e-4879-4a19-a7ba-54e37c96d756', 0.1866162287171219, 0, 'X', 100]\n",
      "['3194e2b7-f4ef-4b98-937a-95d67fdbd15a', 0.19445170893243754, 0, 'X', 100]\n",
      "['f240d653-ccf1-4a9e-b24d-0dd4434f499a', 0.21303405562824096, 0, 'X', 100]\n",
      "['d4340630-b571-40e3-adc3-5132828234ff', 0.21764147739657866, 0, 'X', 100]\n",
      "['2981fcdc-2810-4a9e-8a2a-3af324bcc181', 0.22031823726685207, 0, 'X', 100]\n",
      "['8c236950-bf2f-4d6f-ab31-552387e81b27', 0.2335218702626185, 0, 'X', 100]\n",
      "['caa51d20-364c-465a-a779-bd3613892c8e', 0.2449694876953496, 0, 'X', 100]\n",
      "['f274b976-6e94-4011-af78-da727876ef7a', 0.2493692421259888, 0, 'X', 100]\n",
      "['83b92428-213d-434d-95df-aa0f73678200', 0.25321781077127187, 0, 'X', 100]\n",
      "['e4be0a05-20b4-45ec-9690-12985c7a85dc', 0.2586331134262823, 0, 'X', 100]\n",
      "['cd9e5ee1-efc6-4a38-b0d8-4e33d03196bb', 0.27366973953321877, 0, 'X', 100]\n",
      "['c1da4b67-e97a-4a40-ae4c-244d7c145df2', 0.28416737942559744, 0, 'X', 100]\n",
      "['116f7d4a-894f-490a-8ca9-42ee7ee21c40', 0.2887089424367374, 0, 'X', 100]\n",
      "['c465abae-7dc7-4db9-b318-4201d7afaf4e', 0.30277771237242673, 0, 'X', 100]\n",
      "['efd2b768-f747-4257-81e2-be700d72faee', 0.30518341749338357, 0, 'X', 100]\n",
      "['b6c97433-d37d-4364-8330-8b0ce619ac64', 0.31105631672227785, 0, 'X', 100]\n",
      "['e28c094d-343a-492e-8b06-e3266976471f', 0.3381843685526448, 0, 'X', 100]\n",
      "['41bdb569-f475-42fd-aa47-22d999953107', 0.35348697183811045, 0, 'X', 100]\n",
      "['b59b5fe5-3b72-4d97-becf-fa5068cca1be', 0.35612612035038127, 0, 'X', 100]\n",
      "['bf4336fd-ed44-4252-8509-efdd7ba57072', 0.3571713611533946, 0, 'X', 100]\n",
      "['e55f8fd1-3e53-436b-9c46-eaf6c0c8daf5', 0.36048049848863856, 0, 'X', 100]\n",
      "['bc2beae5-109b-4ea7-a738-269b179f77a4', 0.37222221012620044, 0, 'X', 100]\n",
      "['636f1ae9-bdb5-48a2-a53a-7c9884d786ff', 0.3725983422683707, 0, 'X', 100]\n",
      "['62b364ed-3912-4f80-b546-f368b5b85e01', 0.38900388537533126, 0, 'X', 100]\n",
      "['1c65e761-9479-461e-b592-3ae32b01ebb1', 0.3899465230914862, 0, 'X', 100]\n",
      "['df09bac5-1abc-4ed1-ae73-35f62a75f6f4', 0.3967876834210388, 0, 'X', 100]\n",
      "['6669d113-1f2f-4387-b293-7813c5ef56d5', 0.4007434371701915, 0, 'X', 100]\n",
      "['ae54ffa8-949a-4394-9028-94a0845e90b9', 0.4136526355284731, 0, 'X', 100]\n",
      "['be2703e5-f4c7-4bad-a4fc-5080d337fa09', 0.42135946371211686, 0, 'X', 100]\n",
      "['ce8daf1d-7a85-4636-9808-2cfacff1d6c2', 0.43556532925347863, 0, 'X', 100]\n",
      "['438a87cf-8dd6-4940-b64b-e48167f37868', 0.4366597141423053, 0, 'X', 100]\n",
      "['18551a10-0c61-4a7e-a063-7e24cb4db096', 0.45999561773546105, 0, 'X', 100]\n",
      "['3a082860-87e8-4210-9d60-d084fc1358dd', 0.4605125731547627, 0, 'X', 100]\n",
      "['861ee6a4-9539-458f-8d36-9a515fadc7c3', 0.4667894286223787, 0, 'X', 100]\n",
      "['03522596-0ee6-48a4-aae7-5b08843469bd', 0.4753604211915592, 0, 'X', 100]\n",
      "['379eceac-4cd5-4008-be0f-b34f53890576', 0.47648808081783595, 0, 'X', 100]\n",
      "['dfe3754f-f9d5-4e3a-ab29-d1319281d99c', 0.48305619408155237, 0, 'X', 100]\n",
      "['d76f1853-4e4c-4544-8e64-2a5088b0cefd', 0.49015693914141617, 0, 'X', 100]\n",
      "['0475b8d6-9338-44b1-a4c3-9725b9be56ac', 0.5005433129424707, 0, 'X', 100]\n",
      "['14d200cc-3711-4477-bc08-a4f17c423445', 0.5077917957894988, 0, 'X', 100]\n",
      "['b19f61bf-dfba-4a28-899c-283f0661ccbe', 0.508263315123431, 0, 'X', 100]\n",
      "['8ae8397a-774d-42dd-abdd-3d279b0256bd', 0.5149467439211605, 0, 'X', 100]\n",
      "['685a2d12-f0bb-47e4-93cd-3caaf00e4a4a', 0.5182624782923599, 0, 'X', 100]\n",
      "['b1ad0fc0-3d91-4ded-a316-8e7c5b595bbc', 0.522091566523752, 0, 'X', 100]\n",
      "['72cce1ea-445d-442e-a393-477272c04d22', 0.5310275284439897, 0, 'X', 100]\n",
      "['af127a27-d3b1-42a0-9a7b-1fa0db3bcfa0', 0.5357514572829459, 0, 'X', 100]\n",
      "['30f357bd-6cbc-474c-b0c1-947efb715e48', 0.5378316139602365, 0, 'X', 100]\n",
      "['c870b86a-af30-44a1-ab5e-f662f3cfff6f', 0.5429471594623699, 0, 'X', 100]\n",
      "['e3c71209-2f02-4deb-bec8-6d1b910903c5', 0.5493229037394206, 0, 'X', 100]\n",
      "['7a957e66-2247-44c8-b958-4fd2aa0b2e7a', 0.5505395030866224, 0, 'X', 100]\n",
      "['04f679df-bafe-4937-bd90-3ab245a13930', 0.5511052853751328, 0, 'X', 100]\n",
      "['0ed2e282-05ea-4ffa-a2f2-bbc747e7f3fa', 0.5577270819919186, 0, 'X', 100]\n",
      "['0cb3f375-5d0b-42cc-8953-001fd352cf7f', 0.5620053398183991, 0, 'X', 100]\n",
      "['6d81022b-436f-4d1f-8800-5fe6ba47b320', 0.563427085996243, 0, 'X', 100]\n",
      "['57e3ac95-e42f-4010-bd39-1f215d4900c8', 0.5686038319577383, 0, 'X', 100]\n",
      "['f6742cff-a21b-4783-b3b0-3400363766d3', 0.5817781602791, 0, 'X', 100]\n",
      "['7fe88fd8-fdc5-4b37-b247-b4b5ceb14ba1', 0.5915815344889106, 0, 'X', 100]\n",
      "['3ad4436c-fd37-408d-af26-b5df56848b63', 0.5938729544746368, 0, 'X', 100]\n",
      "['4915b638-d9b5-4def-93ee-c1cfa1822cde', 0.5950922873811966, 0, 'X', 100]\n",
      "['f08a67e4-1ecb-4ea3-8b8d-5a23e00e0a5f', 0.5977967406348362, 0, 'X', 100]\n",
      "['fabd9770-8f94-47d0-828c-e0583346a8f5', 0.6016076091519102, 0, 'X', 100]\n",
      "['c8d47426-1e88-4da7-ac43-ad18a8e46af5', 0.6343488089594078, 0, 'X', 100]\n",
      "['a96e40d1-04a2-439a-b012-f96c19711260', 0.6383641230334531, 0, 'X', 100]\n",
      "['491bd3ee-cb62-4928-945c-53a7a0a3d69a', 0.6411900348466183, 0, 'X', 100]\n",
      "['40e9ccba-1848-4d46-aca0-a61ee9d690a9', 0.6480044522022111, 0, 'X', 100]\n",
      "['0d0256c0-a3b8-417d-9e9c-06a98fecbeff', 0.6506325722624756, 0, 'X', 100]\n",
      "['d16ae8be-dbbf-473a-8e7c-4691678ec6a6', 0.6571967603756226, 0, 'X', 100]\n",
      "['a8af94fd-5130-46a0-8bbe-922550738592', 0.6679252635967977, 0, 'X', 100]\n",
      "['87bc5fb0-feb8-430b-bc19-235c20ec721b', 0.691158244711295, 0, 'X', 100]\n",
      "['181691c8-90cc-4b05-9554-9707846c8c40', 0.6940618720110111, 0, 'X', 100]\n",
      "['5c1cd611-a80c-48c4-ac48-f64e82480232', 0.6976957755056226, 0, 'X', 100]\n",
      "['93e28939-471a-4056-8444-c6595cd35717', 0.7093347609742133, 0, 'X', 100]\n",
      "['939a5e91-148c-452f-9c57-3db330fe2151', 0.7271402357251648, 0, 'X', 100]\n",
      "['d87c8670-f7c7-4b53-a165-555c871cbe65', 0.7385226676095343, 0, 'X', 100]\n",
      "['ad3c7863-67b2-4b0b-9bfc-a94d57af8a98', 0.7418224127229136, 0, 'X', 100]\n",
      "['f9a225e5-f38e-49c2-bd22-5051de16d8cc', 0.7427065705190996, 0, 'X', 100]\n",
      "['668472a9-ec7f-4ae9-bdb5-03e69c9c9a1f', 0.7498798297195028, 0, 'X', 100]\n",
      "['867833a9-13fd-4096-ad5e-1f1e15c8dc83', 0.7516783983584723, 0, 'X', 100]\n",
      "['b27efbfc-6d6d-4fba-af27-73d4cf4b109c', 0.762101707967302, 0, 'X', 100]\n",
      "['d16b10c2-4a94-4ee3-b132-43beb55b8582', 0.7690091783375645, 0, 'X', 100]\n",
      "['39094156-6592-4b5e-82c7-0d5e150e4d7a', 0.7789227612625751, 0, 'X', 100]\n",
      "['b8024115-f0ef-43c7-8f73-2e8760b92e8c', 0.7803542058438339, 0, 'X', 100]\n",
      "['3f81416f-55c6-4c59-8750-762bc440d3e3', 0.7821585680791732, 0, 'X', 100]\n",
      "['a9c2c6ae-3420-4770-9d07-49c4843a08a6', 0.7845480750628548, 0, 'X', 100]\n"
     ]
    }
   ],
   "source": [
    "header = ['Job Number', 'Angle', 'Bit Value', 'Basis', 'Total Shots']\n",
    "\n",
    "with open('QPU_Experiment_Qiskit_May_26_2023_2.csv', 'w', encoding = 'UTF8') as f:\n",
    "    writer = csv.writer(f)\n",
    "    writer.writerow(header)\n",
    "    \n",
    "    for j in range(N):\n",
    "        job_data = experiment_qpu(Angles[j], 0, 'X', 100)\n",
    "        writer.writerow(job_data)\n",
    "        print(job_data)\n",
    "        \n",
    "    f.close()  "
   ]
  },
  {
   "cell_type": "code",
   "execution_count": 12,
   "id": "702deb7d-fdf5-4c3d-aa3a-3caad0362270",
   "metadata": {},
   "outputs": [],
   "source": [
    "Jobs_Data = pd.read_csv('QPU_Experiment_Qiskit_May_26_2023_2.csv')\n",
    "JobNumbers = Jobs_Data.iloc[:, 0]"
   ]
  },
  {
   "cell_type": "markdown",
   "id": "6e229b72-fe5c-455a-9f8e-4491b7610666",
   "metadata": {},
   "source": [
    "**Data Retrieval** We now begin the process of retrieving data from IonQ and populating the csv file that we've built."
   ]
  },
  {
   "cell_type": "code",
   "execution_count": 13,
   "id": "86804aa7-8fa2-4a65-97f9-07cdc719c83b",
   "metadata": {},
   "outputs": [],
   "source": [
    "header = ['Job Number', 'Angle','Total Shots', '000', '001', '010', '011', '100', '101', '110', '111', 'Bobs Fidelity', 'Eves Fidelity']\n",
    "\n",
    "with open('QPU_Experiment_Qiskit_May_26_2023_2.csv', 'w', encoding = 'UTF8') as f:\n",
    "    writer = csv.writer(f)\n",
    "    writer.writerow(header)\n",
    "\n",
    "    for j in range(len(JobNumbers)):\n",
    "        row_data = retrieve_data(JobNumbers[j], Angles[j], 0, 100)\n",
    "        writer.writerow(row_data)\n",
    "\n",
    "    f.close()"
   ]
  },
  {
   "cell_type": "code",
   "execution_count": 14,
   "id": "1ce63284-e93c-497a-96fd-219c83360f07",
   "metadata": {},
   "outputs": [
    {
     "data": {
      "text/html": [
       "<div>\n",
       "<style scoped>\n",
       "    .dataframe tbody tr th:only-of-type {\n",
       "        vertical-align: middle;\n",
       "    }\n",
       "\n",
       "    .dataframe tbody tr th {\n",
       "        vertical-align: top;\n",
       "    }\n",
       "\n",
       "    .dataframe thead th {\n",
       "        text-align: right;\n",
       "    }\n",
       "</style>\n",
       "<table border=\"1\" class=\"dataframe\">\n",
       "  <thead>\n",
       "    <tr style=\"text-align: right;\">\n",
       "      <th></th>\n",
       "      <th>Job Number</th>\n",
       "      <th>Angle</th>\n",
       "      <th>Total Shots</th>\n",
       "      <th>000</th>\n",
       "      <th>001</th>\n",
       "      <th>010</th>\n",
       "      <th>011</th>\n",
       "      <th>100</th>\n",
       "      <th>101</th>\n",
       "      <th>110</th>\n",
       "      <th>111</th>\n",
       "      <th>Bobs Fidelity</th>\n",
       "      <th>Eves Fidelity</th>\n",
       "    </tr>\n",
       "  </thead>\n",
       "  <tbody>\n",
       "    <tr>\n",
       "      <th>0</th>\n",
       "      <td>719d0a4c-a2c3-48c4-a65c-0bf81523baec</td>\n",
       "      <td>0.002509</td>\n",
       "      <td>100</td>\n",
       "      <td>50</td>\n",
       "      <td>0</td>\n",
       "      <td>0</td>\n",
       "      <td>0</td>\n",
       "      <td>0</td>\n",
       "      <td>50</td>\n",
       "      <td>0</td>\n",
       "      <td>0</td>\n",
       "      <td>0.50</td>\n",
       "      <td>1.00</td>\n",
       "    </tr>\n",
       "    <tr>\n",
       "      <th>1</th>\n",
       "      <td>4b63f0cc-8f9d-4df3-a7b9-9841817464f5</td>\n",
       "      <td>0.029888</td>\n",
       "      <td>100</td>\n",
       "      <td>53</td>\n",
       "      <td>0</td>\n",
       "      <td>0</td>\n",
       "      <td>0</td>\n",
       "      <td>0</td>\n",
       "      <td>47</td>\n",
       "      <td>0</td>\n",
       "      <td>0</td>\n",
       "      <td>0.53</td>\n",
       "      <td>1.00</td>\n",
       "    </tr>\n",
       "    <tr>\n",
       "      <th>2</th>\n",
       "      <td>18df9b75-2ade-4493-8b7a-7bc054b14365</td>\n",
       "      <td>0.040876</td>\n",
       "      <td>100</td>\n",
       "      <td>54</td>\n",
       "      <td>0</td>\n",
       "      <td>0</td>\n",
       "      <td>0</td>\n",
       "      <td>0</td>\n",
       "      <td>46</td>\n",
       "      <td>0</td>\n",
       "      <td>0</td>\n",
       "      <td>0.54</td>\n",
       "      <td>1.00</td>\n",
       "    </tr>\n",
       "    <tr>\n",
       "      <th>3</th>\n",
       "      <td>ce97501e-3830-4443-b96a-c8bba7431c14</td>\n",
       "      <td>0.043592</td>\n",
       "      <td>100</td>\n",
       "      <td>54</td>\n",
       "      <td>0</td>\n",
       "      <td>0</td>\n",
       "      <td>0</td>\n",
       "      <td>0</td>\n",
       "      <td>46</td>\n",
       "      <td>0</td>\n",
       "      <td>0</td>\n",
       "      <td>0.54</td>\n",
       "      <td>1.00</td>\n",
       "    </tr>\n",
       "    <tr>\n",
       "      <th>4</th>\n",
       "      <td>6db71dc0-36f0-4691-b7ed-89f0eab7f9ec</td>\n",
       "      <td>0.051704</td>\n",
       "      <td>100</td>\n",
       "      <td>55</td>\n",
       "      <td>0</td>\n",
       "      <td>0</td>\n",
       "      <td>0</td>\n",
       "      <td>0</td>\n",
       "      <td>45</td>\n",
       "      <td>0</td>\n",
       "      <td>0</td>\n",
       "      <td>0.55</td>\n",
       "      <td>1.00</td>\n",
       "    </tr>\n",
       "    <tr>\n",
       "      <th>...</th>\n",
       "      <td>...</td>\n",
       "      <td>...</td>\n",
       "      <td>...</td>\n",
       "      <td>...</td>\n",
       "      <td>...</td>\n",
       "      <td>...</td>\n",
       "      <td>...</td>\n",
       "      <td>...</td>\n",
       "      <td>...</td>\n",
       "      <td>...</td>\n",
       "      <td>...</td>\n",
       "      <td>...</td>\n",
       "      <td>...</td>\n",
       "    </tr>\n",
       "    <tr>\n",
       "      <th>95</th>\n",
       "      <td>d16b10c2-4a94-4ee3-b132-43beb55b8582</td>\n",
       "      <td>0.769009</td>\n",
       "      <td>100</td>\n",
       "      <td>52</td>\n",
       "      <td>0</td>\n",
       "      <td>0</td>\n",
       "      <td>0</td>\n",
       "      <td>0</td>\n",
       "      <td>0</td>\n",
       "      <td>48</td>\n",
       "      <td>0</td>\n",
       "      <td>1.00</td>\n",
       "      <td>0.52</td>\n",
       "    </tr>\n",
       "    <tr>\n",
       "      <th>96</th>\n",
       "      <td>39094156-6592-4b5e-82c7-0d5e150e4d7a</td>\n",
       "      <td>0.778923</td>\n",
       "      <td>100</td>\n",
       "      <td>51</td>\n",
       "      <td>0</td>\n",
       "      <td>0</td>\n",
       "      <td>0</td>\n",
       "      <td>0</td>\n",
       "      <td>0</td>\n",
       "      <td>49</td>\n",
       "      <td>0</td>\n",
       "      <td>1.00</td>\n",
       "      <td>0.51</td>\n",
       "    </tr>\n",
       "    <tr>\n",
       "      <th>97</th>\n",
       "      <td>b8024115-f0ef-43c7-8f73-2e8760b92e8c</td>\n",
       "      <td>0.780354</td>\n",
       "      <td>100</td>\n",
       "      <td>51</td>\n",
       "      <td>0</td>\n",
       "      <td>0</td>\n",
       "      <td>0</td>\n",
       "      <td>0</td>\n",
       "      <td>0</td>\n",
       "      <td>49</td>\n",
       "      <td>0</td>\n",
       "      <td>1.00</td>\n",
       "      <td>0.51</td>\n",
       "    </tr>\n",
       "    <tr>\n",
       "      <th>98</th>\n",
       "      <td>3f81416f-55c6-4c59-8750-762bc440d3e3</td>\n",
       "      <td>0.782159</td>\n",
       "      <td>100</td>\n",
       "      <td>50</td>\n",
       "      <td>0</td>\n",
       "      <td>0</td>\n",
       "      <td>0</td>\n",
       "      <td>0</td>\n",
       "      <td>0</td>\n",
       "      <td>50</td>\n",
       "      <td>0</td>\n",
       "      <td>1.00</td>\n",
       "      <td>0.50</td>\n",
       "    </tr>\n",
       "    <tr>\n",
       "      <th>99</th>\n",
       "      <td>a9c2c6ae-3420-4770-9d07-49c4843a08a6</td>\n",
       "      <td>0.784548</td>\n",
       "      <td>100</td>\n",
       "      <td>50</td>\n",
       "      <td>0</td>\n",
       "      <td>0</td>\n",
       "      <td>0</td>\n",
       "      <td>0</td>\n",
       "      <td>0</td>\n",
       "      <td>50</td>\n",
       "      <td>0</td>\n",
       "      <td>1.00</td>\n",
       "      <td>0.50</td>\n",
       "    </tr>\n",
       "  </tbody>\n",
       "</table>\n",
       "<p>100 rows × 13 columns</p>\n",
       "</div>"
      ],
      "text/plain": [
       "                              Job Number     Angle  Total Shots  000  001  \\\n",
       "0   719d0a4c-a2c3-48c4-a65c-0bf81523baec  0.002509          100   50    0   \n",
       "1   4b63f0cc-8f9d-4df3-a7b9-9841817464f5  0.029888          100   53    0   \n",
       "2   18df9b75-2ade-4493-8b7a-7bc054b14365  0.040876          100   54    0   \n",
       "3   ce97501e-3830-4443-b96a-c8bba7431c14  0.043592          100   54    0   \n",
       "4   6db71dc0-36f0-4691-b7ed-89f0eab7f9ec  0.051704          100   55    0   \n",
       "..                                   ...       ...          ...  ...  ...   \n",
       "95  d16b10c2-4a94-4ee3-b132-43beb55b8582  0.769009          100   52    0   \n",
       "96  39094156-6592-4b5e-82c7-0d5e150e4d7a  0.778923          100   51    0   \n",
       "97  b8024115-f0ef-43c7-8f73-2e8760b92e8c  0.780354          100   51    0   \n",
       "98  3f81416f-55c6-4c59-8750-762bc440d3e3  0.782159          100   50    0   \n",
       "99  a9c2c6ae-3420-4770-9d07-49c4843a08a6  0.784548          100   50    0   \n",
       "\n",
       "    010  011  100  101  110  111  Bobs Fidelity  Eves Fidelity  \n",
       "0     0    0    0   50    0    0           0.50           1.00  \n",
       "1     0    0    0   47    0    0           0.53           1.00  \n",
       "2     0    0    0   46    0    0           0.54           1.00  \n",
       "3     0    0    0   46    0    0           0.54           1.00  \n",
       "4     0    0    0   45    0    0           0.55           1.00  \n",
       "..  ...  ...  ...  ...  ...  ...            ...            ...  \n",
       "95    0    0    0    0   48    0           1.00           0.52  \n",
       "96    0    0    0    0   49    0           1.00           0.51  \n",
       "97    0    0    0    0   49    0           1.00           0.51  \n",
       "98    0    0    0    0   50    0           1.00           0.50  \n",
       "99    0    0    0    0   50    0           1.00           0.50  \n",
       "\n",
       "[100 rows x 13 columns]"
      ]
     },
     "execution_count": 14,
     "metadata": {},
     "output_type": "execute_result"
    }
   ],
   "source": [
    "Completed_Job_Data = pd.read_csv('QPU_Experiment_Qiskit_May_26_2023_2.csv')\n",
    "Completed_Job_Data"
   ]
  },
  {
   "cell_type": "code",
   "execution_count": 15,
   "id": "5af96fd7-b244-4d35-b664-e6476c2ebaca",
   "metadata": {},
   "outputs": [],
   "source": [
    "JobAngles = Completed_Job_Data.iloc[:, 1]\n",
    "BobFidelity = Completed_Job_Data.iloc[:, 11]\n",
    "EveFidelity = Completed_Job_Data.iloc[:, 12]"
   ]
  },
  {
   "cell_type": "code",
   "execution_count": 16,
   "id": "5da8d37c-f4ce-4c95-a030-e1def5bd1c35",
   "metadata": {},
   "outputs": [],
   "source": [
    "JobAngles = np.array(JobAngles)\n",
    "BobFidelity = np.array(BobFidelity)\n",
    "EveFidelity = np.array(EveFidelity)"
   ]
  },
  {
   "cell_type": "code",
   "execution_count": 17,
   "id": "e9933d4e-8c3d-4fb9-b3ea-ce9d8efadc8d",
   "metadata": {},
   "outputs": [
    {
     "data": {
      "image/png": "[encoded data removed]",
      "text/plain": [
       "<Figure size 432x288 with 1 Axes>"
      ]
     },
     "metadata": {
      "needs_background": "light"
     },
     "output_type": "display_data"
    }
   ],
   "source": [
    "plt.figure()\n",
    "plt.scatter(JobAngles, BobFidelity)\n",
    "plt.scatter(JobAngles, EveFidelity)\n",
    "plt.show()"
   ]
  },
  {
   "cell_type": "code",
   "execution_count": 18,
   "id": "9668dee1-d139-4f23-be4f-750f707b4390",
   "metadata": {},
   "outputs": [],
   "source": [
    "Model_Bob = np.poly1d(np.polyfit(JobAngles, BobFidelity, 3))\n",
    "Model_Eve = np.poly1d(np.polyfit(JobAngles, EveFidelity, 3))\n",
    "Thetas = np.linspace(0, np.pi/4, 100)\n",
    "Model_Bob_Curve = Model_Bob(Thetas)\n",
    "Model_Eve_Curve = Model_Eve(Thetas)"
   ]
  },
  {
   "cell_type": "code",
   "execution_count": 19,
   "id": "ba70b032-4c01-42fc-ba48-bef578a5bef1",
   "metadata": {},
   "outputs": [
    {
     "data": {
      "image/png": "[encoded data removed]",
      "text/plain": [
       "<Figure size 432x288 with 1 Axes>"
      ]
     },
     "metadata": {
      "needs_background": "light"
     },
     "output_type": "display_data"
    }
   ],
   "source": [
    "plt.figure()\n",
    "plt.plot(Thetas, Model_Bob_Curve)\n",
    "plt.plot(Thetas, Model_Eve_Curve)\n",
    "plt.show()"
   ]
  },
  {
   "cell_type": "markdown",
   "id": "6ffaf88b-4cb3-49db-8ace-94f7ceae7256",
   "metadata": {},
   "source": [
    "**Information** The information is measured using the binary entropy. There's a nice description of how all this works in the book of Gilles van Assche."
   ]
  },
  {
   "cell_type": "code",
   "execution_count": 20,
   "id": "f521790c-12b8-4549-aeed-b4c179c2ba26",
   "metadata": {},
   "outputs": [],
   "source": [
    "Q = np.ones(N)\n",
    "Q = Q - BobFidelity"
   ]
  },
  {
   "cell_type": "code",
   "execution_count": 21,
   "id": "e68b626b-f144-49fb-b2ec-c9b165003caf",
   "metadata": {},
   "outputs": [],
   "source": [
    "def binary_entropy(t):\n",
    "    if t == 0 or t == 1:\n",
    "        return 0\n",
    "    else:\n",
    "        return -t * np.log2(t) - (1-t) * np.log2(1-t)"
   ]
  },
  {
   "cell_type": "markdown",
   "id": "19513838-d989-4f7a-917c-bd097c896970",
   "metadata": {},
   "source": [
    "**Mutual Information between Alice and Bob**"
   ]
  },
  {
   "cell_type": "code",
   "execution_count": 22,
   "id": "6dad9228-30a0-4e7c-a69a-4d072683fcc3",
   "metadata": {},
   "outputs": [],
   "source": [
    "def Info_AB(Q):\n",
    "    return 1 - binary_entropy(Q)"
   ]
  },
  {
   "cell_type": "markdown",
   "id": "be8c8cdd-70de-4828-8614-81c6e5e2742a",
   "metadata": {},
   "source": [
    "**Mutual Information between Alice and Eve**"
   ]
  },
  {
   "cell_type": "code",
   "execution_count": 23,
   "id": "96876f3b-d6cb-4fb9-93f4-212fe264082a",
   "metadata": {},
   "outputs": [],
   "source": [
    "def Info_AE(Q):\n",
    "    return 1 - binary_entropy(0.5 - np.sqrt(Q * (1-Q)))"
   ]
  },
  {
   "cell_type": "code",
   "execution_count": 26,
   "id": "9326fadd-b151-4742-aec2-add8f6510fd1",
   "metadata": {},
   "outputs": [],
   "source": [
    "IAB_exp = np.zeros(N)\n",
    "IAE_exp = np.zeros(N)\n",
    "for j in range(N):\n",
    "    IAB_exp[j] = Info_AB(Q[j])\n",
    "    IAE_exp[j] = Info_AE(Q[j])"
   ]
  },
  {
   "cell_type": "code",
   "execution_count": 27,
   "id": "cebedc67-0a7c-41f3-9b1f-2426911e1205",
   "metadata": {},
   "outputs": [
    {
     "data": {
      "image/png": "[encoded data removed]",
      "text/plain": [
       "<Figure size 1080x576 with 1 Axes>"
      ]
     },
     "metadata": {
      "needs_background": "light"
     },
     "output_type": "display_data"
    }
   ],
   "source": [
    "plt.figure(figsize=(15,8))\n",
    "plt.rcParams.update({'font.size': 12})\n",
    "plt.scatter(JobAngles, IAB_exp, label = \"I(X;Y) (Experimental)\",color='blue')\n",
    "plt.scatter(JobAngles, IAE_exp, label = \"I(X;Z) (Experimental)\",color='red')\n",
    "#plt.yticks(np.arange(0,1.1, step = .1))\n",
    "#plt.xticks(np.arange(-np.pi/2, 5*np.pi/8, step = np.pi/8))\n",
    "plt.legend(title=\"Mutual Information\")\n",
    "\n",
    "plt.xlabel('theta_2')\n",
    "plt.show()"
   ]
  },
  {
   "cell_type": "markdown",
   "id": "1d6e5310-2384-4c74-a989-9f80f51845d2",
   "metadata": {},
   "source": [
    "In the figure above of mutual information, $X$ is the random variable for Alice, $Y$ is the random variable for Bob, and $Z$ is the random variable corresponding to Eve. This means that $I(X;Y)$ is the mutual information between Alice and Bob and $I(X;Z)$ is the information between Alice and Eve. That is, $I(X;Z)$ measures the amount of information that Eve obtains during the eavesdropping process. From a security perspective, Alice and Bob need to have more information than that which is shared with Eve in order to be able to distill a secrret key."
   ]
  },
  {
   "cell_type": "code",
   "execution_count": 47,
   "id": "9f8884b6-e086-48f8-922b-aa24828b10f0",
   "metadata": {},
   "outputs": [],
   "source": [
    "Model_IAB = np.poly1d(np.polyfit(Angles, IAB_exp, 7))\n",
    "Model_IAE = np.poly1d(np.polyfit(Angles, IAE_exp, 7))\n",
    "Thetas = np.linspace(0, np.pi/4, 200)\n",
    "Model_IAB_curve = Model_IAB(Thetas)\n",
    "Model_IAE_curve = Model_IAE(Thetas)"
   ]
  },
  {
   "cell_type": "code",
   "execution_count": 48,
   "id": "0964258d-ae6d-4310-9f56-ad39cc432b5e",
   "metadata": {},
   "outputs": [
    {
     "data": {
      "image/png": "[encoded data removed]",
      "text/plain": [
       "<Figure size 1080x576 with 1 Axes>"
      ]
     },
     "metadata": {
      "needs_background": "light"
     },
     "output_type": "display_data"
    }
   ],
   "source": [
    "plt.figure(figsize=(15,8))\n",
    "plt.rcParams.update({'font.size': 12})\n",
    "plt.scatter(JobAngles, IAB_exp, label = \"I(X;Y) (Experimental)\",color='blue')\n",
    "plt.scatter(JobAngles, IAE_exp, label = \"I(X;Z) (Experimental)\",color='red')\n",
    "plt.plot(Thetas, Model_IAB_curve, color = 'blue')\n",
    "plt.plot(Thetas, Model_IAE_curve, color = 'red')\n",
    "#plt.yticks(np.arange(0,1.1, step = .1))\n",
    "#plt.xticks(np.arange(-np.pi/2, 5*np.pi/8, step = np.pi/8))\n",
    "plt.legend(title=\"Mutual Information\")\n",
    "\n",
    "plt.xlabel('theta_2')\n",
    "plt.show()"
   ]
  },
  {
   "cell_type": "markdown",
   "id": "65b9d8ac-5493-423b-af48-1d369bd3c348",
   "metadata": {},
   "source": [
    "**The error rate** We find that the the mutual information shared by Alice and Bob is higher than the mutual information between Alice and Eve if the angle is taken to the right of the intersection of the curves in the diagram above. We can find the intersection of the curves and then compute Bob's theoretical fidelity at this angle to obtain an error rate that Alice and Bob must attain to be able to distill a secure key."
   ]
  },
  {
   "cell_type": "code",
   "execution_count": 51,
   "id": "23ba1297-9d92-4333-a3ed-1298c0ad3fd9",
   "metadata": {},
   "outputs": [],
   "source": [
    "# Error rate\n",
    "def error_rate_theory(theta):\n",
    "    return 0.5 - 0.5*np.sin(2 * theta)"
   ]
  },
  {
   "cell_type": "code",
   "execution_count": 50,
   "id": "b6553e6b-45a6-41f6-8729-f53d5bf42173",
   "metadata": {},
   "outputs": [
    {
     "name": "stdout",
     "output_type": "stream",
     "text": [
      "theta2 = (0.39016877892704205+0j)\n",
      "error rate = (0.14824032321175495+0j)\n"
     ]
    }
   ],
   "source": [
    "ModelDiff = Model_IAB - Model_IAE\n",
    "Roots = np.roots(ModelDiff)\n",
    "RealRoots = Roots[~np.iscomplex(Roots)]\n",
    "for j in range(len(RealRoots)):\n",
    "    if RealRoots[j] >= 0 and RealRoots[j] <= np.pi/4:\n",
    "        print('theta2 =', RealRoots[j])\n",
    "        print('error rate =', error_rate_theory(RealRoots[j]))"
   ]
  },
  {
   "cell_type": "markdown",
   "id": "fa295aa8-f362-4c4e-b57c-63ff6d10b546",
   "metadata": {},
   "source": [
    "**Secret Key Distillation Rate** There is a link between the secret key distillation rate and the error rate here that is described in van Assche's book."
   ]
  },
  {
   "cell_type": "code",
   "execution_count": null,
   "id": "358984ae-507c-4b80-92f0-c714aafa6103",
   "metadata": {},
   "outputs": [],
   "source": []
  }
 ],
 "metadata": {
  "kernelspec": {
   "display_name": "Python 3 (ipykernel)",
   "language": "python",
   "name": "python3"
  },
  "language_info": {
   "codemirror_mode": {
    "name": "ipython",
    "version": 3
   },
   "file_extension": ".py",
   "mimetype": "text/x-python",
   "name": "python",
   "nbconvert_exporter": "python",
   "pygments_lexer": "ipython3",
   "version": "3.8.12"
  }
 },
 "nbformat": 4,
 "nbformat_minor": 5
}
