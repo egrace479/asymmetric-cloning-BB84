{
 "cells": [
  {
   "cell_type": "code",
   "execution_count": null,
   "id": "0e97544b-69ab-4959-aed1-aa1f93f8c50f",
   "metadata": {},
   "outputs": [],
   "source": []
  },
  {
   "cell_type": "code",
   "execution_count": 1,
   "id": "2d7a01e3-3b52-4ee4-a4ef-b8e01e796f41",
   "metadata": {},
   "outputs": [],
   "source": [
    "import numpy as np\n",
    "import matplotlib.pyplot as plt\n",
    "import csv\n",
    "import pandas as pd\n",
    "\n",
    "# from qiskit import *\n",
    "# Importing standard Qiskit libraries\n",
    "from qiskit import QuantumCircuit, QuantumRegister, ClassicalRegister\n",
    "from qiskit import IBMQ, Aer, execute, assemble, transpile\n",
    "from qiskit.visualization import plot_histogram, plot_bloch_vector\n",
    "from qiskit.visualization import plot_state_qsphere, plot_state_city, plot_bloch_multivector\n",
    "from qiskit.visualization import array_to_latex\n",
    "import qiskit.quantum_info as qi\n",
    "# from qiskit_ibm_runtime import QiskitRuntimeService\n",
    "\n",
    "from qiskit_ionq import IonQProvider\n",
    "# import gates\n",
    "from qiskit_ionq import GPIGate, GPI2Gate, MSGate\n",
    "from qiskit import Aer, execute, assemble\n",
    "from qiskit.providers.jobstatus import JobStatus\n",
    "import time\n",
    "\n",
    "from pipeline.qiskit_circuit_constructor import qiskit_alice_prepares, qiskit_measurement_prep, qiskit_clone, construct_qiskit_circuit\n",
    "from pipeline.ionq_circuit_constructor import ionq_alice_prepares\n",
    "from pipeline.ionq_circuit_constructor import ionq_measurement_prep\n",
    "from pipeline.ionq_circuit_constructor import ionq_clone\n",
    "from pipeline.ionq_circuit_constructor import construct_ionq_circuit\n",
    "#from pipeline.run_experiments import fidelities\n",
    "#from pipeline.run_experiments import get_circuit\n",
    "#from pipeline.run_experiments import run_experiment_ionq\n",
    "#from pipeline.run_experiments import run_simulation\n",
    "\n",
    "provider = IonQProvider(\"2BCQ6XP8m8wN0BPl3KawTCsAwYEBn73F\")\n",
    "#native_simulator = provider.get_backend(\"ionq_simulator\", gateset=\"native\")\n",
    "native_qpu = provider.get_backend(\"ionq_qpu\", gateset=\"native\")\n",
    "\n",
    "#ionq_sim = provider.get_backend(\"ionq_simulator\")\n",
    "#ionq_qpu = provider.get_backend(\"ionq_qpu\")"
   ]
  },
  {
   "cell_type": "code",
   "execution_count": 2,
   "id": "e7582798-4de2-4e34-8642-9e799c01559c",
   "metadata": {},
   "outputs": [],
   "source": [
    "# Selection of Experiment Parameters\n",
    "N = 100 # number of randomly selected angles from 0 to pi/4\n",
    "shots = 100 # number of shots for each input angle\n",
    "basis = 'X'\n",
    "bitval = 0\n",
    "filename = 'Experiment_July16_2023_Native_QPU_FullSize_Xbasis_bit0.csv'\n"
   ]
  },
  {
   "cell_type": "code",
   "execution_count": 3,
   "id": "48d6d8d1-fa94-4f2e-a07a-689dae4298f2",
   "metadata": {},
   "outputs": [],
   "source": [
    "def retrieve_data(job_num, angle, bitval, shot_count):\n",
    "    ionq = provider.get_backend(\"ionq_qpu\")\n",
    "    retrieved = ionq.retrieve_job(job_num) \n",
    "    counts = retrieved.result().get_counts()\n",
    "    \n",
    "    out000 = retrieved.result().get_counts().get(\"000\")\n",
    "    out001 = retrieved.result().get_counts().get(\"001\")\n",
    "    out010 = retrieved.result().get_counts().get(\"010\")\n",
    "    out011 = retrieved.result().get_counts().get(\"011\")\n",
    "    out100 = retrieved.result().get_counts().get(\"100\")\n",
    "    out101 = retrieved.result().get_counts().get(\"101\")\n",
    "    out110 = retrieved.result().get_counts().get(\"110\")\n",
    "    out111 = retrieved.result().get_counts().get(\"111\")\n",
    "    \n",
    "    if out000 == None:\n",
    "        out000 = 0\n",
    "    if out001 == None:\n",
    "        out001 = 0\n",
    "    if out010 == None:\n",
    "        out010 = 0\n",
    "    if out011 == None:\n",
    "        out011 = 0\n",
    "        \n",
    "    if out100 == None:\n",
    "        out100 = 0\n",
    "    if out101 == None:\n",
    "        out101 = 0\n",
    "    if out110 == None:\n",
    "        out110 = 0\n",
    "    if out111 == None:\n",
    "        out111 = 0\n",
    "        \n",
    "    B,E = fidelities(out000, out001, out010, out011, out100, out101, out110, out111, bitval, shot_count)\n",
    "    \n",
    "    row_data = [job_num, angle, shot_count, out000, out001, out010, out011, out100, out101, out110, out111, B, E]\n",
    "        \n",
    "    return row_data"
   ]
  },
  {
   "cell_type": "code",
   "execution_count": 4,
   "id": "ea1c824a-9cc9-40c8-8baa-cf3548009c61",
   "metadata": {},
   "outputs": [],
   "source": [
    "def fidelities(out000, out001, out010, out011, out100, out101, out110, out111, bitval, shots):\n",
    "    '''\n",
    "    This function averages the fidelity of the clones and ancilla over experiment.\n",
    "\n",
    "    Parameters:\n",
    "    --------------\n",
    "    outijk -\n",
    "    bitval -\n",
    "    shots - Number of samples.\n",
    "\n",
    "    Returns:\n",
    "    --------------\n",
    "    bob_fidelity - Fidelity of copy sent to intended recipient (Bob).\n",
    "    eve_fidelity - Fidelity of copy kept by eavesdropper (Eve).\n",
    "    ancilla_fidelity - Fidelity of the ancilla.\n",
    "    \n",
    "    '''\n",
    "    \n",
    "    if bitval == 1:\n",
    "        bob_fidelity = (out001 + out011 + out101 + out111)/shots\n",
    "        eve_fidelity = (out010 + out011 + out110 + out111)/shots\n",
    "        #ancilla_fidelity = (out100 + out101 + out110 + out111)/shots\n",
    "        \n",
    "    if bitval == 0:\n",
    "        bob_fidelity = (out010 + out000 + out110 + out100)/shots\n",
    "        eve_fidelity = (out001 + out000 + out101 + out100)/shots\n",
    "        #ancilla_fidelity = (out000 + out001 + out010 + out011)/shots\n",
    "        \n",
    "    return bob_fidelity, eve_fidelity"
   ]
  },
  {
   "cell_type": "code",
   "execution_count": 5,
   "id": "d349f5e5-49df-469a-9d86-58c71d97fc23",
   "metadata": {},
   "outputs": [],
   "source": [
    "def get_circuit(angle, bitval, basis):\n",
    "    qc = QuantumCircuit(3,3)\n",
    "    \n",
    "    qc = ionq_alice_prepares(qc, bitval, basis)\n",
    "    qc.barrier()\n",
    "    qc = ionq_clone(qc, angle)\n",
    "    qc.barrier()\n",
    "    qc = ionq_measurement_prep(qc, basis)\n",
    "    \n",
    "    qc.measure(0,0)\n",
    "    qc.measure(1,1)\n",
    "    qc.measure(2,2)\n",
    "    return qc"
   ]
  },
  {
   "cell_type": "code",
   "execution_count": 6,
   "id": "fb747edd-562c-48a5-bb51-f2291f18dea0",
   "metadata": {},
   "outputs": [],
   "source": [
    "def experiment_qpu(angle, bitval, basis, shot_count):\n",
    "    qc = get_circuit(angle, bitval, basis)\n",
    "    \n",
    "    #ionq_qpu = provider.get_backend(\"ionq_qpu\")\n",
    "    job = native_qpu.run(qc, shots = shot_count)\n",
    "\n",
    "    job_data = [job.job_id(), angle, bitval, basis, shot_count]\n",
    "    \n",
    "    return job_data"
   ]
  },
  {
   "cell_type": "code",
   "execution_count": 7,
   "id": "5986ddfa-a705-4947-8f08-29e73a6b78b9",
   "metadata": {},
   "outputs": [],
   "source": [
    "# Random selection of angles\n",
    "def angles(N):\n",
    "    Angles = np.random.uniform(0, np.pi/4, N)\n",
    "    Angles = np.sort(Angles)\n",
    "    return Angles"
   ]
  },
  {
   "cell_type": "code",
   "execution_count": 8,
   "id": "14ddd46d-1c14-46c9-af3c-e9b6e5beeb79",
   "metadata": {},
   "outputs": [],
   "source": [
    "def record_experiment_setup(filename, Angles, bitval, basis, shots): \n",
    "    header = ['Job Number', 'Angle', 'Bit Value', 'Basis', 'Total Shots']\n",
    "\n",
    "    with open(filename, 'w', encoding = 'UTF8') as f:\n",
    "        writer = csv.writer(f)\n",
    "        writer.writerow(header)\n",
    "    \n",
    "        for j in range(N):\n",
    "            job_data = experiment_qpu(Angles[j], bitval, basis, shots)\n",
    "            writer.writerow(job_data)\n",
    "            print(job_data)\n",
    "        \n",
    "        f.close()  \n",
    "        \n",
    "        return 'Complete'"
   ]
  },
  {
   "cell_type": "code",
   "execution_count": 9,
   "id": "58e8342a-0807-4157-8f88-dff7a606efc1",
   "metadata": {},
   "outputs": [],
   "source": [
    "def record_experiment_data(filename, Angles, bitval, shots):\n",
    "    Jobs_Data = pd.read_csv(filename)\n",
    "    JobNumbers = Jobs_Data.iloc[:, 0]\n",
    "    \n",
    "    header = ['Job Number', 'Angle','Total Shots', '000', '001', '010', '011', '100', '101', '110', '111', 'Bobs Fidelity', 'Eves Fidelity']\n",
    "\n",
    "    with open(filename, 'w', encoding = 'UTF8') as f:\n",
    "        writer = csv.writer(f)\n",
    "        writer.writerow(header)\n",
    "\n",
    "        for j in range(len(JobNumbers)):\n",
    "            row_data = retrieve_data(JobNumbers[j], Angles[j], bitval, shots)\n",
    "            writer.writerow(row_data)\n",
    "\n",
    "        f.close()\n",
    "    \n",
    "    return 'Complete'"
   ]
  },
  {
   "cell_type": "code",
   "execution_count": 10,
   "id": "392a7478-109b-4bcd-a6bd-4a6e7f6465a6",
   "metadata": {},
   "outputs": [],
   "source": [
    "def get_data(filename):\n",
    "    Completed_Job_Data = pd.read_csv(filename)\n",
    "\n",
    "    JobAngles = Completed_Job_Data.iloc[:, 1]\n",
    "    BobFidelity = Completed_Job_Data.iloc[:, 11]\n",
    "    EveFidelity = Completed_Job_Data.iloc[:, 12]\n",
    "\n",
    "    JobAngles = np.array(JobAngles)\n",
    "    BobFidelity = np.array(BobFidelity)\n",
    "    EveFidelity = np.array(EveFidelity)\n",
    "    \n",
    "    return  JobAngles, BobFidelity, EveFidelity"
   ]
  },
  {
   "cell_type": "code",
   "execution_count": 11,
   "id": "6feaf769-e48d-454a-a7ce-7f946abf6f09",
   "metadata": {},
   "outputs": [],
   "source": [
    "def fidelity_curves(JobAngles, BobFidelity, EveFidelity, degree):\n",
    "    Model_Bob = np.poly1d(np.polyfit(JobAngles, BobFidelity, degree))\n",
    "    Model_Eve = np.poly1d(np.polyfit(JobAngles, EveFidelity, degree))\n",
    "    Thetas = np.linspace(0, np.pi/4, 100)\n",
    "    Model_Bob_Curve = Model_Bob(Thetas)\n",
    "    Model_Eve_Curve = Model_Eve(Thetas)\n",
    "    return Thetas, Model_Bob_Curve, Model_Eve_Curve"
   ]
  },
  {
   "cell_type": "code",
   "execution_count": 12,
   "id": "2f070cb4-3a44-4da3-a053-cb80470cf68a",
   "metadata": {},
   "outputs": [],
   "source": [
    "def QBER_Bob_exp(N, BobFidelity):\n",
    "    Q = np.ones(N)\n",
    "    Q = Q - BobFidelity\n",
    "    return Q"
   ]
  },
  {
   "cell_type": "code",
   "execution_count": 13,
   "id": "ef7b4906-c943-478f-8b6b-ff4328653731",
   "metadata": {},
   "outputs": [],
   "source": [
    "def binary_entropy(t):\n",
    "    if t == 0 or t == 1:\n",
    "        return 0\n",
    "    else:\n",
    "        return -t * np.log2(t) - (1-t) * np.log2(1-t)"
   ]
  },
  {
   "cell_type": "code",
   "execution_count": 14,
   "id": "bbb3d85e-0216-4055-a75b-e9c92adae8c0",
   "metadata": {},
   "outputs": [],
   "source": [
    "# Mutual information between Alice and Bob\n",
    "def Info_AB(Q):\n",
    "    return 1 - binary_entropy(Q)"
   ]
  },
  {
   "cell_type": "code",
   "execution_count": 15,
   "id": "a9516b10-d0b3-40f5-bcf1-952052014613",
   "metadata": {},
   "outputs": [],
   "source": [
    "# Mutual information between Alice and Eve\n",
    "def Info_AE(Q):\n",
    "    return 1 - binary_entropy(0.5 - np.sqrt(Q * (1-Q)))"
   ]
  },
  {
   "cell_type": "code",
   "execution_count": 16,
   "id": "1d510eab-52a3-4fd6-9352-d7a9417661c5",
   "metadata": {},
   "outputs": [],
   "source": [
    "# Calculate the observed mutual information using the fidelities for Bob and Eve\n",
    "def observed_mutual_info(N, Q):\n",
    "    IAB_exp = np.zeros(N)\n",
    "    IAE_exp = np.zeros(N)\n",
    "    for j in range(N):\n",
    "        IAB_exp[j] = Info_AB(Q[j])\n",
    "        IAE_exp[j] = Info_AE(Q[j])\n",
    "    return IAB_exp, IAE_exp"
   ]
  },
  {
   "cell_type": "code",
   "execution_count": 17,
   "id": "4337c6b0-774e-4539-9a42-615392c8a32b",
   "metadata": {},
   "outputs": [],
   "source": [
    "# A function that calculates the threshold error rate for Alice and Bob\n",
    "# Error rate\n",
    "def error_rate_theory(theta):\n",
    "    return 0.5 - 0.5*np.sin(2 * theta)"
   ]
  },
  {
   "cell_type": "code",
   "execution_count": 18,
   "id": "028131eb-8752-428a-8f33-9eae1c0bba21",
   "metadata": {},
   "outputs": [],
   "source": [
    "# Fitting Curvesfor the mutual information functions and calculate critical error rate and theta2 values\n",
    "def mutual_info_curves(Angles, IAB_exp, IAE_exp, degree):\n",
    "    critical_theta = 0.0\n",
    "    critical_error = 0.0\n",
    "    \n",
    "    Model_IAB = np.poly1d(np.polyfit(Angles, IAB_exp, degree))\n",
    "    Model_IAE = np.poly1d(np.polyfit(Angles, IAE_exp, degree))\n",
    "    Thetas = np.linspace(0, np.pi/4, 100)\n",
    "    Model_IAB_curve = Model_IAB(Thetas)\n",
    "    Model_IAE_curve = Model_IAE(Thetas)\n",
    "     \n",
    "    ModelDiff = Model_IAB - Model_IAE\n",
    "    Roots = np.roots(ModelDiff)\n",
    "    RealRoots = Roots[~np.iscomplex(Roots)]\n",
    "    for j in range(len(RealRoots)):\n",
    "        if RealRoots[j] >= 0 and RealRoots[j] <= np.pi/4:\n",
    "            critical_theta = RealRoots[j]\n",
    "            critical_error = error_rate_theory(RealRoots[j])\n",
    "            #print('theta2 =', RealRoots[j])\n",
    "            #print('error rate =', error_rate_theory(RealRoots[j]))\n",
    "    \n",
    "    return Thetas, Model_IAB_curve, Model_IAE_curve, critical_theta, critical_error\n",
    "    "
   ]
  },
  {
   "cell_type": "code",
   "execution_count": 19,
   "id": "d7c525a1-0b3f-4d82-a28d-2212f7f1c8a2",
   "metadata": {},
   "outputs": [],
   "source": [
    "def experiment_submit(N, shots, bitval, basis, filename):\n",
    "    # generate angles\n",
    "    JobAngles = angles(N)\n",
    "    \n",
    "    # record the experiment setup\n",
    "    print('Experimental Setup')\n",
    "    record_experiment_setup(filename, JobAngles, bitval, basis, shots)\n",
    "    \n",
    "     # record the experimental data\n",
    "    #print('Recording data from the experiment')\n",
    "    #record_experiment_data(filename, JobAngles, bitval, shots)\n",
    "    \n",
    "    return 'Experiment successfully submitted.'"
   ]
  },
  {
   "cell_type": "code",
   "execution_count": 20,
   "id": "7339ef25-9b86-48d3-9d44-22dde9493d33",
   "metadata": {},
   "outputs": [],
   "source": [
    "def analyze_data(filename, degree):\n",
    "     # get the fidelities\n",
    "    Angles, BobFidelity, EveFidelity = get_data(filename)\n",
    "    \n",
    "    # calculate Bob's QBER\n",
    "    Q = QBER_Bob_exp(N, BobFidelity)\n",
    "    \n",
    "    # get the fidelity curves\n",
    "    Thetas, Model_Bob_Curve, Model_Eve_Curve = fidelity_curves(Angles, BobFidelity, EveFidelity, degree)\n",
    "    \n",
    "    # calculate the observed mutual information\n",
    "    IAB_exp, IAE_exp = observed_mutual_info(N,Q)\n",
    "    \n",
    "    # calculate the mutual information curves and the error rate/critical angle\n",
    "    Thetas, Model_IAB_Curve, Model_IAE_Curve, critical_theta, critical_error = mutual_info_curves(Angles, IAB_exp, IAE_exp, degree)\n",
    "    \n",
    "    return critical_theta, critical_error, Thetas, Model_Bob_Curve, Model_Eve_Curve, Model_IAB_Curve, Model_IAE_Curve, BobFidelity, EveFidelity, IAB_exp, IAE_exp, Angles"
   ]
  },
  {
   "cell_type": "code",
   "execution_count": 21,
   "id": "7cf98fb7-33a2-4e0f-abdd-43a1d6247d83",
   "metadata": {},
   "outputs": [
    {
     "name": "stdout",
     "output_type": "stream",
     "text": [
      "Experimental Setup\n",
      "['307a571b-371d-411f-af5e-99277f829bc3', 0.003716027855270234, 0, 'X', 100]\n",
      "['4754a85f-107e-489d-8694-9302197ec460', 0.0063421308587682974, 0, 'X', 100]\n",
      "['45b4acdc-42dc-41fa-90e2-96d1a585fd05', 0.00887756550602324, 0, 'X', 100]\n",
      "['75af285d-62e8-44cc-8924-d5d9d41903a9', 0.01303699479671785, 0, 'X', 100]\n",
      "['0ede4a72-1ac4-4570-9eb4-d4fa362af084', 0.01969948161334427, 0, 'X', 100]\n",
      "['0d165be5-d38c-4a09-b8c2-11bd5bd1a51e', 0.0491228242447022, 0, 'X', 100]\n",
      "['ca748897-5091-4719-b370-77526c701187', 0.05014218795187679, 0, 'X', 100]\n",
      "['398559da-2581-4167-9e4a-13aeef259479', 0.05492616116406747, 0, 'X', 100]\n",
      "['0304d0c7-854a-445a-ac38-5ea8664dc250', 0.056890616365467266, 0, 'X', 100]\n",
      "['947c897e-63a7-4610-a0cd-8385f6ea73f4', 0.0592287925369579, 0, 'X', 100]\n",
      "['355b8a88-3e1b-4772-842d-c21820646e19', 0.05989334168961121, 0, 'X', 100]\n",
      "['44f084ff-387d-4f1e-b9c8-df7d9844e05f', 0.06330364928658859, 0, 'X', 100]\n",
      "['55b89f22-1e16-42a5-8765-c21a82917989', 0.06778713217092504, 0, 'X', 100]\n",
      "['80a2b8bb-5eb6-40b9-9131-8f56216afe69', 0.07679235732917751, 0, 'X', 100]\n",
      "['9413e822-c22b-4c0f-b863-9a9d4fc01cb9', 0.0841099713659581, 0, 'X', 100]\n",
      "['16819684-4e41-4915-8f5f-194fff25325f', 0.08899344160814039, 0, 'X', 100]\n",
      "['ca5b2998-fc11-4c02-a713-9c041db07504', 0.09177538456492589, 0, 'X', 100]\n",
      "['b4e29f87-8d88-4a5b-9b41-486a0ab1ff04', 0.11081108362746439, 0, 'X', 100]\n",
      "['8c0f4a81-1e0e-493b-a405-c569a95565e5', 0.11158088505767365, 0, 'X', 100]\n",
      "['80d1cd7c-ae96-482b-82f5-e8d3ea68fad2', 0.1326202052970784, 0, 'X', 100]\n",
      "['9ab734c3-cfe5-4a41-9cde-e19b819df530', 0.1329687832775986, 0, 'X', 100]\n",
      "['0a7a9e08-11c9-4293-8a77-cb63df70a6b5', 0.13570818247326663, 0, 'X', 100]\n",
      "['7ace17d7-d429-402f-bf81-be09b7bb7418', 0.13652198437555804, 0, 'X', 100]\n",
      "['c438efe2-d857-4cd4-b3da-c354aa6bdda8', 0.1384115980008087, 0, 'X', 100]\n",
      "['08ba0a64-61b5-4d9b-b62b-d9c23c4709b7', 0.14215677086777262, 0, 'X', 100]\n",
      "['947b464e-cbde-42b9-9bd2-06c6e709e867', 0.14895129699618206, 0, 'X', 100]\n",
      "['f57e3a00-9f98-40d4-8280-5b876e565b1c', 0.17156737126650715, 0, 'X', 100]\n",
      "['bc4bb699-ee99-4422-95dc-db9f47b56901', 0.17826017497026792, 0, 'X', 100]\n",
      "['51579fc7-4912-42e9-ae6a-0137a1ef57b8', 0.21084621167251885, 0, 'X', 100]\n",
      "['83f691aa-ad59-473f-902d-357b1c0a2f84', 0.2124694927093577, 0, 'X', 100]\n",
      "['da0374fb-13f7-4464-8a40-a6bda768c141', 0.22139911810899887, 0, 'X', 100]\n",
      "['2445b7cd-ad1d-4ae9-8505-5c9d00e659ba', 0.22211306523321292, 0, 'X', 100]\n",
      "['313c620a-314c-47db-a7db-a34b12d5df2a', 0.23602571747231565, 0, 'X', 100]\n",
      "['ad92791d-aa71-4772-9914-0116b76cf8e5', 0.24666665412494312, 0, 'X', 100]\n",
      "['44ef73d6-c754-46c7-b9ef-951e8a8d557a', 0.25230246837806697, 0, 'X', 100]\n",
      "['bf322e0b-4892-4021-8457-b6d0e6ca8fdc', 0.25392044110141354, 0, 'X', 100]\n",
      "['6af16b34-7687-44ce-8bfe-c47482eac0ae', 0.2556436241757074, 0, 'X', 100]\n",
      "['e1ca068c-713b-4f98-9d48-3c3b33767d52', 0.2820116813647227, 0, 'X', 100]\n",
      "['95ee01df-dbf0-462f-b087-4037001d6945', 0.28213073549834244, 0, 'X', 100]\n",
      "['e97f44bf-c166-407e-a2f4-89f502e9e694', 0.2841870765768296, 0, 'X', 100]\n",
      "['b110eb5d-a2d5-4522-b457-fd10271cca09', 0.28925534989620855, 0, 'X', 100]\n",
      "['1d44d771-4b78-47c7-bd54-52534ad8bd05', 0.29096972936281246, 0, 'X', 100]\n",
      "['79e09747-9822-4232-a466-cf144a703812', 0.30825622096661826, 0, 'X', 100]\n",
      "['f6475bd8-9088-42aa-858b-42778827532c', 0.31530729333941926, 0, 'X', 100]\n",
      "['ce366120-ec14-4262-84bc-b33c745e0550', 0.31560075663330206, 0, 'X', 100]\n",
      "['710640a3-86f1-427e-a0d5-36fb8ebaf08b', 0.32579619241001784, 0, 'X', 100]\n",
      "['c16dd217-6f4d-4c31-a071-a80ed2c50966', 0.3357282896927524, 0, 'X', 100]\n",
      "['b4235597-56d4-47a9-904c-3d7b4522f257', 0.3420184482775627, 0, 'X', 100]\n",
      "['dea0a9f7-71d1-4663-b180-37ed5e0699a5', 0.34460082059224817, 0, 'X', 100]\n",
      "['0808b541-c960-4fe4-9f57-9e103827e9c8', 0.34666179912080713, 0, 'X', 100]\n",
      "['e9ede6dd-a1a6-4427-b8df-968d6cf87862', 0.3560398427932257, 0, 'X', 100]\n",
      "['1808f7ba-f2b5-40e9-aa9a-8bd889d2f5f1', 0.35627812742070064, 0, 'X', 100]\n",
      "['7eddff89-0d37-4a8d-872b-069b88ac58e7', 0.35911780285941025, 0, 'X', 100]\n",
      "['500dc09d-57c6-4142-8836-a0397eaf61a5', 0.3788324903307095, 0, 'X', 100]\n",
      "['4347a96b-67e4-44ad-b04b-ce307c930a94', 0.3862348254849121, 0, 'X', 100]\n",
      "['f7d6fe10-2008-4b4c-90c0-c8297bbbdd57', 0.39285834421418125, 0, 'X', 100]\n",
      "['6ed3b276-37f2-41f4-80ca-bb312af3d4f1', 0.4074758047986445, 0, 'X', 100]\n",
      "['14e62e3f-1dd7-43b4-a8b8-fa411ac351a6', 0.4403765420637001, 0, 'X', 100]\n",
      "['9c0ffa9b-84bd-4780-8121-0cd4a105e4ea', 0.447735098213375, 0, 'X', 100]\n",
      "['c6003c1d-a080-46c9-9ec6-afe63d44c8f2', 0.4543055407420116, 0, 'X', 100]\n",
      "['8d2d917e-b34f-4794-959b-24581a3a871a', 0.47969524995375457, 0, 'X', 100]\n",
      "['15c4387b-8140-424a-a0ab-3be830dd578a', 0.48228014018090204, 0, 'X', 100]\n",
      "['cfb40dd2-05a3-4084-871a-031bc8130eb9', 0.48503024589833604, 0, 'X', 100]\n",
      "['0c25f122-6bf3-4225-ad37-275cbe4a5c89', 0.49106399354631947, 0, 'X', 100]\n",
      "['71f1e93e-b132-4ac2-a4ef-26a81fc51959', 0.501389577850188, 0, 'X', 100]\n",
      "['e244341b-c3fa-438c-82e8-e730e2d7036c', 0.5039955825372129, 0, 'X', 100]\n",
      "['ac6dfc82-84e2-46c2-8d00-8674375f41be', 0.513112229616594, 0, 'X', 100]\n",
      "['172a546c-128a-49cc-9d93-c2772c494e8b', 0.5305400672991846, 0, 'X', 100]\n",
      "['80b0124e-734a-40bd-88b2-4a925b50ce7e', 0.5356457389601135, 0, 'X', 100]\n",
      "['ac3c036b-eb88-4d92-881a-507ec46916ed', 0.5380976942821475, 0, 'X', 100]\n",
      "['83c862e6-b308-40e1-aa51-620026ce7204', 0.5609379977213438, 0, 'X', 100]\n",
      "['0775ecc7-2862-45ca-9fdc-19b91dc52724', 0.5620791908710907, 0, 'X', 100]\n",
      "['0e0ec0df-a8f8-4153-ac1a-158b379f5945', 0.5693981756325294, 0, 'X', 100]\n",
      "['e28c7526-7313-4af9-a2a0-0060f722df92', 0.5694819884389724, 0, 'X', 100]\n",
      "['6327b5d5-8bca-425a-914b-98daeadd1792', 0.5741921648008025, 0, 'X', 100]\n",
      "['998090df-0af4-4d51-9575-f02f74b127f4', 0.5954848175691209, 0, 'X', 100]\n",
      "['68841df0-29e5-4a97-8954-0b6eb8d2879a', 0.5994146882053971, 0, 'X', 100]\n",
      "['8359d819-f8db-4a4f-9619-73209c569bf7', 0.6053882519505248, 0, 'X', 100]\n",
      "['fc178191-f197-4ae6-94da-0e0614600709', 0.6112784438518815, 0, 'X', 100]\n",
      "['9d8591a8-e867-4f93-83b0-b2ee3a766656', 0.6509657553748783, 0, 'X', 100]\n",
      "['9ebf44c1-4fad-475c-8a68-b0ea765c8c28', 0.654723608936037, 0, 'X', 100]\n",
      "['2f8c2dd6-71b0-4a8b-a33d-d50aad5bc672', 0.6803509167726287, 0, 'X', 100]\n",
      "['0655c67c-3f86-410d-aecc-7631a38f31fb', 0.6866813384016707, 0, 'X', 100]\n",
      "['7c529a73-ada8-4d0a-a363-d5541ecd0ae2', 0.6944657187488914, 0, 'X', 100]\n",
      "['314c5534-5c5c-4087-9a39-005c03285e64', 0.7015048325217841, 0, 'X', 100]\n",
      "['96210097-d922-45f2-8876-76c421d13e8b', 0.7055964808241966, 0, 'X', 100]\n",
      "['1a20f013-be15-49ac-9ad7-090f51e64165', 0.7189071819980707, 0, 'X', 100]\n",
      "['2a9faa42-7bc9-48fe-b906-eee2b43ca6f9', 0.720378608238145, 0, 'X', 100]\n",
      "['2534dc2f-a48c-4376-8b0d-e20ddb5a42ea', 0.7241978153373881, 0, 'X', 100]\n",
      "['4f83875a-9a47-443a-9c25-cfb3def7ef11', 0.7259025950731008, 0, 'X', 100]\n",
      "['ce2e9360-4a14-4863-bf44-c50de5f30cbb', 0.7260103483034203, 0, 'X', 100]\n",
      "['e72d5583-40ef-4afa-9b61-c3c106d3cb4e', 0.7260274885688486, 0, 'X', 100]\n",
      "['f169ed3b-6aa3-4fdd-a7f9-cc0b3353fd49', 0.7277052449225486, 0, 'X', 100]\n",
      "['73f3e9f0-6131-4d73-8957-41d9aac5d4ef', 0.728476116111326, 0, 'X', 100]\n",
      "['d9e24a00-18a0-4d49-811b-211296659b1c', 0.7325167530673322, 0, 'X', 100]\n",
      "['6223a6da-732b-4cee-8646-7b0900d2e238', 0.7352524153585184, 0, 'X', 100]\n",
      "['c84c5299-a992-40c7-ba2b-7b8958585a2f', 0.7411454395928859, 0, 'X', 100]\n",
      "['97e6f8d7-589d-4531-b9a1-e06be9e2545d', 0.7517894846840041, 0, 'X', 100]\n",
      "['1765b907-683f-45bc-b168-226b01f55b18', 0.7614201379625133, 0, 'X', 100]\n",
      "['c6026ebf-8912-4308-887d-8f9e5806f388', 0.7631323845407635, 0, 'X', 100]\n"
     ]
    },
    {
     "data": {
      "text/plain": [
       "'Experiment successfully submitted.'"
      ]
     },
     "execution_count": 21,
     "metadata": {},
     "output_type": "execute_result"
    }
   ],
   "source": [
    "experiment_submit(N, shots, bitval, basis, filename)"
   ]
  },
  {
   "cell_type": "code",
   "execution_count": null,
   "id": "23b9cb93-0e2f-4261-b34b-85d72835f7de",
   "metadata": {},
   "outputs": [],
   "source": []
  },
  {
   "cell_type": "code",
   "execution_count": 22,
   "id": "6c6f0ea2-9043-4355-b022-a09f94e8b46d",
   "metadata": {},
   "outputs": [],
   "source": [
    "Jobs_Data = pd.read_csv(filename)\n",
    "JobAngles = Jobs_Data.iloc[:, 1]"
   ]
  },
  {
   "cell_type": "code",
   "execution_count": 23,
   "id": "403e5b11-6be0-43b8-9135-2e6c0f90453c",
   "metadata": {},
   "outputs": [
    {
     "data": {
      "text/plain": [
       "'Complete'"
      ]
     },
     "execution_count": 23,
     "metadata": {},
     "output_type": "execute_result"
    }
   ],
   "source": [
    "record_experiment_data(filename, JobAngles, bitval, shots)"
   ]
  },
  {
   "cell_type": "code",
   "execution_count": 24,
   "id": "8118e56f-9950-425c-813d-5db0834a3bed",
   "metadata": {},
   "outputs": [],
   "source": [
    "critical_theta, critical_error, Thetas, Model_Bob_Curve, Model_Eve_Curve, Model_IAB_Curve, Model_IAE_Curve, BobFidelity, EveFidelity, IAB_exp, IAE_exp, Angles = analyze_data(filename,3)"
   ]
  },
  {
   "cell_type": "code",
   "execution_count": 25,
   "id": "7c603a4b-ddff-4323-8507-66f784c22b0a",
   "metadata": {},
   "outputs": [
    {
     "name": "stdout",
     "output_type": "stream",
     "text": [
      "Critical angle =  (0.597220116908856+0j)\n",
      "pi/8 =  0.39269908169872414\n",
      "Critical error =  (0.03499496656799872+0j)\n",
      "Theoretical prediction =  0.1464466094067262\n"
     ]
    }
   ],
   "source": [
    "# values based on the intersection of plotted information curves\n",
    "print('Critical angle = ', critical_theta)\n",
    "print('pi/8 = ', np.pi/8)\n",
    "print('Critical error = ', critical_error)\n",
    "print('Theoretical prediction = ', 0.5 - 0.25 * np.sqrt(2))"
   ]
  },
  {
   "cell_type": "markdown",
   "id": "a45b3839-e504-4dd5-bac7-484b4f68679c",
   "metadata": {},
   "source": [
    "**Fidelity Calculations.** Below we calculate the critical error based on the intersection of the fidelity curves."
   ]
  },
  {
   "cell_type": "code",
   "execution_count": 26,
   "id": "b5c13f86-4c42-4b9f-9a7d-abad4e6f757d",
   "metadata": {},
   "outputs": [],
   "source": [
    "def fidelity_curves_intersection(JobAngles, BobFidelity, EveFidelity, degree):\n",
    "    Model_Bob = np.poly1d(np.polyfit(JobAngles, BobFidelity, degree))\n",
    "    Model_Eve = np.poly1d(np.polyfit(JobAngles, EveFidelity, degree))\n",
    "    \n",
    "    Thetas = np.linspace(0, np.pi/4, 100)\n",
    "    Model_Bob_curve = Model_Bob(Thetas)\n",
    "    Model_Eve_curve = Model_Eve(Thetas)\n",
    "    \n",
    "    ModelDiff = Model_Bob - Model_Eve\n",
    "    Roots = np.roots(ModelDiff)\n",
    "    RealRoots = Roots[~np.iscomplex(Roots)]\n",
    "    for j in range(len(RealRoots)):\n",
    "        if RealRoots[j] >= 0 and RealRoots[j] <= np.pi/4:\n",
    "            critical_theta = RealRoots[j]\n",
    "            critical_error = error_rate_theory(RealRoots[j])\n",
    "            #print('theta2 =', RealRoots[j])\n",
    "            #print('error rate =', error_rate_theory(RealRoots[j]))\n",
    "    \n",
    "    \n",
    "    return critical_theta, critical_error, Thetas, Model_Bob_curve, Model_Eve_curve"
   ]
  },
  {
   "cell_type": "code",
   "execution_count": 27,
   "id": "78653e39-9776-4b12-b90b-b923cd4eb58b",
   "metadata": {},
   "outputs": [],
   "source": [
    "JobAngles, BobFidelity, EveFidelity = get_data(filename)"
   ]
  },
  {
   "cell_type": "code",
   "execution_count": 28,
   "id": "51a10ce0-73d4-4e36-beb0-58f8c82fbd7a",
   "metadata": {},
   "outputs": [],
   "source": [
    "crit_theta, crit_error, Thetas, Model_Bob_curve, Model_Eve_curve = fidelity_curves_intersection(JobAngles, BobFidelity, EveFidelity, 2)"
   ]
  },
  {
   "cell_type": "code",
   "execution_count": 29,
   "id": "166d63cb-4874-4e62-86d7-0fb4ab197d08",
   "metadata": {},
   "outputs": [
    {
     "name": "stdout",
     "output_type": "stream",
     "text": [
      "Critical angle =  0.32558063315534663\n",
      "pi/8 =  0.39269908169872414\n",
      "Critical error =  0.19694476861741006\n",
      "Theoretical prediction =  0.1464466094067262\n"
     ]
    }
   ],
   "source": [
    "print('Critical angle = ', crit_theta)\n",
    "print('pi/8 = ', np.pi/8)\n",
    "print('Critical error = ', crit_error)\n",
    "print('Theoretical prediction = ', 0.5 - 0.25 * np.sqrt(2))"
   ]
  },
  {
   "cell_type": "code",
   "execution_count": 30,
   "id": "41ed1dd2-410f-40dc-9dc2-b9aef83b48d4",
   "metadata": {},
   "outputs": [
    {
     "data": {
      "image/png": "[encoded data removed]",
      "text/plain": [
       "<Figure size 1080x576 with 1 Axes>"
      ]
     },
     "metadata": {
      "needs_background": "light"
     },
     "output_type": "display_data"
    }
   ],
   "source": [
    "plt.figure(figsize=(15,8))\n",
    "plt.rcParams.update({'font.size': 12})\n",
    "plt.scatter(JobAngles, BobFidelity , label = \"Bob's Fidelity\",color='blue')\n",
    "plt.scatter(JobAngles, EveFidelity, label = \"Eve's Fidelity\",color='red')\n",
    "plt.plot(Thetas, Model_Bob_curve, color = 'blue')\n",
    "plt.plot(Thetas, Model_Eve_curve, color = 'red')\n",
    "#plt.yticks(np.arange(0,1.1, step = .1))\n",
    "#plt.xticks(np.arange(-np.pi/2, 5*np.pi/8, step = np.pi/8))\n",
    "plt.legend(title=\"Fidelity Curves\")\n",
    "plt.xlabel('theta_2')\n",
    "plt.show()"
   ]
  },
  {
   "cell_type": "code",
   "execution_count": null,
   "id": "7f8beacb-78af-460f-ad89-64c1d0be732a",
   "metadata": {},
   "outputs": [],
   "source": []
  }
 ],
 "metadata": {
  "kernelspec": {
   "display_name": "Python 3 (ipykernel)",
   "language": "python",
   "name": "python3"
  },
  "language_info": {
   "codemirror_mode": {
    "name": "ipython",
    "version": 3
   },
   "file_extension": ".py",
   "mimetype": "text/x-python",
   "name": "python",
   "nbconvert_exporter": "python",
   "pygments_lexer": "ipython3",
   "version": "3.8.12"
  }
 },
 "nbformat": 4,
 "nbformat_minor": 5
}
