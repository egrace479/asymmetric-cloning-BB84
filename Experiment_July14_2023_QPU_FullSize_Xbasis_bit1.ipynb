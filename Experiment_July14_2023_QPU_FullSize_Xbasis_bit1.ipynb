{
 "cells": [
  {
   "cell_type": "code",
   "execution_count": null,
   "id": "0be36a1c-9b0a-43c3-bbf5-2d4514979791",
   "metadata": {},
   "outputs": [],
   "source": []
  },
  {
   "cell_type": "code",
   "execution_count": 40,
   "id": "65db9100-9416-44eb-93a5-e5a00da911dc",
   "metadata": {},
   "outputs": [],
   "source": [
    "import numpy as np\n",
    "import matplotlib.pyplot as plt\n",
    "import csv\n",
    "import pandas as pd\n",
    "\n",
    "# from qiskit import *\n",
    "# Importing standard Qiskit libraries\n",
    "from qiskit import QuantumCircuit, QuantumRegister, ClassicalRegister\n",
    "from qiskit import IBMQ, Aer, execute, assemble, transpile\n",
    "from qiskit.visualization import plot_histogram, plot_bloch_vector\n",
    "from qiskit.visualization import plot_state_qsphere, plot_state_city, plot_bloch_multivector\n",
    "from qiskit.visualization import array_to_latex\n",
    "import qiskit.quantum_info as qi\n",
    "# from qiskit_ibm_runtime import QiskitRuntimeService\n",
    "\n",
    "from qiskit_ionq import IonQProvider\n",
    "# import gates\n",
    "from qiskit_ionq import GPIGate, GPI2Gate, MSGate\n",
    "from qiskit import Aer, execute, assemble\n",
    "from qiskit.providers.jobstatus import JobStatus\n",
    "import time\n",
    "\n",
    "from pipeline.qiskit_circuit_constructor import qiskit_alice_prepares, qiskit_measurement_prep, qiskit_clone, construct_qiskit_circuit\n",
    "from pipeline.ionq_circuit_constructor import ionq_alice_prepares\n",
    "from pipeline.ionq_circuit_constructor import ionq_measurement_prep\n",
    "from pipeline.ionq_circuit_constructor import ionq_clone\n",
    "from pipeline.ionq_circuit_constructor import construct_ionq_circuit\n",
    "#from pipeline.run_experiments import fidelities\n",
    "#from pipeline.run_experiments import get_circuit\n",
    "#from pipeline.run_experiments import run_experiment_ionq\n",
    "#from pipeline.run_experiments import run_simulation\n",
    "\n",
    "provider = IonQProvider(\"2BCQ6XP8m8wN0BPl3KawTCsAwYEBn73F\")\n",
    "native_simulator = provider.get_backend(\"ionq_simulator\", gateset=\"native\")\n",
    "native_qpu = provider.get_backend(\"ionq_qpu\", gateset=\"native\")\n",
    "\n",
    "#ionq_sim = provider.get_backend(\"ionq_simulator\")\n",
    "ionq_qpu = provider.get_backend(\"ionq_qpu\")"
   ]
  },
  {
   "cell_type": "code",
   "execution_count": 41,
   "id": "1f96eef1-c1a0-4186-97ce-a2914c84a2e5",
   "metadata": {},
   "outputs": [],
   "source": [
    "# Selection of Experiment Parameters\n",
    "N = 100 # number of randomly selected angles from 0 to pi/4\n",
    "shots = 100 # number of shots for each input angle\n",
    "basis = 'X'\n",
    "bitval = 1\n",
    "filename = 'Experiment_July14_2023_QPU_FullSize_Xbasis_bit1.csv'\n"
   ]
  },
  {
   "cell_type": "code",
   "execution_count": 42,
   "id": "6661f3f8-fcaa-4d59-a2db-73f198390ecc",
   "metadata": {},
   "outputs": [],
   "source": [
    "def retrieve_data(job_num, angle, bitval, shot_count):\n",
    "    ionq = provider.get_backend(\"ionq_qpu\")\n",
    "    retrieved = ionq.retrieve_job(job_num) \n",
    "    counts = retrieved.result().get_counts()\n",
    "    \n",
    "    out000 = retrieved.result().get_counts().get(\"000\")\n",
    "    out001 = retrieved.result().get_counts().get(\"001\")\n",
    "    out010 = retrieved.result().get_counts().get(\"010\")\n",
    "    out011 = retrieved.result().get_counts().get(\"011\")\n",
    "    out100 = retrieved.result().get_counts().get(\"100\")\n",
    "    out101 = retrieved.result().get_counts().get(\"101\")\n",
    "    out110 = retrieved.result().get_counts().get(\"110\")\n",
    "    out111 = retrieved.result().get_counts().get(\"111\")\n",
    "    \n",
    "    if out000 == None:\n",
    "        out000 = 0\n",
    "    if out001 == None:\n",
    "        out001 = 0\n",
    "    if out010 == None:\n",
    "        out010 = 0\n",
    "    if out011 == None:\n",
    "        out011 = 0\n",
    "        \n",
    "    if out100 == None:\n",
    "        out100 = 0\n",
    "    if out101 == None:\n",
    "        out101 = 0\n",
    "    if out110 == None:\n",
    "        out110 = 0\n",
    "    if out111 == None:\n",
    "        out111 = 0\n",
    "        \n",
    "    B,E = fidelities(out000, out001, out010, out011, out100, out101, out110, out111, bitval, shot_count)\n",
    "    \n",
    "    row_data = [job_num, angle, shot_count, out000, out001, out010, out011, out100, out101, out110, out111, B, E]\n",
    "        \n",
    "    return row_data"
   ]
  },
  {
   "cell_type": "code",
   "execution_count": 43,
   "id": "cf1133d6-2944-403b-b53f-e7676b7395b5",
   "metadata": {},
   "outputs": [],
   "source": [
    "def fidelities(out000, out001, out010, out011, out100, out101, out110, out111, bitval, shots):\n",
    "    '''\n",
    "    This function averages the fidelity of the clones and ancilla over experiment.\n",
    "\n",
    "    Parameters:\n",
    "    --------------\n",
    "    outijk -\n",
    "    bitval -\n",
    "    shots - Number of samples.\n",
    "\n",
    "    Returns:\n",
    "    --------------\n",
    "    bob_fidelity - Fidelity of copy sent to intended recipient (Bob).\n",
    "    eve_fidelity - Fidelity of copy kept by eavesdropper (Eve).\n",
    "    ancilla_fidelity - Fidelity of the ancilla.\n",
    "    \n",
    "    '''\n",
    "    \n",
    "    if bitval == 1:\n",
    "        bob_fidelity = (out001 + out011 + out101 + out111)/shots\n",
    "        eve_fidelity = (out010 + out011 + out110 + out111)/shots\n",
    "        #ancilla_fidelity = (out100 + out101 + out110 + out111)/shots\n",
    "        \n",
    "    if bitval == 0:\n",
    "        bob_fidelity = (out010 + out000 + out110 + out100)/shots\n",
    "        eve_fidelity = (out001 + out000 + out101 + out100)/shots\n",
    "        #ancilla_fidelity = (out000 + out001 + out010 + out011)/shots\n",
    "        \n",
    "    return bob_fidelity, eve_fidelity"
   ]
  },
  {
   "cell_type": "code",
   "execution_count": 44,
   "id": "c4739383-c98d-4db4-97ce-a20a01a54f4d",
   "metadata": {},
   "outputs": [],
   "source": [
    "def get_circuit(angle, bitval, basis):\n",
    "    qc = QuantumCircuit(3,3)\n",
    "    \n",
    "    qc = qiskit_alice_prepares(qc, bitval, basis)\n",
    "    qc.barrier()\n",
    "    qc = qiskit_clone(qc, angle)\n",
    "    qc.barrier()\n",
    "    qc = qiskit_measurement_prep(qc, basis)\n",
    "    \n",
    "    qc.measure(0,0)\n",
    "    qc.measure(1,1)\n",
    "    qc.measure(2,2)\n",
    "    return qc"
   ]
  },
  {
   "cell_type": "code",
   "execution_count": 45,
   "id": "0c412605-bf2d-46da-bbe1-744af3fdbc67",
   "metadata": {},
   "outputs": [],
   "source": [
    "def experiment_qpu(angle, bitval, basis, shot_count):\n",
    "    qc = get_circuit(angle, bitval, basis)\n",
    "    \n",
    "    #ionq_qpu = provider.get_backend(\"ionq_qpu\")\n",
    "    job = ionq_qpu.run(qc, shots = shot_count)\n",
    "\n",
    "    job_data = [job.job_id(), angle, bitval, basis, shot_count]\n",
    "    \n",
    "    return job_data"
   ]
  },
  {
   "cell_type": "code",
   "execution_count": 46,
   "id": "09e13290-d86c-47f2-bedb-503c4a3aa1f8",
   "metadata": {},
   "outputs": [],
   "source": [
    "# Random selection of angles\n",
    "def angles(N):\n",
    "    Angles = np.random.uniform(0, np.pi/4, N)\n",
    "    Angles = np.sort(Angles)\n",
    "    return Angles"
   ]
  },
  {
   "cell_type": "code",
   "execution_count": 47,
   "id": "33464606-4d05-4b83-b37f-765909c697f5",
   "metadata": {},
   "outputs": [],
   "source": [
    "def record_experiment_setup(filename, Angles, bitval, basis, shots): \n",
    "    header = ['Job Number', 'Angle', 'Bit Value', 'Basis', 'Total Shots']\n",
    "\n",
    "    with open(filename, 'w', encoding = 'UTF8') as f:\n",
    "        writer = csv.writer(f)\n",
    "        writer.writerow(header)\n",
    "    \n",
    "        for j in range(N):\n",
    "            job_data = experiment_qpu(Angles[j], bitval, basis, shots)\n",
    "            writer.writerow(job_data)\n",
    "            print(job_data)\n",
    "        \n",
    "        f.close()  \n",
    "        \n",
    "        return 'Complete'"
   ]
  },
  {
   "cell_type": "code",
   "execution_count": 48,
   "id": "f9226ea1-9aff-4dd7-95d1-00bc45fae01e",
   "metadata": {},
   "outputs": [],
   "source": [
    "def record_experiment_data(filename, Angles, bitval, shots):\n",
    "    Jobs_Data = pd.read_csv(filename)\n",
    "    JobNumbers = Jobs_Data.iloc[:, 0]\n",
    "    \n",
    "    header = ['Job Number', 'Angle','Total Shots', '000', '001', '010', '011', '100', '101', '110', '111', 'Bobs Fidelity', 'Eves Fidelity']\n",
    "\n",
    "    with open(filename, 'w', encoding = 'UTF8') as f:\n",
    "        writer = csv.writer(f)\n",
    "        writer.writerow(header)\n",
    "\n",
    "        for j in range(len(JobNumbers)):\n",
    "            row_data = retrieve_data(JobNumbers[j], Angles[j], bitval, shots)\n",
    "            writer.writerow(row_data)\n",
    "\n",
    "        f.close()\n",
    "    \n",
    "    return 'Complete'"
   ]
  },
  {
   "cell_type": "code",
   "execution_count": 49,
   "id": "8bd37e0a-c5b0-4f3d-b042-0989e78dd80c",
   "metadata": {},
   "outputs": [],
   "source": [
    "def get_data(filename):\n",
    "    Completed_Job_Data = pd.read_csv(filename)\n",
    "\n",
    "    JobAngles = Completed_Job_Data.iloc[:, 1]\n",
    "    BobFidelity = Completed_Job_Data.iloc[:, 11]\n",
    "    EveFidelity = Completed_Job_Data.iloc[:, 12]\n",
    "\n",
    "    JobAngles = np.array(JobAngles)\n",
    "    BobFidelity = np.array(BobFidelity)\n",
    "    EveFidelity = np.array(EveFidelity)\n",
    "    \n",
    "    return  JobAngles, BobFidelity, EveFidelity"
   ]
  },
  {
   "cell_type": "code",
   "execution_count": 50,
   "id": "176cd711-b30d-4730-8e80-d69448834ff0",
   "metadata": {},
   "outputs": [],
   "source": [
    "def fidelity_curves(JobAngles, BobFidelity, EveFidelity, degree):\n",
    "    Model_Bob = np.poly1d(np.polyfit(JobAngles, BobFidelity, degree))\n",
    "    Model_Eve = np.poly1d(np.polyfit(JobAngles, EveFidelity, degree))\n",
    "    Thetas = np.linspace(0, np.pi/4, 100)\n",
    "    Model_Bob_Curve = Model_Bob(Thetas)\n",
    "    Model_Eve_Curve = Model_Eve(Thetas)\n",
    "    return Thetas, Model_Bob_Curve, Model_Eve_Curve"
   ]
  },
  {
   "cell_type": "code",
   "execution_count": 51,
   "id": "05631547-225f-43fa-9dcd-42e2166388fc",
   "metadata": {},
   "outputs": [],
   "source": [
    "def QBER_Bob_exp(N, BobFidelity):\n",
    "    Q = np.ones(N)\n",
    "    Q = Q - BobFidelity\n",
    "    return Q"
   ]
  },
  {
   "cell_type": "code",
   "execution_count": 52,
   "id": "d1cbf5b3-665f-455b-93cd-78f1c4b4cbd5",
   "metadata": {},
   "outputs": [],
   "source": [
    "def binary_entropy(t):\n",
    "    if t == 0 or t == 1:\n",
    "        return 0\n",
    "    else:\n",
    "        return -t * np.log2(t) - (1-t) * np.log2(1-t)"
   ]
  },
  {
   "cell_type": "code",
   "execution_count": 53,
   "id": "3281f4c4-cb6f-4aee-9c8f-fc36a06c3b01",
   "metadata": {},
   "outputs": [],
   "source": [
    "# Mutual information between Alice and Bob\n",
    "def Info_AB(Q):\n",
    "    return 1 - binary_entropy(Q)"
   ]
  },
  {
   "cell_type": "code",
   "execution_count": 54,
   "id": "7b70026f-160e-46b3-bb3c-f9eb756a4c51",
   "metadata": {},
   "outputs": [],
   "source": [
    "# Mutual information between Alice and Eve\n",
    "def Info_AE(Q):\n",
    "    return 1 - binary_entropy(0.5 - np.sqrt(Q * (1-Q)))"
   ]
  },
  {
   "cell_type": "code",
   "execution_count": 55,
   "id": "b1ee1f21-be67-4396-a07c-67e437f1f3ae",
   "metadata": {},
   "outputs": [],
   "source": [
    "# Calculate the observed mutual information using the fidelities for Bob and Eve\n",
    "def observed_mutual_info(N, Q):\n",
    "    IAB_exp = np.zeros(N)\n",
    "    IAE_exp = np.zeros(N)\n",
    "    for j in range(N):\n",
    "        IAB_exp[j] = Info_AB(Q[j])\n",
    "        IAE_exp[j] = Info_AE(Q[j])\n",
    "    return IAB_exp, IAE_exp"
   ]
  },
  {
   "cell_type": "code",
   "execution_count": 56,
   "id": "d8b8090d-6f45-4b38-9ffc-f42904c587ca",
   "metadata": {},
   "outputs": [],
   "source": [
    "# A function that calculates the threshold error rate for Alice and Bob\n",
    "# Error rate\n",
    "def error_rate_theory(theta):\n",
    "    return 0.5 - 0.5*np.sin(2 * theta)"
   ]
  },
  {
   "cell_type": "code",
   "execution_count": 57,
   "id": "c2e44b39-1e58-4a48-868f-3c33bf5259f5",
   "metadata": {},
   "outputs": [],
   "source": [
    "# Fitting Curvesfor the mutual information functions and calculate critical error rate and theta2 values\n",
    "def mutual_info_curves(Angles, IAB_exp, IAE_exp, degree):\n",
    "    critical_theta = 0.0\n",
    "    critical_error = 0.0\n",
    "    \n",
    "    Model_IAB = np.poly1d(np.polyfit(Angles, IAB_exp, degree))\n",
    "    Model_IAE = np.poly1d(np.polyfit(Angles, IAE_exp, degree))\n",
    "    Thetas = np.linspace(0, np.pi/4, 100)\n",
    "    Model_IAB_curve = Model_IAB(Thetas)\n",
    "    Model_IAE_curve = Model_IAE(Thetas)\n",
    "     \n",
    "    ModelDiff = Model_IAB - Model_IAE\n",
    "    Roots = np.roots(ModelDiff)\n",
    "    RealRoots = Roots[~np.iscomplex(Roots)]\n",
    "    for j in range(len(RealRoots)):\n",
    "        if RealRoots[j] >= 0 and RealRoots[j] <= np.pi/4:\n",
    "            critical_theta = RealRoots[j]\n",
    "            critical_error = error_rate_theory(RealRoots[j])\n",
    "            #print('theta2 =', RealRoots[j])\n",
    "            #print('error rate =', error_rate_theory(RealRoots[j]))\n",
    "    \n",
    "    return Thetas, Model_IAB_curve, Model_IAE_curve, critical_theta, critical_error\n",
    "    "
   ]
  },
  {
   "cell_type": "code",
   "execution_count": 58,
   "id": "77b012f0-6c90-4ff8-8d3a-dcd949f77425",
   "metadata": {},
   "outputs": [],
   "source": [
    "def experiment_submit(N, shots, bitval, basis, filename):\n",
    "    # generate angles\n",
    "    JobAngles = angles(N)\n",
    "    \n",
    "    # record the experiment setup\n",
    "    print('Experimental Setup')\n",
    "    record_experiment_setup(filename, JobAngles, bitval, basis, shots)\n",
    "    \n",
    "     # record the experimental data\n",
    "    print('Recording data from the experiment')\n",
    "    record_experiment_data(filename, JobAngles, bitval, shots)\n",
    "    \n",
    "    return 'Experiment completed.'"
   ]
  },
  {
   "cell_type": "code",
   "execution_count": 59,
   "id": "467a51bf-8bf4-4e72-ac45-0be8167d833c",
   "metadata": {},
   "outputs": [],
   "source": [
    "def analyze_data(filename, degree):\n",
    "     # get the fidelities\n",
    "    Angles, BobFidelity, EveFidelity = get_data(filename)\n",
    "    \n",
    "    # calculate Bob's QBER\n",
    "    Q = QBER_Bob_exp(N, BobFidelity)\n",
    "    \n",
    "    # get the fidelity curves\n",
    "    Thetas, Model_Bob_Curve, Model_Eve_Curve = fidelity_curves(Angles, BobFidelity, EveFidelity, degree)\n",
    "    \n",
    "    # calculate the observed mutual information\n",
    "    IAB_exp, IAE_exp = observed_mutual_info(N,Q)\n",
    "    \n",
    "    # calculate the mutual information curves and the error rate/critical angle\n",
    "    Thetas, Model_IAB_Curve, Model_IAE_Curve, critical_theta, critical_error = mutual_info_curves(Angles, IAB_exp, IAE_exp, degree)\n",
    "    \n",
    "    return critical_theta, critical_error, Thetas, Model_Bob_Curve, Model_Eve_Curve, Model_IAB_Curve, Model_IAE_Curve, BobFidelity, EveFidelity, IAB_exp, IAE_exp, Angles"
   ]
  },
  {
   "cell_type": "code",
   "execution_count": 22,
   "id": "0b928acd-40f4-4ee0-8678-ac7c8c52221d",
   "metadata": {},
   "outputs": [
    {
     "name": "stdout",
     "output_type": "stream",
     "text": [
      "Experimental Setup\n",
      "['2ea1b8f3-5b3c-4f36-bcae-e3648b4a6a7b', 0.002467140480134608, 1, 'X', 100]\n",
      "['6af7b3b1-8188-4ea4-9ed8-a8177857fab4', 0.024726571944787546, 1, 'X', 100]\n",
      "['f4e07c38-24d9-48ae-b74f-16d779b87332', 0.03966674761931291, 1, 'X', 100]\n",
      "['3e604206-1e22-498f-8ff8-aba8f558365d', 0.05692226852176516, 1, 'X', 100]\n",
      "['dd874eed-5c86-43bb-8594-18d4fda905a9', 0.061972193304089554, 1, 'X', 100]\n",
      "['cb6cea42-d97f-4af5-b6f3-2a8190255f14', 0.08356233491996651, 1, 'X', 100]\n",
      "['c3cdf4ae-7d38-4476-abf4-d4e9ed692ca5', 0.09977228223609924, 1, 'X', 100]\n",
      "['e8023f5e-af93-437b-9417-1e31559a4ec1', 0.11328454631888471, 1, 'X', 100]\n",
      "['5b1ebdb0-7682-4350-b7d2-f906f8058248', 0.12200035768255196, 1, 'X', 100]\n",
      "['5957c4cf-c56b-409a-a1d0-fbb2d8962420', 0.1257272196358486, 1, 'X', 100]\n",
      "['47d64f42-e3b2-40ee-a559-67c38d603498', 0.13450201203063286, 1, 'X', 100]\n",
      "['545d126a-4840-4d8f-9728-98864f87148a', 0.13618233218547843, 1, 'X', 100]\n",
      "['52ad95da-c4e4-45a5-8294-5ff4fa410b25', 0.14359876421069914, 1, 'X', 100]\n",
      "['609688f7-afcf-4ffc-b87e-8977144257dc', 0.1446719954006562, 1, 'X', 100]\n",
      "['238556ed-d6e1-4b59-bc32-f1ee4f39ce8a', 0.1464525797468369, 1, 'X', 100]\n",
      "['c8893876-6891-4df5-9556-6986ebe85dcc', 0.14915263258293146, 1, 'X', 100]\n",
      "['7746f147-d2f2-408d-bcab-34ad2680c7bb', 0.16100848684567975, 1, 'X', 100]\n",
      "['d68387e1-36ce-4453-ad90-a7784b36fc61', 0.16785931857847014, 1, 'X', 100]\n",
      "['1e19044f-1969-4d1a-8977-d688a94cb8f7', 0.1697733212142184, 1, 'X', 100]\n",
      "['65f2b426-cdcc-410a-bdf5-881420effd4e', 0.1702340908938499, 1, 'X', 100]\n",
      "['e7f582a2-2137-49bf-943f-c56cf66a4249', 0.17166109568519228, 1, 'X', 100]\n",
      "['d4ded970-a507-4340-80a1-980a690f95ce', 0.19541180751842746, 1, 'X', 100]\n",
      "['dfeeabdf-9323-493d-ab14-55de71d8e0bf', 0.19602187552213887, 1, 'X', 100]\n",
      "['23a7f722-9d54-458a-b1c7-498f558f72ea', 0.1965046105878951, 1, 'X', 100]\n",
      "['5377ab03-a3cd-40d6-b9ed-e3ff25e6e41f', 0.19675942389879345, 1, 'X', 100]\n",
      "['6e629fd8-8339-406d-a2d6-38ec833eea22', 0.19947115260783047, 1, 'X', 100]\n",
      "['f4f16ff4-2a4a-4d4c-b04e-f33cac175bf9', 0.20060852934687798, 1, 'X', 100]\n",
      "['a833a9f2-7e9d-4f81-866a-48a34e102e2c', 0.20758482550797128, 1, 'X', 100]\n",
      "['d39bcf45-549f-4487-9aa6-e077abcffc1a', 0.20986346932279035, 1, 'X', 100]\n",
      "['17b7a93f-4314-4306-8aae-5514a73b2156', 0.22550111744476817, 1, 'X', 100]\n",
      "['c21a1e54-2bc1-4ec6-aadd-7f36d2ea1d55', 0.2311140642973687, 1, 'X', 100]\n",
      "['46b15869-2823-40f4-99a6-73cfcc8d27d6', 0.23917242939736685, 1, 'X', 100]\n",
      "['314ce8cb-6e03-446d-9c15-f91fcf54d916', 0.24124923981358107, 1, 'X', 100]\n",
      "['c00e9fc0-5fe9-4ec9-9621-e14362eaad31', 0.25294689137331733, 1, 'X', 100]\n",
      "['17d3391b-ce69-4d66-8a3a-5d32192e9960', 0.26706460540807575, 1, 'X', 100]\n",
      "['cbb6492d-1169-4753-811a-bb3c199a5f2d', 0.2680697360103718, 1, 'X', 100]\n",
      "['ae5f6630-3fe2-4930-8b62-f08d82cfad39', 0.27498014974963625, 1, 'X', 100]\n",
      "['f2486520-bd35-4fea-bc14-10580608261c', 0.2774228266914793, 1, 'X', 100]\n",
      "['6899be34-733f-42e2-b4e8-af4b0bd72084', 0.2826435472837567, 1, 'X', 100]\n",
      "['dd154676-4f8c-4bce-a769-97b8cbf0d7ee', 0.30459889940049517, 1, 'X', 100]\n",
      "['ae64318b-2107-4b6f-b7f7-89c51bc30a76', 0.3192763577848084, 1, 'X', 100]\n",
      "['35ba19ea-2085-4fcf-8dd7-c8a6b8c7dfba', 0.32276403399357245, 1, 'X', 100]\n",
      "['628a6418-ec10-47dd-a2fc-5da9493293de', 0.3309932019118823, 1, 'X', 100]\n",
      "['b356c3a5-9dda-4a89-85d1-a23ec49bb804', 0.33647778924654176, 1, 'X', 100]\n",
      "['d522229c-f498-4e96-a0e6-35b984c16872', 0.34066764600202837, 1, 'X', 100]\n",
      "['e89d82b1-b48a-407f-9706-6d1e5bb0e3db', 0.34285456963515293, 1, 'X', 100]\n",
      "['96290e11-f6fa-4354-b847-64ebd8688b49', 0.369507754367226, 1, 'X', 100]\n",
      "['2ba5fac0-d00d-4c95-8046-d95356cf4dde', 0.3872227337014987, 1, 'X', 100]\n",
      "['33359b7c-c6bf-479a-9920-cc202974e86f', 0.4027216753120402, 1, 'X', 100]\n",
      "['7530db13-c6a6-4146-8765-8849c258da29', 0.41059872567441813, 1, 'X', 100]\n",
      "['bc9b6380-e137-42f9-acb3-37c4fee49393', 0.4110374968709101, 1, 'X', 100]\n",
      "['2e371ed4-d522-4a38-9012-fefb87ac0a43', 0.41640058167193134, 1, 'X', 100]\n",
      "['f9e6bc86-a8cb-46f6-adde-ba04d58943e4', 0.42280608321200813, 1, 'X', 100]\n",
      "['5d94b303-8841-4bba-9705-d270c5fe6a57', 0.43556616812811605, 1, 'X', 100]\n",
      "['9e3082e2-03b7-42c0-a38c-cce6f4aad208', 0.4358922637080342, 1, 'X', 100]\n",
      "['afef44a7-a60f-4e81-b0df-b652869216f3', 0.44230286538138675, 1, 'X', 100]\n",
      "['26fdb7f9-f7e2-499c-874f-9f9ffa7beb14', 0.45129132488087315, 1, 'X', 100]\n",
      "['13b1d26b-7c7a-433f-aae1-e34976b58ba0', 0.45805934081502586, 1, 'X', 100]\n",
      "['84c4d844-95cf-4147-9a3c-beb8f9a05d86', 0.4682712968230257, 1, 'X', 100]\n",
      "['866d0c5a-1fa1-4dc5-adc5-bc61fe48d818', 0.4731715238958305, 1, 'X', 100]\n",
      "['897e8050-984e-4813-bda2-0cf6ce9f36d4', 0.49082646331965607, 1, 'X', 100]\n",
      "['971bff02-45e4-43db-b941-c7db90f8117d', 0.5279089595937945, 1, 'X', 100]\n",
      "['fdc3a48f-86b3-4cdd-b811-c3ff7d251af1', 0.5342011475291274, 1, 'X', 100]\n",
      "['47ea9449-a2c9-477a-a604-7203f3aa9e23', 0.5376716269731104, 1, 'X', 100]\n",
      "['ad35cadf-6624-4b84-8dc4-4c5ff98b6c68', 0.5392101351973612, 1, 'X', 100]\n",
      "['9e0bd654-0ecb-4129-8445-d0ac764a2304', 0.544212000577575, 1, 'X', 100]\n",
      "['af586db5-a827-4e2f-ad4b-e0f3b459b00c', 0.5500033033896148, 1, 'X', 100]\n",
      "['b43a34e1-788d-4299-8794-2214e05ab902', 0.5674600576779375, 1, 'X', 100]\n",
      "['2868c7e0-fec1-4aee-adf9-3d30924fe2cf', 0.5812931463905859, 1, 'X', 100]\n",
      "['43aecd83-3c34-4659-b7d1-a0fcd6dc177e', 0.586171539709145, 1, 'X', 100]\n",
      "['d0f41544-ed41-434e-9e1e-b345477b160c', 0.5887108625946132, 1, 'X', 100]\n",
      "['8eb3c2fb-81e7-4910-a785-e1b9017b3108', 0.589981975702817, 1, 'X', 100]\n",
      "['9c01e6a8-3bef-4ff8-8e8c-1809449bd9ac', 0.5959653204810832, 1, 'X', 100]\n",
      "['32c4e130-522f-44e3-92f6-4dab9fc2122c', 0.6011243062787337, 1, 'X', 100]\n",
      "['82f006e9-f975-4225-9e45-55e1ca46cb5f', 0.603444376857829, 1, 'X', 100]\n",
      "['fd58ebe0-3a9a-4322-8940-b53bcf1b9970', 0.6075613901907182, 1, 'X', 100]\n",
      "['b93e6cd8-3e00-41c7-a513-d009b2aa5903', 0.6301558391827025, 1, 'X', 100]\n",
      "['d0fb8d5b-a247-4490-b6a4-6e1fcaa60617', 0.6350371190200328, 1, 'X', 100]\n",
      "['e518f4b7-2df5-446a-932e-9c057048738c', 0.6354340238576472, 1, 'X', 100]\n",
      "['09b907ae-bdd0-456a-a16a-d4ebe2a575ca', 0.6424891799141599, 1, 'X', 100]\n",
      "['5d401ac6-bf91-486f-80ba-fcc1bbec2212', 0.6482861065705893, 1, 'X', 100]\n",
      "['38c75820-071c-47c2-bd32-a4c708e532ac', 0.6623397220134773, 1, 'X', 100]\n",
      "['7f05d07d-acd0-4f2d-901f-4a0152c0ff5a', 0.6644869121762106, 1, 'X', 100]\n",
      "['fc0824d8-27c9-46e2-b748-676940bbffd6', 0.6683361919726091, 1, 'X', 100]\n",
      "['fcd8f767-2849-4075-96ea-38c8ec9d9dcd', 0.6692306906878406, 1, 'X', 100]\n",
      "['f6df989d-668d-4b46-a883-b14abe799839', 0.6807385310107801, 1, 'X', 100]\n",
      "['e2f79966-3393-4ac2-bc17-7dd7e406a0ce', 0.681235083859286, 1, 'X', 100]\n",
      "['a7c72cbd-ce6d-422b-aa97-6fb5aa8f4f35', 0.6935636020382018, 1, 'X', 100]\n",
      "['7742f7eb-412e-4924-8adf-5a7773f58678', 0.7046855802986957, 1, 'X', 100]\n",
      "['0fabcd44-1f09-4c33-bdea-feb74dacd659', 0.7047037000178522, 1, 'X', 100]\n",
      "['18241db9-1b12-4616-a1d3-5a4bd3acbe77', 0.7300041177078527, 1, 'X', 100]\n",
      "['4fea603b-4e19-4ca7-b9bc-19877a487b56', 0.7483204318588138, 1, 'X', 100]\n",
      "['2c8eb140-154a-409c-b81a-de2775b0a152', 0.7613858487558133, 1, 'X', 100]\n",
      "['2b09f590-46f4-4d10-b744-8e01498b5e11', 0.7748839545984121, 1, 'X', 100]\n",
      "['b09afcb1-5bc3-4f14-9467-fec5becfb786', 0.7753201733488937, 1, 'X', 100]\n",
      "['f00decfb-906d-4806-88a4-4e803fa88720', 0.7754836820529789, 1, 'X', 100]\n",
      "['b7078f47-1a81-4cb3-9cd0-f2dba9fd12f9', 0.780295684844526, 1, 'X', 100]\n",
      "['3b02e784-1c12-4595-9786-d2c2c5eea2d7', 0.7817809189064375, 1, 'X', 100]\n",
      "['753515bd-d2de-4bac-8295-58525c54d0ff', 0.7834162149526446, 1, 'X', 100]\n",
      "['a7f133a1-d0bf-4269-bb40-7e1e401324ce', 0.7846988096995592, 1, 'X', 100]\n",
      "Recording data from the experiment\n"
     ]
    },
    {
     "data": {
      "text/plain": [
       "'Experiment completed.'"
      ]
     },
     "execution_count": 22,
     "metadata": {},
     "output_type": "execute_result"
    }
   ],
   "source": [
    "experiment_submit(N, shots, bitval, basis, filename)"
   ]
  },
  {
   "cell_type": "code",
   "execution_count": null,
   "id": "fdf28e79-aece-4747-a1d4-ef71f3e3707b",
   "metadata": {},
   "outputs": [],
   "source": []
  },
  {
   "cell_type": "code",
   "execution_count": 60,
   "id": "63bacf1d-6824-45f5-ac43-23fbf469fdbb",
   "metadata": {},
   "outputs": [],
   "source": [
    "critical_theta, critical_error, Thetas, Model_Bob_Curve, Model_Eve_Curve, Model_IAB_Curve, Model_IAE_Curve, BobFidelity, EveFidelity, IAB_exp, IAE_exp, Angles = analyze_data(filename,3)"
   ]
  },
  {
   "cell_type": "code",
   "execution_count": 61,
   "id": "6332d56d-d394-40ed-834a-867102225800",
   "metadata": {},
   "outputs": [
    {
     "name": "stdout",
     "output_type": "stream",
     "text": [
      "Critical angle =  0.6267830356444861\n",
      "pi/8 =  0.39269908169872414\n",
      "Critical error =  0.024948477526180013\n",
      "Theoretical prediction =  0.1464466094067262\n"
     ]
    }
   ],
   "source": [
    "print('Critical angle = ', critical_theta)\n",
    "print('pi/8 = ', np.pi/8)\n",
    "print('Critical error = ', critical_error)\n",
    "print('Theoretical prediction = ', 0.5 - 0.25 * np.sqrt(2))"
   ]
  },
  {
   "cell_type": "code",
   "execution_count": 37,
   "id": "de979605-4697-42b1-9509-4138fabff792",
   "metadata": {},
   "outputs": [
    {
     "data": {
      "image/png": "[encoded data removed]",
      "text/plain": [
       "<Figure size 1080x576 with 1 Axes>"
      ]
     },
     "metadata": {
      "needs_background": "light"
     },
     "output_type": "display_data"
    }
   ],
   "source": [
    "plt.figure(figsize=(15,8))\n",
    "plt.rcParams.update({'font.size': 12})\n",
    "plt.scatter(Angles, IAB_exp, label = \"I(A;B) (Experimental)\",color='blue')\n",
    "plt.scatter(Angles, IAE_exp, label = \"I(A;E) (Experimental)\",color='red')\n",
    "plt.plot(Thetas, Model_IAB_Curve, color = 'blue')\n",
    "plt.plot(Thetas, Model_IAE_Curve, color = 'red')\n",
    "#plt.yticks(np.arange(0,1.1, step = .1))\n",
    "#plt.xticks(np.arange(-np.pi/2, 5*np.pi/8, step = np.pi/8))\n",
    "plt.legend(title=\"Mutual Information\")\n",
    "\n",
    "plt.xlabel('theta_2')\n",
    "plt.show()"
   ]
  },
  {
   "cell_type": "code",
   "execution_count": 67,
   "id": "af86d4b8-441f-4faa-8fb4-b25cc6e60e78",
   "metadata": {},
   "outputs": [],
   "source": [
    "def fidelity_curves_intersection(JobAngles, BobFidelity, EveFidelity, degree):\n",
    "    Model_Bob = np.poly1d(np.polyfit(JobAngles, BobFidelity, degree))\n",
    "    Model_Eve = np.poly1d(np.polyfit(JobAngles, EveFidelity, degree))\n",
    "    \n",
    "    Thetas = np.linspace(0, np.pi/4, 100)\n",
    "    Model_Bob_curve = Model_Bob(Thetas)\n",
    "    Model_Eve_curve = Model_Eve(Thetas)\n",
    "    \n",
    "    ModelDiff = Model_Bob - Model_Eve\n",
    "    Roots = np.roots(ModelDiff)\n",
    "    RealRoots = Roots[~np.iscomplex(Roots)]\n",
    "    for j in range(len(RealRoots)):\n",
    "        if RealRoots[j] >= 0 and RealRoots[j] <= np.pi/4:\n",
    "            critical_theta = RealRoots[j]\n",
    "            critical_error = error_rate_theory(RealRoots[j])\n",
    "            #print('theta2 =', RealRoots[j])\n",
    "            #print('error rate =', error_rate_theory(RealRoots[j]))\n",
    "    \n",
    "    \n",
    "    return critical_theta, critical_error, Thetas, Model_Bob_curve, Model_Eve_curve"
   ]
  },
  {
   "cell_type": "code",
   "execution_count": 63,
   "id": "8fb57e7e-51c2-4e19-8505-2015be98381b",
   "metadata": {},
   "outputs": [],
   "source": [
    "JobAngles, BobFidelity, EveFidelity = get_data(filename)"
   ]
  },
  {
   "cell_type": "code",
   "execution_count": 75,
   "id": "f0f6563e-5dd7-4192-8015-28cc804d3862",
   "metadata": {},
   "outputs": [],
   "source": [
    "crit_theta, crit_error, Thetas, Model_Bob_curve, Model_Eve_curve = fidelity_curves_intersection(JobAngles, BobFidelity, EveFidelity, 3)"
   ]
  },
  {
   "cell_type": "code",
   "execution_count": 76,
   "id": "0f8d61d8-90a3-4ab3-b32a-68d35e442c13",
   "metadata": {},
   "outputs": [
    {
     "name": "stdout",
     "output_type": "stream",
     "text": [
      "Critical angle =  0.4049345338880788\n",
      "pi/8 =  0.39269908169872414\n",
      "Critical error =  0.13790155470053939\n",
      "Theoretical prediction =  0.1464466094067262\n"
     ]
    }
   ],
   "source": [
    "print('Critical angle = ', crit_theta)\n",
    "print('pi/8 = ', np.pi/8)\n",
    "print('Critical error = ', crit_error)\n",
    "print('Theoretical prediction = ', 0.5 - 0.25 * np.sqrt(2))"
   ]
  },
  {
   "cell_type": "code",
   "execution_count": 77,
   "id": "33470cb2-f408-42e5-8edb-b9754c10c77e",
   "metadata": {},
   "outputs": [
    {
     "data": {
      "image/png": "[encoded data removed]",
      "text/plain": [
       "<Figure size 1080x576 with 1 Axes>"
      ]
     },
     "metadata": {
      "needs_background": "light"
     },
     "output_type": "display_data"
    }
   ],
   "source": [
    "plt.figure(figsize=(15,8))\n",
    "plt.rcParams.update({'font.size': 12})\n",
    "plt.scatter(JobAngles, BobFidelity , label = \"Bob's Fidelity\",color='blue')\n",
    "plt.scatter(JobAngles, EveFidelity, label = \"Eve's Fidelity\",color='red')\n",
    "plt.plot(Thetas, Model_Bob_curve, color = 'blue')\n",
    "plt.plot(Thetas, Model_Eve_curve, color = 'red')\n",
    "#plt.yticks(np.arange(0,1.1, step = .1))\n",
    "#plt.xticks(np.arange(-np.pi/2, 5*np.pi/8, step = np.pi/8))\n",
    "plt.legend(title=\"Fidelity Curves\")\n",
    "plt.xlabel('theta_2')\n",
    "plt.show()"
   ]
  },
  {
   "cell_type": "code",
   "execution_count": null,
   "id": "d3c7ef21-26c7-4b4c-9692-846af608f8c0",
   "metadata": {},
   "outputs": [],
   "source": []
  }
 ],
 "metadata": {
  "kernelspec": {
   "display_name": "Python 3 (ipykernel)",
   "language": "python",
   "name": "python3"
  },
  "language_info": {
   "codemirror_mode": {
    "name": "ipython",
    "version": 3
   },
   "file_extension": ".py",
   "mimetype": "text/x-python",
   "name": "python",
   "nbconvert_exporter": "python",
   "pygments_lexer": "ipython3",
   "version": "3.8.12"
  }
 },
 "nbformat": 4,
 "nbformat_minor": 5
}
